{
 "cells": [
  {
   "cell_type": "code",
   "execution_count": 1,
   "metadata": {
    "collapsed": true
   },
   "outputs": [],
   "source": [
    "import pandas as pd\n",
    "import numpy as np\n",
    "from sklearn.model_selection import StratifiedKFold, KFold\n",
    "from collections import defaultdict"
   ]
  },
  {
   "cell_type": "code",
   "execution_count": 2,
   "metadata": {
    "collapsed": true
   },
   "outputs": [],
   "source": [
    "nrows = 200000\n",
    "df1 = pd.DataFrame({'Var1' : np.random.randint(low=0, high=12, size=nrows),\n",
    "                    'Var2' : np.random.randint(low=0, high=6, size=nrows),\n",
    "                    'y' : np.random.randint(low=0, high=2, size=nrows)})"
   ]
  },
  {
   "cell_type": "code",
   "execution_count": 3,
   "metadata": {
    "collapsed": true
   },
   "outputs": [],
   "source": [
    " def KFoldTargetEncoding(x,\n",
    "                         inner_splits,\n",
    "                         group_col,\n",
    "                         target_col,\n",
    "                         n_col_name,\n",
    "                         alpha,\n",
    "                         noise_std):\n",
    "    \"\"\"KFold Target Encoding. \n",
    "       For each fold, fill-in values in `group_col` using other folds.\n",
    "       :math:`\\frac{local\\_mean \\cdot nrows + global\\_mean \\cdot \\alpha}{nrows + \\alpha} + \\mathcal{N}(0, std^{2})`\n",
    "\n",
    "       \n",
    "    Args:\n",
    "      x : pandas data frame.\n",
    "      inner_splits : list. Indices for each fold.\n",
    "      group_col : str. Name of column for which the average target response\n",
    "                       will be calculated.\n",
    "      target_col : str. Name of target column.\n",
    "      n_col_name : str. Name of new column.\n",
    "      alpha : float. Regularisation parameter which regulates trade-off\n",
    "                     between local (within-group) mean and global mean.\n",
    "      noise_std: float. St. dev in `N(0, std)` noise.\n",
    "      \n",
    "    Returns:\n",
    "      Pandas Series of the same length as `x` containing encoded target.\n",
    "    \"\"\"\n",
    "    ## initialise new column\n",
    "    x[n_col_name] = 0.0\n",
    "    ## iterate over inner folds\n",
    "    for j in range(len(inner_splits)):\n",
    "        ## calculate new column values on all except for j\n",
    "        fill_idx = inner_splits[j]\n",
    "        ## at which idx to calculate\n",
    "        calc_idx = np.concatenate(inner_splits[:j] + inner_splits[(j + 1):])\n",
    "\n",
    "        x.loc[fill_idx, n_col_name] = targetEncoding(x.loc[calc_idx, [group_col, target_col]],\n",
    "                                                     x.loc[fill_idx, [group_col]],\n",
    "                                                     group_col,\n",
    "                                                     target_col,\n",
    "                                                     alpha,\n",
    "                                                     noise_std)\n",
    "    return x[n_col_name]"
   ]
  },
  {
   "cell_type": "code",
   "execution_count": 4,
   "metadata": {
    "collapsed": true
   },
   "outputs": [],
   "source": [
    "def targetEncoding(x_calc,\n",
    "                   x_fill,\n",
    "                   group_col,\n",
    "                   target_col,\n",
    "                   alpha,\n",
    "                   noise_std):\n",
    "    \"\"\"Target Encoding.\n",
    "       Fill-in values for values of `group_col` for `x_fill` from `x_calc`.\n",
    "       :math:`\\frac{local\\_mean \\cdot nrows + global\\_mean \\cdot \\alpha}{nrows + \\alpha} + \\mathcal{N}(0, std^{2})`\n",
    "\n",
    "       \n",
    "    Args:\n",
    "      x_calc : pd data frame. Used for calculating target statistics.\n",
    "      x_fill : pd data frame. Used for filling-in statistics.\n",
    "      group_col : str. Name of column for which the average target response\n",
    "                       will be calculated.\n",
    "      target_col : str. Name of target column.\n",
    "      alpha : float. Regularisation parameter which regulates trade-off\n",
    "                     between local (within-group) mean and global mean.\n",
    "      noise_std: float. St. dev in `N(0, std)` noise.\n",
    "      \n",
    "    Returns:\n",
    "      Pandas Series of the same length as `x_fill`.\n",
    "    \"\"\"\n",
    "    ## global mean\n",
    "    global_mean = x_calc[target_col].mean()\n",
    "    ## dictionary: if key is not presented, replace by global mean\n",
    "    calc_dict = defaultdict(lambda : global_mean)      \n",
    "    ## update dictionary\n",
    "    calc_dict.update(x_calc\n",
    "                     .groupby(group_col)\n",
    "                     .apply(lambda x: (((np.mean(x[target_col]) * len(x)) +\n",
    "                                        alpha * global_mean) /\n",
    "                                        (len(x) + alpha)))\n",
    "                     .to_dict())\n",
    "    return (x_fill\n",
    "            .loc[:, group_col]\n",
    "            .apply(lambda x: calc_dict[x]) +\n",
    "            np.random.normal(0, noise_std, size=len(x_fill))\n",
    "           )"
   ]
  },
  {
   "cell_type": "code",
   "execution_count": 5,
   "metadata": {
    "collapsed": true
   },
   "outputs": [],
   "source": [
    "def HypeNKFoldCV(x,\n",
    "                 group_cols,\n",
    "                 target_col,\n",
    "                 clf,\n",
    "                 nfolds,\n",
    "                 kfolds,\n",
    "                 alpha,\n",
    "                 noise_std,\n",
    "                 scorer):\n",
    "    \"\"\"Hype NKFold Cross-Validation.\n",
    "       Performs target encoding for each of `group_cols`,\n",
    "       and evaluate the performance using two-staged folding.\n",
    "       :math:`\\frac{local\\_mean \\cdot nrows + global\\_mean \\cdot \\alpha}{nrows + \\alpha} + \\mathcal{N}(0, std^{2})`\n",
    "       \n",
    "    Args:\n",
    "      x : input data frame. Must contain all `group_cols` and `target_col`.\n",
    "          During training, we use all columns but `target_col` for training.\n",
    "      group_cols : list of str. Names of columns for which the average target response\n",
    "                   will be calculated.\n",
    "      target_col : str. Name of target column.\n",
    "      clf : classifier object. Must have `fit` or `train` methods, \n",
    "                               `predict` or `test` methods.\n",
    "      nfolds : int. Number of outer folds.\n",
    "      kfolds : int. Number of inner folds.\n",
    "      alpha : float. Regularisation parameter which regulates trade-off\n",
    "                     between local (within-group) mean and global mean.\n",
    "      noise_std: float. St. dev in `N(0, std)` noise.\n",
    "      scorer : function. Evaluation metric; must take two arguments:\n",
    "               a vector of predictions and a vector of ground truth values.\n",
    "      \n",
    "    Returns:\n",
    "      A list of `N` scores.\n",
    "    \"\"\"\n",
    "    ## all indices\n",
    "    all_idx = x.copy().index.values\n",
    "    ## will shuffle indices for randomisation\n",
    "    np.random.shuffle(all_idx)\n",
    "    ## outer splits indices\n",
    "    outer_splits = np.array_split(all_idx, nfolds)\n",
    "    ## scorer results\n",
    "    scores_val = []\n",
    "    ## outer cycle\n",
    "    for i in range(nfolds):\n",
    "        ## keep `i`-th fold for validation\n",
    "        val_idx = outer_splits[i]\n",
    "        x_val = x.loc[val_idx].copy()\n",
    "        ## choose all but `i`-th split\n",
    "        inner_idx = np.concatenate(outer_splits[:i] + outer_splits[(i + 1):])\n",
    "        ## further randomise training indices\n",
    "        np.random.shuffle(inner_idx)\n",
    "        ## split others further\n",
    "        inner_splits = np.array_split(inner_idx, kfolds)\n",
    "        ## training data frame\n",
    "        x_train = x.loc[inner_idx].copy()\n",
    "        ## iterate over group cols\n",
    "        for group_col in group_cols:\n",
    "            n_col_name = '_'.join([group_col, target_col])\n",
    "            ## encode using division into KFolds\n",
    "            x_train.loc[:, n_col_name] = KFoldTargetEncoding(x_train[[group_col, target_col]].copy(),\n",
    "                                                             inner_splits,\n",
    "                                                             group_col,\n",
    "                                                             target_col,\n",
    "                                                             n_col_name,\n",
    "                                                             alpha,          \n",
    "                                                             noise_std)\n",
    "            ## filling in the same column on val\n",
    "            ## using whole `x_train`\n",
    "            x_val.loc[:, n_col_name] = targetEncoding(x_train.loc[:, [group_col, target_col]],\n",
    "                                                      x_val.loc[:, [group_col]],\n",
    "                                                      group_col,\n",
    "                                                      target_col,\n",
    "                                                      alpha,\n",
    "                                                      noise_std)\n",
    "        \n",
    "        ## will train on x_train\n",
    "        ## will validate on x_val\n",
    "        if 'fit' in dir(clf):\n",
    "            clf.fit(x_train.drop(target_col, axis=1), x_train[target_col])\n",
    "            preds_val = clf.predict(x_val.drop(target_col, axis=1))\n",
    "        elif 'train' in dir(clf):\n",
    "            clf.train(x_train.drop(target_col, axis=1), x_train[target_col])\n",
    "            preds_val = clf.test(x_val.drop(target_col, axis=1)).argmax(axis=1)\n",
    "        else:\n",
    "            raise Exception(\"`clf` must contain either (`fit` and `predict`) or\"\n",
    "                            \" (`train` and `test`) methods\")\n",
    "        scores_val.append(scorer(x_val[target_col], preds_val))\n",
    "    return scores_val"
   ]
  },
  {
   "cell_type": "code",
   "execution_count": 6,
   "metadata": {
    "collapsed": true
   },
   "outputs": [],
   "source": [
    "from sklearn.linear_model import LogisticRegression\n",
    "from sklearn.metrics import f1_score"
   ]
  },
  {
   "cell_type": "code",
   "execution_count": 7,
   "metadata": {
    "collapsed": true
   },
   "outputs": [],
   "source": [
    "clf = LogisticRegression()"
   ]
  },
  {
   "cell_type": "code",
   "execution_count": 8,
   "metadata": {},
   "outputs": [
    {
     "data": {
      "text/plain": [
       "[0.27686113807110252,\n",
       " 0.2912010185316169,\n",
       " 0.41574988939684415,\n",
       " 0.33520224269122945,\n",
       " 0.32202352621200786]"
      ]
     },
     "execution_count": 8,
     "metadata": {},
     "output_type": "execute_result"
    }
   ],
   "source": [
    "HypeNKFoldCV(df1,\n",
    "             ['Var1', 'Var2'],\n",
    "             'y',\n",
    "             clf,\n",
    "             5,\n",
    "             4,\n",
    "             10,\n",
    "             0.00001,\n",
    "             f1_score)"
   ]
  },
  {
   "cell_type": "code",
   "execution_count": 246,
   "metadata": {},
   "outputs": [
    {
     "name": "stdout",
     "output_type": "stream",
     "text": [
      "5 loops, best of 3: 4.19 s per loop\n"
     ]
    }
   ],
   "source": [
    "%%timeit -n 5\n",
    "HypeNKFoldCV(df1,\n",
    "             ['Var1', 'Var2'],\n",
    "             'y',\n",
    "             clf,\n",
    "             5,\n",
    "             4,\n",
    "             10,\n",
    "             0.00001,\n",
    "             f1_score)"
   ]
  },
  {
   "cell_type": "code",
   "execution_count": 231,
   "metadata": {
    "collapsed": true
   },
   "outputs": [],
   "source": [
    "x1_10 = df1.copy().loc[:10]\n",
    "x2_10 = df1.copy().loc[10:20]"
   ]
  },
  {
   "cell_type": "code",
   "execution_count": 232,
   "metadata": {},
   "outputs": [
    {
     "data": {
      "text/html": [
       "<div>\n",
       "<style>\n",
       "    .dataframe thead tr:only-child th {\n",
       "        text-align: right;\n",
       "    }\n",
       "\n",
       "    .dataframe thead th {\n",
       "        text-align: left;\n",
       "    }\n",
       "\n",
       "    .dataframe tbody tr th {\n",
       "        vertical-align: top;\n",
       "    }\n",
       "</style>\n",
       "<table border=\"1\" class=\"dataframe\">\n",
       "  <thead>\n",
       "    <tr style=\"text-align: right;\">\n",
       "      <th></th>\n",
       "      <th>Var1</th>\n",
       "      <th>Var2</th>\n",
       "      <th>y</th>\n",
       "    </tr>\n",
       "  </thead>\n",
       "  <tbody>\n",
       "    <tr>\n",
       "      <th>0</th>\n",
       "      <td>2</td>\n",
       "      <td>3</td>\n",
       "      <td>1</td>\n",
       "    </tr>\n",
       "    <tr>\n",
       "      <th>1</th>\n",
       "      <td>11</td>\n",
       "      <td>4</td>\n",
       "      <td>0</td>\n",
       "    </tr>\n",
       "    <tr>\n",
       "      <th>2</th>\n",
       "      <td>3</td>\n",
       "      <td>4</td>\n",
       "      <td>1</td>\n",
       "    </tr>\n",
       "    <tr>\n",
       "      <th>3</th>\n",
       "      <td>4</td>\n",
       "      <td>5</td>\n",
       "      <td>0</td>\n",
       "    </tr>\n",
       "    <tr>\n",
       "      <th>4</th>\n",
       "      <td>11</td>\n",
       "      <td>0</td>\n",
       "      <td>0</td>\n",
       "    </tr>\n",
       "    <tr>\n",
       "      <th>5</th>\n",
       "      <td>4</td>\n",
       "      <td>3</td>\n",
       "      <td>1</td>\n",
       "    </tr>\n",
       "    <tr>\n",
       "      <th>6</th>\n",
       "      <td>10</td>\n",
       "      <td>0</td>\n",
       "      <td>0</td>\n",
       "    </tr>\n",
       "    <tr>\n",
       "      <th>7</th>\n",
       "      <td>11</td>\n",
       "      <td>4</td>\n",
       "      <td>1</td>\n",
       "    </tr>\n",
       "    <tr>\n",
       "      <th>8</th>\n",
       "      <td>6</td>\n",
       "      <td>0</td>\n",
       "      <td>0</td>\n",
       "    </tr>\n",
       "    <tr>\n",
       "      <th>9</th>\n",
       "      <td>11</td>\n",
       "      <td>0</td>\n",
       "      <td>1</td>\n",
       "    </tr>\n",
       "    <tr>\n",
       "      <th>10</th>\n",
       "      <td>5</td>\n",
       "      <td>1</td>\n",
       "      <td>0</td>\n",
       "    </tr>\n",
       "  </tbody>\n",
       "</table>\n",
       "</div>"
      ],
      "text/plain": [
       "    Var1  Var2  y\n",
       "0      2     3  1\n",
       "1     11     4  0\n",
       "2      3     4  1\n",
       "3      4     5  0\n",
       "4     11     0  0\n",
       "5      4     3  1\n",
       "6     10     0  0\n",
       "7     11     4  1\n",
       "8      6     0  0\n",
       "9     11     0  1\n",
       "10     5     1  0"
      ]
     },
     "execution_count": 232,
     "metadata": {},
     "output_type": "execute_result"
    }
   ],
   "source": [
    "x1_10"
   ]
  },
  {
   "cell_type": "code",
   "execution_count": 233,
   "metadata": {},
   "outputs": [
    {
     "data": {
      "text/html": [
       "<div>\n",
       "<style>\n",
       "    .dataframe thead tr:only-child th {\n",
       "        text-align: right;\n",
       "    }\n",
       "\n",
       "    .dataframe thead th {\n",
       "        text-align: left;\n",
       "    }\n",
       "\n",
       "    .dataframe tbody tr th {\n",
       "        vertical-align: top;\n",
       "    }\n",
       "</style>\n",
       "<table border=\"1\" class=\"dataframe\">\n",
       "  <thead>\n",
       "    <tr style=\"text-align: right;\">\n",
       "      <th></th>\n",
       "      <th>Var1</th>\n",
       "      <th>Var2</th>\n",
       "      <th>y</th>\n",
       "    </tr>\n",
       "  </thead>\n",
       "  <tbody>\n",
       "    <tr>\n",
       "      <th>10</th>\n",
       "      <td>5</td>\n",
       "      <td>1</td>\n",
       "      <td>0</td>\n",
       "    </tr>\n",
       "    <tr>\n",
       "      <th>11</th>\n",
       "      <td>0</td>\n",
       "      <td>5</td>\n",
       "      <td>1</td>\n",
       "    </tr>\n",
       "    <tr>\n",
       "      <th>12</th>\n",
       "      <td>7</td>\n",
       "      <td>1</td>\n",
       "      <td>1</td>\n",
       "    </tr>\n",
       "    <tr>\n",
       "      <th>13</th>\n",
       "      <td>4</td>\n",
       "      <td>0</td>\n",
       "      <td>0</td>\n",
       "    </tr>\n",
       "    <tr>\n",
       "      <th>14</th>\n",
       "      <td>5</td>\n",
       "      <td>0</td>\n",
       "      <td>1</td>\n",
       "    </tr>\n",
       "    <tr>\n",
       "      <th>15</th>\n",
       "      <td>7</td>\n",
       "      <td>1</td>\n",
       "      <td>0</td>\n",
       "    </tr>\n",
       "    <tr>\n",
       "      <th>16</th>\n",
       "      <td>1</td>\n",
       "      <td>0</td>\n",
       "      <td>1</td>\n",
       "    </tr>\n",
       "    <tr>\n",
       "      <th>17</th>\n",
       "      <td>7</td>\n",
       "      <td>1</td>\n",
       "      <td>1</td>\n",
       "    </tr>\n",
       "    <tr>\n",
       "      <th>18</th>\n",
       "      <td>3</td>\n",
       "      <td>0</td>\n",
       "      <td>1</td>\n",
       "    </tr>\n",
       "    <tr>\n",
       "      <th>19</th>\n",
       "      <td>9</td>\n",
       "      <td>2</td>\n",
       "      <td>1</td>\n",
       "    </tr>\n",
       "  </tbody>\n",
       "</table>\n",
       "</div>"
      ],
      "text/plain": [
       "    Var1  Var2  y\n",
       "10     5     1  0\n",
       "11     0     5  1\n",
       "12     7     1  1\n",
       "13     4     0  0\n",
       "14     5     0  1\n",
       "15     7     1  0\n",
       "16     1     0  1\n",
       "17     7     1  1\n",
       "18     3     0  1\n",
       "19     9     2  1"
      ]
     },
     "execution_count": 233,
     "metadata": {},
     "output_type": "execute_result"
    }
   ],
   "source": [
    "x2_10"
   ]
  },
  {
   "cell_type": "code",
   "execution_count": 235,
   "metadata": {},
   "outputs": [
    {
     "data": {
      "text/plain": [
       "10    0.413223\n",
       "11    0.454545\n",
       "12    0.454545\n",
       "13    0.462121\n",
       "14    0.413223\n",
       "15    0.454545\n",
       "16    0.454545\n",
       "17    0.454545\n",
       "18    0.504132\n",
       "19    0.454545\n",
       "Name: Var1, dtype: float64"
      ]
     },
     "execution_count": 235,
     "metadata": {},
     "output_type": "execute_result"
    }
   ],
   "source": [
    "targetEncoding(x1_10,\n",
    "               x2_10,\n",
    "               'Var1',\n",
    "               'y',\n",
    "               10,\n",
    "               0.0)"
   ]
  },
  {
   "cell_type": "code",
   "execution_count": 155,
   "metadata": {},
   "outputs": [
    {
     "data": {
      "text/plain": [
       "10    0.293447\n",
       "11    0.305036\n",
       "12    0.329155\n",
       "13    0.307064\n",
       "14    0.318288\n",
       "15    0.434477\n",
       "16    0.407655\n",
       "17    0.324360\n",
       "18    0.419025\n",
       "19    0.420123\n",
       "Name: Var2, dtype: float64"
      ]
     },
     "execution_count": 155,
     "metadata": {},
     "output_type": "execute_result"
    }
   ],
   "source": [
    "targetEncoding(x1_10,\n",
    "               x2_10,\n",
    "               'Var2',\n",
    "               'y',\n",
    "               10,\n",
    "               0.01)"
   ]
  }
 ],
 "metadata": {
  "kernelspec": {
   "display_name": "Python 3",
   "language": "python",
   "name": "python3"
  },
  "language_info": {
   "codemirror_mode": {
    "name": "ipython",
    "version": 3
   },
   "file_extension": ".py",
   "mimetype": "text/x-python",
   "name": "python",
   "nbconvert_exporter": "python",
   "pygments_lexer": "ipython3",
   "version": "3.6.4"
  }
 },
 "nbformat": 4,
 "nbformat_minor": 2
}
