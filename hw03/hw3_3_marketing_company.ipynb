{
 "cells": [
  {
   "cell_type": "markdown",
   "metadata": {},
   "source": [
    "Нужно реализовать алгоритм для оптимизации бюджета телерекламы (кейс, описанный на семинаре). \n",
    "Код для проверки качества представлен в скрипте ad_budget_checker.py, а шаблон, от которого стоит отталкиваться, \n",
    "в скрипте ad_budget_example.py. Чекер вашего скрипта должен отработать за 2 минуты на машинке для проверки.\n",
    "Для сравнения на ad_budget_example.py чекер работает 4 секунды."
   ]
  },
  {
   "cell_type": "code",
   "execution_count": 4,
   "metadata": {},
   "outputs": [
    {
     "ename": "IndentationError",
     "evalue": "expected an indented block (<ipython-input-4-cd3e60531cb6>, line 28)",
     "output_type": "error",
     "traceback": [
      "\u001b[1;36m  File \u001b[1;32m\"<ipython-input-4-cd3e60531cb6>\"\u001b[1;36m, line \u001b[1;32m28\u001b[0m\n\u001b[1;33m    self.model = LinearRegression().fit(X_data, y_data)\u001b[0m\n\u001b[1;37m                                                       ^\u001b[0m\n\u001b[1;31mIndentationError\u001b[0m\u001b[1;31m:\u001b[0m expected an indented block\n"
     ]
    }
   ],
   "source": [
    "from sklearn.linear_model import LinearRegression  \n",
    "from scipy.optimize import minimize\n",
    "import numpy as np\n",
    "\n",
    "\n",
    "class Optimizer_old:\n",
    "    def __init__(self):\n",
    "        pass\n",
    "\n",
    "    def optimize(self, origin_budget):\n",
    "         \n",
    "        \n",
    "        default_target = self.model.predict([origin_budget])[0]\n",
    "        random_gen = np.random.RandomState(42)\n",
    "        best_budget = origin_budget\n",
    "\n",
    "        for _ in range(2000):\n",
    "            mask = (random_gen.randint(0, 3, size=len(origin_budget)) - 1) * 0.01 + 1\n",
    "            new_budget = origin_budget * mask\n",
    "            if self.model.predict([new_budget])[0] >= default_target and np.sum(best_budget) > np.sum(new_budget):\n",
    "                best_budget = new_budget\n",
    "\n",
    "        return best_budget\n",
    "    \n",
    "    \n",
    "\n",
    "    def fit(self, X_data, y_data):\n",
    "self.model = LinearRegression().fit(X_data, y_data)"
   ]
  },
  {
   "cell_type": "code",
   "execution_count": 31,
   "metadata": {},
   "outputs": [],
   "source": [
    "from sklearn.linear_model import LinearRegression  \n",
    "from scipy.optimize import minimize\n",
    "import numpy as np\n",
    "\n",
    "# How to set self.interc and self.coefs - ?\n",
    "# How to choose best alpha / model  in general- ?\n",
    "# How to choose best model in particular model data case - ? \n",
    "class Optimizer:\n",
    "    def __init__(self):\n",
    "        self.coefs = coefs\n",
    "        self.interc = interc\n",
    "    \n",
    "    def optimize(self, origin_budget):\n",
    "    \n",
    "        default_target = self.interc + np.dot(self.coefs, origin_budget)\n",
    "    \n",
    "        A_matr =  np.vstack((((-1)*self.coefs).reshape(1,-1), \n",
    "                         np.diag((-1)*np.ones(len(origin_budget))), \n",
    "                         np.diag(np.ones(len(origin_budget)))))\n",
    "    \n",
    "        b_right = np.hstack((1.01*(self.interc - default_target), \n",
    "                         np.array(-0.951*origin_budget),\n",
    "                         np.array(1.049*origin_budget)))\n",
    "    \n",
    "        res = linprog(c=self.coefs, A_ub=A_matr, b_ub=b_right)\n",
    "        return res.x\n",
    "    \n",
    "    def fit(self, X_data, y_data):\n",
    "        #choose best alpha\n",
    "        model = linear_model.Ridge(alpha = 0.8)\n",
    "        model.fit(X_data, y_data)\n",
    "        self.coefs = model.coefs_\n",
    "        self.interc = model.interc_\n",
    "        return self"
   ]
  },
  {
   "cell_type": "code",
   "execution_count": 29,
   "metadata": {},
   "outputs": [
    {
     "ename": "NameError",
     "evalue": "name 'y_data' is not defined",
     "output_type": "error",
     "traceback": [
      "\u001b[1;31m---------------------------------------------------------------------------\u001b[0m",
      "\u001b[1;31mNameError\u001b[0m                                 Traceback (most recent call last)",
      "\u001b[1;32m<ipython-input-29-e7e426d24acd>\u001b[0m in \u001b[0;36m<module>\u001b[1;34m()\u001b[0m\n\u001b[0;32m      1\u001b[0m \u001b[0mmodel\u001b[0m \u001b[1;33m=\u001b[0m \u001b[0mlinear_model\u001b[0m\u001b[1;33m.\u001b[0m\u001b[0mRidge\u001b[0m\u001b[1;33m(\u001b[0m\u001b[0malpha\u001b[0m \u001b[1;33m=\u001b[0m \u001b[1;36m0.8\u001b[0m\u001b[1;33m)\u001b[0m\u001b[1;33m\u001b[0m\u001b[0m\n\u001b[1;32m----> 2\u001b[1;33m \u001b[0mmodel\u001b[0m\u001b[1;33m.\u001b[0m\u001b[0mfit\u001b[0m\u001b[1;33m(\u001b[0m\u001b[0mX_data\u001b[0m\u001b[1;33m,\u001b[0m \u001b[0my_data\u001b[0m\u001b[1;33m)\u001b[0m\u001b[1;33m\u001b[0m\u001b[0m\n\u001b[0m\u001b[0;32m      3\u001b[0m \u001b[0mmodel\u001b[0m\u001b[1;33m.\u001b[0m\u001b[0mcoefs_\u001b[0m\u001b[1;33m\u001b[0m\u001b[0m\n",
      "\u001b[1;31mNameError\u001b[0m: name 'y_data' is not defined"
     ]
    }
   ],
   "source": [
    "model = linear_model.Ridge(alpha = 0.8)\n",
    "model.fit(X_data, y_data)\n",
    "model.coefs_"
   ]
  },
  {
   "cell_type": "code",
   "execution_count": 32,
   "metadata": {
    "collapsed": true
   },
   "outputs": [],
   "source": [
    "from sklearn.datasets import make_classification\n",
    "from sklearn.model_selection import cross_val_score\n",
    "from sklearn.metrics import mean_squared_error\n",
    "from sklearn import linear_model\n",
    "from scipy.optimize import minimize\n",
    "from sklearn.model_selection import LeavePOut\n",
    "from scipy.optimize import linprog\n",
    "\n",
    "import numpy as np\n",
    "import os\n",
    "import imp\n",
    "import signal\n",
    "import traceback\n",
    "import sys\n",
    "import json\n",
    "\n",
    "import warnings\n",
    "warnings.simplefilter(action='ignore', category=FutureWarning)"
   ]
  },
  {
   "cell_type": "code",
   "execution_count": 33,
   "metadata": {
    "collapsed": true
   },
   "outputs": [],
   "source": [
    "# generate random data: \n",
    "random_gen = np.random.RandomState(2)\n",
    "        \n",
    "weights = (0.05 + random_gen.exponential(0.75, size=15)) * 2\n",
    "X_data = random_gen.uniform(0., 4, size=(40, 15))\n",
    "errors = random_gen.normal(0., 2., size=40)\n",
    "\n",
    "split_pos = 25\n",
    "X_train = X_data[:split_pos]\n",
    "errors_train = errors[:split_pos]\n",
    "X_test = X_data[split_pos:]\n",
    "errors_test = errors[split_pos:]"
   ]
  },
  {
   "cell_type": "code",
   "execution_count": 34,
   "metadata": {
    "scrolled": true
   },
   "outputs": [
    {
     "ename": "NameError",
     "evalue": "name 'coefs' is not defined",
     "output_type": "error",
     "traceback": [
      "\u001b[1;31m---------------------------------------------------------------------------\u001b[0m",
      "\u001b[1;31mNameError\u001b[0m                                 Traceback (most recent call last)",
      "\u001b[1;32m<ipython-input-34-c73ebf0d63e9>\u001b[0m in \u001b[0;36m<module>\u001b[1;34m()\u001b[0m\n\u001b[0;32m      1\u001b[0m \u001b[1;31m# use optimizer class:\u001b[0m\u001b[1;33m\u001b[0m\u001b[1;33m\u001b[0m\u001b[0m\n\u001b[1;32m----> 2\u001b[1;33m \u001b[0malgo\u001b[0m \u001b[1;33m=\u001b[0m \u001b[0mOptimizer\u001b[0m\u001b[1;33m(\u001b[0m\u001b[1;33m)\u001b[0m\u001b[1;33m\u001b[0m\u001b[0m\n\u001b[0m\u001b[0;32m      3\u001b[0m \u001b[0malgo\u001b[0m\u001b[1;33m.\u001b[0m\u001b[0mfit\u001b[0m\u001b[1;33m(\u001b[0m\u001b[0mnp\u001b[0m\u001b[1;33m.\u001b[0m\u001b[0marray\u001b[0m\u001b[1;33m(\u001b[0m\u001b[0mself\u001b[0m\u001b[1;33m.\u001b[0m\u001b[0mX_train\u001b[0m\u001b[1;33m)\u001b[0m\u001b[1;33m,\u001b[0m \u001b[0mnp\u001b[0m\u001b[1;33m.\u001b[0m\u001b[0mdot\u001b[0m\u001b[1;33m(\u001b[0m\u001b[0mself\u001b[0m\u001b[1;33m.\u001b[0m\u001b[0mX_train\u001b[0m\u001b[1;33m,\u001b[0m \u001b[0mself\u001b[0m\u001b[1;33m.\u001b[0m\u001b[0mweights\u001b[0m\u001b[1;33m)\u001b[0m \u001b[1;33m+\u001b[0m \u001b[0mself\u001b[0m\u001b[1;33m.\u001b[0m\u001b[0merrors_train\u001b[0m\u001b[1;33m)\u001b[0m\u001b[1;33m\u001b[0m\u001b[0m\n",
      "\u001b[1;32m<ipython-input-31-a92e3b2dd69d>\u001b[0m in \u001b[0;36m__init__\u001b[1;34m(self)\u001b[0m\n\u001b[0;32m      8\u001b[0m \u001b[1;32mclass\u001b[0m \u001b[0mOptimizer\u001b[0m\u001b[1;33m:\u001b[0m\u001b[1;33m\u001b[0m\u001b[0m\n\u001b[0;32m      9\u001b[0m     \u001b[1;32mdef\u001b[0m \u001b[0m__init__\u001b[0m\u001b[1;33m(\u001b[0m\u001b[0mself\u001b[0m\u001b[1;33m)\u001b[0m\u001b[1;33m:\u001b[0m\u001b[1;33m\u001b[0m\u001b[0m\n\u001b[1;32m---> 10\u001b[1;33m         \u001b[0mself\u001b[0m\u001b[1;33m.\u001b[0m\u001b[0mcoefs\u001b[0m \u001b[1;33m=\u001b[0m \u001b[0mcoefs\u001b[0m\u001b[1;33m\u001b[0m\u001b[0m\n\u001b[0m\u001b[0;32m     11\u001b[0m         \u001b[0mself\u001b[0m\u001b[1;33m.\u001b[0m\u001b[0minterc\u001b[0m \u001b[1;33m=\u001b[0m \u001b[0minterc\u001b[0m\u001b[1;33m\u001b[0m\u001b[0m\n\u001b[0;32m     12\u001b[0m \u001b[1;33m\u001b[0m\u001b[0m\n",
      "\u001b[1;31mNameError\u001b[0m: name 'coefs' is not defined"
     ]
    }
   ],
   "source": [
    "# use optimizer class:\n",
    "algo = Optimizer()\n",
    "algo.fit(np.array(self.X_train), np.dot(self.X_train, self.weights) + self.errors_train)"
   ]
  },
  {
   "cell_type": "code",
   "execution_count": 747,
   "metadata": {
    "collapsed": true
   },
   "outputs": [],
   "source": [
    "# print(weights, \"\\n\")\n",
    "# print(X_train, \"\\n\")\n",
    "# print(errors_train, \"\\n\")\n",
    "# print(X_test, \"\\n\")\n",
    "# print(errors_test, \"\\n\")"
   ]
  },
  {
   "cell_type": "code",
   "execution_count": 30,
   "metadata": {
    "collapsed": true
   },
   "outputs": [],
   "source": [
    "y_train  = np.dot(X_train, weights)+errors_train\n",
    "y_test = np.dot(X_test, weights)+errors_test"
   ]
  },
  {
   "cell_type": "code",
   "execution_count": 749,
   "metadata": {},
   "outputs": [
    {
     "data": {
      "text/plain": [
       "Ridge(alpha=0.8, copy_X=True, fit_intercept=True, max_iter=None,\n",
       "   normalize=False, random_state=None, solver='auto', tol=0.001)"
      ]
     },
     "execution_count": 749,
     "metadata": {},
     "output_type": "execute_result"
    }
   ],
   "source": [
    "#lm = linear_model.LinearRegression()\n",
    "lm = linear_model.Ridge(alpha = 0.8)  # 6.628\n",
    "#lm = linear_model.Lasso(alpha=0.1) # 4.9\n",
    "#lm = linear_model.LassoLars(alpha=0.03) # 4.4\n",
    "#lm = linear_model.BayesianRidge() # 7.2\n",
    "lm.fit(np.array(X_train), y_train)"
   ]
  },
  {
   "cell_type": "code",
   "execution_count": 750,
   "metadata": {
    "collapsed": true
   },
   "outputs": [],
   "source": [
    "y_pr_tr = lm.predict(X_train)\n",
    "y_pr_ts = lm.predict(X_test)"
   ]
  },
  {
   "cell_type": "code",
   "execution_count": 751,
   "metadata": {
    "scrolled": true
   },
   "outputs": [
    {
     "name": "stdout",
     "output_type": "stream",
     "text": [
      "2.148078262773521\n",
      "6.738256918979767\n"
     ]
    }
   ],
   "source": [
    "print(mean_squared_error(y_train, y_pr_tr))\n",
    "print(mean_squared_error(y_test, y_pr_ts))"
   ]
  },
  {
   "cell_type": "code",
   "execution_count": 752,
   "metadata": {
    "scrolled": true
   },
   "outputs": [
    {
     "name": "stderr",
     "output_type": "stream",
     "text": [
      "C:\\Users\\Liksakov\\AppData\\Local\\Continuum\\anaconda3_2\\lib\\site-packages\\sklearn\\metrics\\scorer.py:100: DeprecationWarning: Scoring method mean_squared_error was renamed to neg_mean_squared_error in version 0.18 and will be removed in 0.20.\n",
      "  sample_weight=sample_weight)\n",
      "C:\\Users\\Liksakov\\AppData\\Local\\Continuum\\anaconda3_2\\lib\\site-packages\\sklearn\\metrics\\scorer.py:100: DeprecationWarning: Scoring method mean_squared_error was renamed to neg_mean_squared_error in version 0.18 and will be removed in 0.20.\n",
      "  sample_weight=sample_weight)\n",
      "C:\\Users\\Liksakov\\AppData\\Local\\Continuum\\anaconda3_2\\lib\\site-packages\\sklearn\\metrics\\scorer.py:100: DeprecationWarning: Scoring method mean_squared_error was renamed to neg_mean_squared_error in version 0.18 and will be removed in 0.20.\n",
      "  sample_weight=sample_weight)\n",
      "C:\\Users\\Liksakov\\AppData\\Local\\Continuum\\anaconda3_2\\lib\\site-packages\\sklearn\\metrics\\scorer.py:100: DeprecationWarning: Scoring method mean_squared_error was renamed to neg_mean_squared_error in version 0.18 and will be removed in 0.20.\n",
      "  sample_weight=sample_weight)\n",
      "C:\\Users\\Liksakov\\AppData\\Local\\Continuum\\anaconda3_2\\lib\\site-packages\\sklearn\\metrics\\scorer.py:100: DeprecationWarning: Scoring method mean_squared_error was renamed to neg_mean_squared_error in version 0.18 and will be removed in 0.20.\n",
      "  sample_weight=sample_weight)\n",
      "C:\\Users\\Liksakov\\AppData\\Local\\Continuum\\anaconda3_2\\lib\\site-packages\\sklearn\\metrics\\scorer.py:100: DeprecationWarning: Scoring method mean_squared_error was renamed to neg_mean_squared_error in version 0.18 and will be removed in 0.20.\n",
      "  sample_weight=sample_weight)\n",
      "C:\\Users\\Liksakov\\AppData\\Local\\Continuum\\anaconda3_2\\lib\\site-packages\\sklearn\\metrics\\scorer.py:100: DeprecationWarning: Scoring method mean_squared_error was renamed to neg_mean_squared_error in version 0.18 and will be removed in 0.20.\n",
      "  sample_weight=sample_weight)\n",
      "C:\\Users\\Liksakov\\AppData\\Local\\Continuum\\anaconda3_2\\lib\\site-packages\\sklearn\\metrics\\scorer.py:100: DeprecationWarning: Scoring method mean_squared_error was renamed to neg_mean_squared_error in version 0.18 and will be removed in 0.20.\n",
      "  sample_weight=sample_weight)\n",
      "C:\\Users\\Liksakov\\AppData\\Local\\Continuum\\anaconda3_2\\lib\\site-packages\\sklearn\\metrics\\scorer.py:100: DeprecationWarning: Scoring method mean_squared_error was renamed to neg_mean_squared_error in version 0.18 and will be removed in 0.20.\n",
      "  sample_weight=sample_weight)\n",
      "C:\\Users\\Liksakov\\AppData\\Local\\Continuum\\anaconda3_2\\lib\\site-packages\\sklearn\\metrics\\scorer.py:100: DeprecationWarning: Scoring method mean_squared_error was renamed to neg_mean_squared_error in version 0.18 and will be removed in 0.20.\n",
      "  sample_weight=sample_weight)\n",
      "C:\\Users\\Liksakov\\AppData\\Local\\Continuum\\anaconda3_2\\lib\\site-packages\\sklearn\\metrics\\scorer.py:100: DeprecationWarning: Scoring method mean_squared_error was renamed to neg_mean_squared_error in version 0.18 and will be removed in 0.20.\n",
      "  sample_weight=sample_weight)\n",
      "C:\\Users\\Liksakov\\AppData\\Local\\Continuum\\anaconda3_2\\lib\\site-packages\\sklearn\\metrics\\scorer.py:100: DeprecationWarning: Scoring method mean_squared_error was renamed to neg_mean_squared_error in version 0.18 and will be removed in 0.20.\n",
      "  sample_weight=sample_weight)\n",
      "C:\\Users\\Liksakov\\AppData\\Local\\Continuum\\anaconda3_2\\lib\\site-packages\\sklearn\\metrics\\scorer.py:100: DeprecationWarning: Scoring method mean_squared_error was renamed to neg_mean_squared_error in version 0.18 and will be removed in 0.20.\n",
      "  sample_weight=sample_weight)\n",
      "C:\\Users\\Liksakov\\AppData\\Local\\Continuum\\anaconda3_2\\lib\\site-packages\\sklearn\\metrics\\scorer.py:100: DeprecationWarning: Scoring method mean_squared_error was renamed to neg_mean_squared_error in version 0.18 and will be removed in 0.20.\n",
      "  sample_weight=sample_weight)\n",
      "C:\\Users\\Liksakov\\AppData\\Local\\Continuum\\anaconda3_2\\lib\\site-packages\\sklearn\\metrics\\scorer.py:100: DeprecationWarning: Scoring method mean_squared_error was renamed to neg_mean_squared_error in version 0.18 and will be removed in 0.20.\n",
      "  sample_weight=sample_weight)\n",
      "C:\\Users\\Liksakov\\AppData\\Local\\Continuum\\anaconda3_2\\lib\\site-packages\\sklearn\\metrics\\scorer.py:100: DeprecationWarning: Scoring method mean_squared_error was renamed to neg_mean_squared_error in version 0.18 and will be removed in 0.20.\n",
      "  sample_weight=sample_weight)\n",
      "C:\\Users\\Liksakov\\AppData\\Local\\Continuum\\anaconda3_2\\lib\\site-packages\\sklearn\\metrics\\scorer.py:100: DeprecationWarning: Scoring method mean_squared_error was renamed to neg_mean_squared_error in version 0.18 and will be removed in 0.20.\n",
      "  sample_weight=sample_weight)\n",
      "C:\\Users\\Liksakov\\AppData\\Local\\Continuum\\anaconda3_2\\lib\\site-packages\\sklearn\\metrics\\scorer.py:100: DeprecationWarning: Scoring method mean_squared_error was renamed to neg_mean_squared_error in version 0.18 and will be removed in 0.20.\n",
      "  sample_weight=sample_weight)\n",
      "C:\\Users\\Liksakov\\AppData\\Local\\Continuum\\anaconda3_2\\lib\\site-packages\\sklearn\\metrics\\scorer.py:100: DeprecationWarning: Scoring method mean_squared_error was renamed to neg_mean_squared_error in version 0.18 and will be removed in 0.20.\n",
      "  sample_weight=sample_weight)\n",
      "C:\\Users\\Liksakov\\AppData\\Local\\Continuum\\anaconda3_2\\lib\\site-packages\\sklearn\\metrics\\scorer.py:100: DeprecationWarning: Scoring method mean_squared_error was renamed to neg_mean_squared_error in version 0.18 and will be removed in 0.20.\n",
      "  sample_weight=sample_weight)\n",
      "C:\\Users\\Liksakov\\AppData\\Local\\Continuum\\anaconda3_2\\lib\\site-packages\\sklearn\\metrics\\scorer.py:100: DeprecationWarning: Scoring method mean_squared_error was renamed to neg_mean_squared_error in version 0.18 and will be removed in 0.20.\n",
      "  sample_weight=sample_weight)\n",
      "C:\\Users\\Liksakov\\AppData\\Local\\Continuum\\anaconda3_2\\lib\\site-packages\\sklearn\\metrics\\scorer.py:100: DeprecationWarning: Scoring method mean_squared_error was renamed to neg_mean_squared_error in version 0.18 and will be removed in 0.20.\n",
      "  sample_weight=sample_weight)\n",
      "C:\\Users\\Liksakov\\AppData\\Local\\Continuum\\anaconda3_2\\lib\\site-packages\\sklearn\\metrics\\scorer.py:100: DeprecationWarning: Scoring method mean_squared_error was renamed to neg_mean_squared_error in version 0.18 and will be removed in 0.20.\n",
      "  sample_weight=sample_weight)\n",
      "C:\\Users\\Liksakov\\AppData\\Local\\Continuum\\anaconda3_2\\lib\\site-packages\\sklearn\\metrics\\scorer.py:100: DeprecationWarning: Scoring method mean_squared_error was renamed to neg_mean_squared_error in version 0.18 and will be removed in 0.20.\n",
      "  sample_weight=sample_weight)\n",
      "C:\\Users\\Liksakov\\AppData\\Local\\Continuum\\anaconda3_2\\lib\\site-packages\\sklearn\\metrics\\scorer.py:100: DeprecationWarning: Scoring method mean_squared_error was renamed to neg_mean_squared_error in version 0.18 and will be removed in 0.20.\n",
      "  sample_weight=sample_weight)\n"
     ]
    }
   ],
   "source": [
    "scores = cross_val_score(lm, X_train, y_train, scoring='mean_squared_error', cv=X_train.shape[0])"
   ]
  },
  {
   "cell_type": "code",
   "execution_count": 753,
   "metadata": {},
   "outputs": [
    {
     "name": "stdout",
     "output_type": "stream",
     "text": [
      "18.385477486341806\n"
     ]
    }
   ],
   "source": [
    "print( np.mean(-scores))"
   ]
  },
  {
   "cell_type": "code",
   "execution_count": 439,
   "metadata": {
    "collapsed": true
   },
   "outputs": [],
   "source": [
    "#Lpo = LeavePOut(p=2)\n",
    "#for X_tr, X_ts in Lpo.split(X_train):\n",
    "#    print(X_tr, X_ts, \"\\n\")"
   ]
  },
  {
   "cell_type": "code",
   "execution_count": 599,
   "metadata": {
    "collapsed": true
   },
   "outputs": [],
   "source": [
    "# Optimisation\n",
    "value = 1\n",
    "origin_budget = np.array([value]*15)\n",
    "default_target = lm.predict([origin_budget])[0]\n",
    "random_gen = np.random.RandomState(41)\n",
    "best_budget = origin_budget"
   ]
  },
  {
   "cell_type": "code",
   "execution_count": 591,
   "metadata": {
    "collapsed": true
   },
   "outputs": [],
   "source": [
    "default_target_1 = interc + np.dot(coefs, origin_budget)"
   ]
  },
  {
   "cell_type": "code",
   "execution_count": 593,
   "metadata": {
    "collapsed": true
   },
   "outputs": [],
   "source": [
    "default_target = lm.predict([origin_budget])[0]"
   ]
  },
  {
   "cell_type": "code",
   "execution_count": 600,
   "metadata": {},
   "outputs": [
    {
     "data": {
      "text/plain": [
       "21.982879490510935"
      ]
     },
     "execution_count": 600,
     "metadata": {},
     "output_type": "execute_result"
    }
   ],
   "source": [
    "default_target"
   ]
  },
  {
   "cell_type": "code",
   "execution_count": 601,
   "metadata": {},
   "outputs": [
    {
     "data": {
      "text/plain": [
       "21.982879490510935"
      ]
     },
     "execution_count": 601,
     "metadata": {},
     "output_type": "execute_result"
    }
   ],
   "source": [
    "default_target_1"
   ]
  },
  {
   "cell_type": "code",
   "execution_count": 602,
   "metadata": {},
   "outputs": [
    {
     "name": "stdout",
     "output_type": "stream",
     "text": [
      "22.0\n",
      "15\n"
     ]
    }
   ],
   "source": [
    "# metrics which we want to keep at the same level \n",
    "print(round(default_target,0))\n",
    "print(round(sum(origin_budget)))"
   ]
  },
  {
   "cell_type": "code",
   "execution_count": 763,
   "metadata": {},
   "outputs": [
    {
     "data": {
      "text/plain": [
       "Ridge(alpha=0.8, copy_X=True, fit_intercept=True, max_iter=None,\n",
       "   normalize=False, random_state=None, solver='auto', tol=0.001)"
      ]
     },
     "execution_count": 763,
     "metadata": {},
     "output_type": "execute_result"
    }
   ],
   "source": [
    "lm.fit(np.array(X_train), y_train)"
   ]
  },
  {
   "cell_type": "code",
   "execution_count": 764,
   "metadata": {
    "collapsed": true
   },
   "outputs": [],
   "source": [
    "coefs = lm.coef_\n",
    "interc = lm.intercept_"
   ]
  },
  {
   "cell_type": "code",
   "execution_count": 758,
   "metadata": {
    "collapsed": true
   },
   "outputs": [],
   "source": [
    "def budget_optimizer(interc, coefs,  budget):\n",
    "    \n",
    "    default_target = interc + np.dot(coefs, budget)\n",
    "    \n",
    "    A_matr =  np.vstack((((-1)*coefs).reshape(1,-1), \n",
    "                         np.diag((-1)*np.ones(len(budget))), \n",
    "                         np.diag(np.ones(len(budget)))))\n",
    "    \n",
    "    b_right = np.hstack((1.01*(interc - default_target), \n",
    "                         np.array(-0.951*budget),\n",
    "                         np.array(1.049*budget)))\n",
    "    \n",
    "    res = linprog(c=coefs, A_ub=A_matr, b_ub=b_right)\n",
    "    return res.x"
   ]
  },
  {
   "cell_type": "code",
   "execution_count": 720,
   "metadata": {
    "scrolled": true
   },
   "outputs": [
    {
     "name": "stdout",
     "output_type": "stream",
     "text": [
      "New metrics value: 60.896198790517744\n",
      "Old metrics value: 60.896198790517744 \n",
      "\n",
      "New budget =  33.00937384995857\n",
      "Old budget =  33.287314963835186\n",
      "\n",
      "Conditions met:  True\n"
     ]
    }
   ],
   "source": [
    "i = 2\n",
    "origin_budget = X_test[i]\n",
    "optimal_budget =  budget_optimizer(interc, coefs, X_test[i]) \n",
    "default_target = lm.predict(X_test[i].reshape(1, -1))[0]\n",
    "target = lm.predict(optimal_budget.reshape(1, -1))[0]\n",
    "print(\"New metrics value:\", target)\n",
    "print(\"Old metrics value:\", default_target, \"\\n\")\n",
    "print(\"New budget = \", np.sum((optimal_budget)))\n",
    "print(\"Old budget = \", np.sum(origin_budget))\n",
    "print()\n",
    "print(\"Conditions met: \", ((origin_budget * 0.95 <= optimal_budget) & (optimal_budget <= origin_budget * 1.05)).all())"
   ]
  },
  {
   "cell_type": "code",
   "execution_count": 723,
   "metadata": {},
   "outputs": [
    {
     "data": {
      "text/plain": [
       "0.04900000000000013"
      ]
     },
     "execution_count": 723,
     "metadata": {},
     "output_type": "execute_result"
    }
   ],
   "source": [
    "#np.max(abs(origin_budget - optimal_budget)/origin_budget)"
   ]
  },
  {
   "cell_type": "code",
   "execution_count": 761,
   "metadata": {
    "collapsed": true,
    "scrolled": true
   },
   "outputs": [],
   "source": [
    "def simulator(X_test, y_test):\n",
    "    k=0\n",
    "    count = 0\n",
    "    saved_money = 0.0\n",
    "    for (budget, y) in zip(X_test, y_test):\n",
    "        #print(k)\n",
    "        k+=1\n",
    "        origin_budget = budget\n",
    "        optimal_budget = np.array(budget_optimizer(interc, coefs, budget))\n",
    "        default_target = lm.predict(budget.reshape(1,-1))[0]\n",
    "        target = lm.predict(optimal_budget.reshape(1,-1))[0]\n",
    "        if( ((origin_budget * 0.95 <= optimal_budget) & (optimal_budget <= origin_budget * 1.05)).all()):\n",
    "            #print(\"Bound conditions met\")\n",
    "            if(  target >= default_target):\n",
    "                #print(\"Target condition met\\n\")\n",
    "                count += 1\n",
    "                saved_money +=  np.sum(origin_budget) - np.sum(optimal_budget)\n",
    "                \n",
    "    return saved_money"
   ]
  },
  {
   "cell_type": "code",
   "execution_count": 760,
   "metadata": {},
   "outputs": [
    {
     "name": "stdout",
     "output_type": "stream",
     "text": [
      "4.6\n",
      "True\n"
     ]
    }
   ],
   "source": [
    "print(round(saved_money,2))\n",
    "print(count == 15) "
   ]
  },
  {
   "cell_type": "code",
   "execution_count": 762,
   "metadata": {},
   "outputs": [
    {
     "data": {
      "text/plain": [
       "4.598107562887677"
      ]
     },
     "execution_count": 762,
     "metadata": {},
     "output_type": "execute_result"
    }
   ],
   "source": [
    "simulator(X_test, y_test, model)"
   ]
  },
  {
   "cell_type": "code",
   "execution_count": null,
   "metadata": {
    "collapsed": true
   },
   "outputs": [],
   "source": [
    "#def online_simulation( weights, X_data, errors):\n",
    "    "
   ]
  }
 ],
 "metadata": {
  "kernelspec": {
   "display_name": "Python 3",
   "language": "python",
   "name": "python3"
  },
  "language_info": {
   "codemirror_mode": {
    "name": "ipython",
    "version": 3
   },
   "file_extension": ".py",
   "mimetype": "text/x-python",
   "name": "python",
   "nbconvert_exporter": "python",
   "pygments_lexer": "ipython3",
   "version": "3.6.3"
  }
 },
 "nbformat": 4,
 "nbformat_minor": 2
}
