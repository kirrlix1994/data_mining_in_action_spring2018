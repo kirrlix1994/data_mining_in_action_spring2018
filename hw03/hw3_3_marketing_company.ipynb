{
 "cells": [
  {
   "cell_type": "markdown",
   "metadata": {},
   "source": [
    "Нужно реализовать алгоритм для оптимизации бюджета телерекламы (кейс, описанный на семинаре). \n",
    "Код для проверки качества представлен в скрипте ad_budget_checker.py, а шаблон, от которого стоит отталкиваться, \n",
    "в скрипте ad_budget_example.py. Чекер вашего скрипта должен отработать за 2 минуты на машинке для проверки.\n",
    "Для сравнения на ad_budget_example.py чекер работает 4 секунды."
   ]
  },
  {
   "cell_type": "code",
   "execution_count": null,
   "metadata": {},
   "outputs": [],
   "source": [
    "from sklearn.linear_model import LinearRegression  \n",
    "from scipy.optimize import minimize\n",
    "import numpy as np\n",
    "\n",
    "\n",
    "class Optimizer:\n",
    "    def __init__(self):\n",
    "        pass\n",
    "\n",
    "    def optimize(self, origin_budget):\n",
    "        default_target = self.model.predict([origin_budget])[0]\n",
    "        random_gen = np.random.RandomState(42)\n",
    "        best_budget = origin_budget\n",
    "\n",
    "        for _ in range(2000):\n",
    "            mask = (random_gen.randint(0, 3, size=len(origin_budget)) - 1) * 0.01 + 1\n",
    "            new_budget = origin_budget * mask\n",
    "            if self.model.predict([new_budget])[0] >= default_target and np.sum(best_budget) > np.sum(new_budget):\n",
    "                best_budget = new_budget\n",
    "\n",
    "        return best_budget\n",
    "\n",
    "    def fit(self, X_data, y_data):\n",
    "self.model = LinearRegression().fit(X_data, y_data)"
   ]
  },
  {
   "cell_type": "code",
   "execution_count": 433,
   "metadata": {},
   "outputs": [],
   "source": [
    "from sklearn.datasets import make_classification\n",
    "from sklearn.model_selection import cross_val_score\n",
    "from sklearn.metrics import mean_squared_error\n",
    "from sklearn import linear_model\n",
    "from scipy.optimize import minimize\n",
    "from sklearn.model_selection import LeavePOut\n",
    "\n",
    "import numpy as np\n",
    "import os\n",
    "import imp\n",
    "import signal\n",
    "import traceback\n",
    "import sys\n",
    "import json\n",
    "\n",
    "import warnings\n",
    "warnings.simplefilter(action='ignore', category=FutureWarning)"
   ]
  },
  {
   "cell_type": "code",
   "execution_count": 399,
   "metadata": {},
   "outputs": [],
   "source": [
    "# generate random data: \n",
    "random_gen = np.random.RandomState(443)\n",
    "        \n",
    "weights = (0.05 + random_gen.exponential(0.75, size=15)) * 2\n",
    "X_data = random_gen.uniform(0., 4, size=(40, 15))\n",
    "errors = random_gen.normal(0., 2., size=40)\n",
    "\n",
    "split_pos = 25\n",
    "X_train = X_data[:split_pos]\n",
    "errors_train = errors[:split_pos]\n",
    "X_test = X_data[split_pos:]\n",
    "errors_test = errors[split_pos:]"
   ]
  },
  {
   "cell_type": "code",
   "execution_count": 400,
   "metadata": {},
   "outputs": [],
   "source": [
    "# print(weights, \"\\n\")\n",
    "# print(X_train, \"\\n\")\n",
    "# print(errors_train, \"\\n\")\n",
    "# print(X_test, \"\\n\")\n",
    "# print(errors_test, \"\\n\")"
   ]
  },
  {
   "cell_type": "code",
   "execution_count": 401,
   "metadata": {},
   "outputs": [],
   "source": [
    "y_train  = np.dot(X_train, weights)+errors_train\n",
    "y_test = np.dot(X_test, weights)+errors_test"
   ]
  },
  {
   "cell_type": "code",
   "execution_count": 487,
   "metadata": {},
   "outputs": [
    {
     "data": {
      "text/plain": [
       "Ridge(alpha=0.8, copy_X=True, fit_intercept=True, max_iter=None,\n",
       "   normalize=False, random_state=None, solver='auto', tol=0.001)"
      ]
     },
     "execution_count": 487,
     "metadata": {},
     "output_type": "execute_result"
    }
   ],
   "source": [
    "#lm = linear_model.LinearRegression()\n",
    "lm = linear_model.Ridge(alpha = 0.8)  # 6.628\n",
    "#lm = linear_model.Lasso(alpha=0.1) # 4.9\n",
    "#lm = linear_model.LassoLars(alpha=0.03) # 4.4\n",
    "#lm = linear_model.BayesianRidge() # 7.2\n",
    "lm.fit(np.array(X_train), y_train)"
   ]
  },
  {
   "cell_type": "code",
   "execution_count": 488,
   "metadata": {},
   "outputs": [],
   "source": [
    "y_pr_tr = lm.predict(X_train)\n",
    "y_pr_ts = lm.predict(X_test)"
   ]
  },
  {
   "cell_type": "code",
   "execution_count": 489,
   "metadata": {
    "scrolled": true
   },
   "outputs": [
    {
     "name": "stdout",
     "output_type": "stream",
     "text": [
      "3.603885597072248\n",
      "9.997920431609307\n"
     ]
    }
   ],
   "source": [
    "print(mean_squared_error(y_train, y_pr_tr))\n",
    "print(mean_squared_error(y_test, y_pr_ts))"
   ]
  },
  {
   "cell_type": "code",
   "execution_count": 490,
   "metadata": {
    "scrolled": true
   },
   "outputs": [
    {
     "name": "stderr",
     "output_type": "stream",
     "text": [
      "C:\\Users\\Liksakov\\AppData\\Local\\Continuum\\anaconda3_2\\lib\\site-packages\\sklearn\\metrics\\scorer.py:100: DeprecationWarning: Scoring method mean_squared_error was renamed to neg_mean_squared_error in version 0.18 and will be removed in 0.20.\n",
      "  sample_weight=sample_weight)\n",
      "C:\\Users\\Liksakov\\AppData\\Local\\Continuum\\anaconda3_2\\lib\\site-packages\\sklearn\\metrics\\scorer.py:100: DeprecationWarning: Scoring method mean_squared_error was renamed to neg_mean_squared_error in version 0.18 and will be removed in 0.20.\n",
      "  sample_weight=sample_weight)\n",
      "C:\\Users\\Liksakov\\AppData\\Local\\Continuum\\anaconda3_2\\lib\\site-packages\\sklearn\\metrics\\scorer.py:100: DeprecationWarning: Scoring method mean_squared_error was renamed to neg_mean_squared_error in version 0.18 and will be removed in 0.20.\n",
      "  sample_weight=sample_weight)\n",
      "C:\\Users\\Liksakov\\AppData\\Local\\Continuum\\anaconda3_2\\lib\\site-packages\\sklearn\\metrics\\scorer.py:100: DeprecationWarning: Scoring method mean_squared_error was renamed to neg_mean_squared_error in version 0.18 and will be removed in 0.20.\n",
      "  sample_weight=sample_weight)\n",
      "C:\\Users\\Liksakov\\AppData\\Local\\Continuum\\anaconda3_2\\lib\\site-packages\\sklearn\\metrics\\scorer.py:100: DeprecationWarning: Scoring method mean_squared_error was renamed to neg_mean_squared_error in version 0.18 and will be removed in 0.20.\n",
      "  sample_weight=sample_weight)\n",
      "C:\\Users\\Liksakov\\AppData\\Local\\Continuum\\anaconda3_2\\lib\\site-packages\\sklearn\\metrics\\scorer.py:100: DeprecationWarning: Scoring method mean_squared_error was renamed to neg_mean_squared_error in version 0.18 and will be removed in 0.20.\n",
      "  sample_weight=sample_weight)\n",
      "C:\\Users\\Liksakov\\AppData\\Local\\Continuum\\anaconda3_2\\lib\\site-packages\\sklearn\\metrics\\scorer.py:100: DeprecationWarning: Scoring method mean_squared_error was renamed to neg_mean_squared_error in version 0.18 and will be removed in 0.20.\n",
      "  sample_weight=sample_weight)\n",
      "C:\\Users\\Liksakov\\AppData\\Local\\Continuum\\anaconda3_2\\lib\\site-packages\\sklearn\\metrics\\scorer.py:100: DeprecationWarning: Scoring method mean_squared_error was renamed to neg_mean_squared_error in version 0.18 and will be removed in 0.20.\n",
      "  sample_weight=sample_weight)\n",
      "C:\\Users\\Liksakov\\AppData\\Local\\Continuum\\anaconda3_2\\lib\\site-packages\\sklearn\\metrics\\scorer.py:100: DeprecationWarning: Scoring method mean_squared_error was renamed to neg_mean_squared_error in version 0.18 and will be removed in 0.20.\n",
      "  sample_weight=sample_weight)\n",
      "C:\\Users\\Liksakov\\AppData\\Local\\Continuum\\anaconda3_2\\lib\\site-packages\\sklearn\\metrics\\scorer.py:100: DeprecationWarning: Scoring method mean_squared_error was renamed to neg_mean_squared_error in version 0.18 and will be removed in 0.20.\n",
      "  sample_weight=sample_weight)\n",
      "C:\\Users\\Liksakov\\AppData\\Local\\Continuum\\anaconda3_2\\lib\\site-packages\\sklearn\\metrics\\scorer.py:100: DeprecationWarning: Scoring method mean_squared_error was renamed to neg_mean_squared_error in version 0.18 and will be removed in 0.20.\n",
      "  sample_weight=sample_weight)\n",
      "C:\\Users\\Liksakov\\AppData\\Local\\Continuum\\anaconda3_2\\lib\\site-packages\\sklearn\\metrics\\scorer.py:100: DeprecationWarning: Scoring method mean_squared_error was renamed to neg_mean_squared_error in version 0.18 and will be removed in 0.20.\n",
      "  sample_weight=sample_weight)\n",
      "C:\\Users\\Liksakov\\AppData\\Local\\Continuum\\anaconda3_2\\lib\\site-packages\\sklearn\\metrics\\scorer.py:100: DeprecationWarning: Scoring method mean_squared_error was renamed to neg_mean_squared_error in version 0.18 and will be removed in 0.20.\n",
      "  sample_weight=sample_weight)\n",
      "C:\\Users\\Liksakov\\AppData\\Local\\Continuum\\anaconda3_2\\lib\\site-packages\\sklearn\\metrics\\scorer.py:100: DeprecationWarning: Scoring method mean_squared_error was renamed to neg_mean_squared_error in version 0.18 and will be removed in 0.20.\n",
      "  sample_weight=sample_weight)\n",
      "C:\\Users\\Liksakov\\AppData\\Local\\Continuum\\anaconda3_2\\lib\\site-packages\\sklearn\\metrics\\scorer.py:100: DeprecationWarning: Scoring method mean_squared_error was renamed to neg_mean_squared_error in version 0.18 and will be removed in 0.20.\n",
      "  sample_weight=sample_weight)\n",
      "C:\\Users\\Liksakov\\AppData\\Local\\Continuum\\anaconda3_2\\lib\\site-packages\\sklearn\\metrics\\scorer.py:100: DeprecationWarning: Scoring method mean_squared_error was renamed to neg_mean_squared_error in version 0.18 and will be removed in 0.20.\n",
      "  sample_weight=sample_weight)\n",
      "C:\\Users\\Liksakov\\AppData\\Local\\Continuum\\anaconda3_2\\lib\\site-packages\\sklearn\\metrics\\scorer.py:100: DeprecationWarning: Scoring method mean_squared_error was renamed to neg_mean_squared_error in version 0.18 and will be removed in 0.20.\n",
      "  sample_weight=sample_weight)\n",
      "C:\\Users\\Liksakov\\AppData\\Local\\Continuum\\anaconda3_2\\lib\\site-packages\\sklearn\\metrics\\scorer.py:100: DeprecationWarning: Scoring method mean_squared_error was renamed to neg_mean_squared_error in version 0.18 and will be removed in 0.20.\n",
      "  sample_weight=sample_weight)\n",
      "C:\\Users\\Liksakov\\AppData\\Local\\Continuum\\anaconda3_2\\lib\\site-packages\\sklearn\\metrics\\scorer.py:100: DeprecationWarning: Scoring method mean_squared_error was renamed to neg_mean_squared_error in version 0.18 and will be removed in 0.20.\n",
      "  sample_weight=sample_weight)\n",
      "C:\\Users\\Liksakov\\AppData\\Local\\Continuum\\anaconda3_2\\lib\\site-packages\\sklearn\\metrics\\scorer.py:100: DeprecationWarning: Scoring method mean_squared_error was renamed to neg_mean_squared_error in version 0.18 and will be removed in 0.20.\n",
      "  sample_weight=sample_weight)\n",
      "C:\\Users\\Liksakov\\AppData\\Local\\Continuum\\anaconda3_2\\lib\\site-packages\\sklearn\\metrics\\scorer.py:100: DeprecationWarning: Scoring method mean_squared_error was renamed to neg_mean_squared_error in version 0.18 and will be removed in 0.20.\n",
      "  sample_weight=sample_weight)\n",
      "C:\\Users\\Liksakov\\AppData\\Local\\Continuum\\anaconda3_2\\lib\\site-packages\\sklearn\\metrics\\scorer.py:100: DeprecationWarning: Scoring method mean_squared_error was renamed to neg_mean_squared_error in version 0.18 and will be removed in 0.20.\n",
      "  sample_weight=sample_weight)\n",
      "C:\\Users\\Liksakov\\AppData\\Local\\Continuum\\anaconda3_2\\lib\\site-packages\\sklearn\\metrics\\scorer.py:100: DeprecationWarning: Scoring method mean_squared_error was renamed to neg_mean_squared_error in version 0.18 and will be removed in 0.20.\n",
      "  sample_weight=sample_weight)\n",
      "C:\\Users\\Liksakov\\AppData\\Local\\Continuum\\anaconda3_2\\lib\\site-packages\\sklearn\\metrics\\scorer.py:100: DeprecationWarning: Scoring method mean_squared_error was renamed to neg_mean_squared_error in version 0.18 and will be removed in 0.20.\n",
      "  sample_weight=sample_weight)\n",
      "C:\\Users\\Liksakov\\AppData\\Local\\Continuum\\anaconda3_2\\lib\\site-packages\\sklearn\\metrics\\scorer.py:100: DeprecationWarning: Scoring method mean_squared_error was renamed to neg_mean_squared_error in version 0.18 and will be removed in 0.20.\n",
      "  sample_weight=sample_weight)\n"
     ]
    }
   ],
   "source": [
    "scores = cross_val_score(lm, X_train, y_train, scoring='mean_squared_error', cv=X_train.shape[0])"
   ]
  },
  {
   "cell_type": "code",
   "execution_count": 491,
   "metadata": {},
   "outputs": [
    {
     "name": "stdout",
     "output_type": "stream",
     "text": [
      "25.66148809602838\n"
     ]
    }
   ],
   "source": [
    "print( np.mean(-scores))"
   ]
  },
  {
   "cell_type": "code",
   "execution_count": 439,
   "metadata": {},
   "outputs": [],
   "source": [
    "#Lpo = LeavePOut(p=2)\n",
    "#for X_tr, X_ts in Lpo.split(X_train):\n",
    "#    print(X_tr, X_ts, \"\\n\")"
   ]
  },
  {
   "cell_type": "code",
   "execution_count": 478,
   "metadata": {},
   "outputs": [],
   "source": [
    "# Optimisation\n",
    "value = 1\n",
    "origin_budget = np.array([value]*15)\n",
    "default_target = lm.predict([origin_budget])[0]\n",
    "random_gen = np.random.RandomState(41)\n",
    "best_budget = origin_budget"
   ]
  },
  {
   "cell_type": "code",
   "execution_count": 481,
   "metadata": {},
   "outputs": [
    {
     "name": "stdout",
     "output_type": "stream",
     "text": [
      "20.0\n",
      "15\n"
     ]
    }
   ],
   "source": [
    "# metrics which we want to keep at the same level \n",
    "print(round(default_target,0))\n",
    "print(round(sum(origin_budget)))"
   ]
  },
  {
   "cell_type": "code",
   "execution_count": 461,
   "metadata": {},
   "outputs": [],
   "source": [
    "mask = (random_gen.randint(0, 3, size=len(origin_budget)) - 1) * 0.01 + 1"
   ]
  },
  {
   "cell_type": "code",
   "execution_count": 482,
   "metadata": {},
   "outputs": [],
   "source": [
    "new_budget = origin_budget * mask"
   ]
  },
  {
   "cell_type": "code",
   "execution_count": 484,
   "metadata": {},
   "outputs": [
    {
     "data": {
      "text/plain": [
       "array([0.99, 0.99, 1.01, 0.99, 1.  , 1.  , 1.  , 1.01, 1.  , 0.99, 0.99,\n",
       "       1.01, 1.01, 0.99, 0.99])"
      ]
     },
     "execution_count": 484,
     "metadata": {},
     "output_type": "execute_result"
    }
   ],
   "source": [
    "new_budget"
   ]
  },
  {
   "cell_type": "code",
   "execution_count": 492,
   "metadata": {},
   "outputs": [
    {
     "data": {
      "text/plain": [
       "Ridge(alpha=0.8, copy_X=True, fit_intercept=True, max_iter=None,\n",
       "   normalize=False, random_state=None, solver='auto', tol=0.001)"
      ]
     },
     "execution_count": 492,
     "metadata": {},
     "output_type": "execute_result"
    }
   ],
   "source": [
    "lm.fit(np.array(X_train), y_train)"
   ]
  },
  {
   "cell_type": "code",
   "execution_count": 497,
   "metadata": {},
   "outputs": [
    {
     "name": "stdout",
     "output_type": "stream",
     "text": [
      "-4.4030644241724985\n"
     ]
    },
    {
     "data": {
      "text/plain": [
       "array([ 2.52546014,  3.04589199,  0.7483945 ,  1.47472866,  1.49521371,\n",
       "        0.33893652,  2.02608061,  1.59913891,  1.85067215,  2.23808624,\n",
       "        3.88330154,  0.69603392,  1.0665968 , -0.12106176,  1.51434758])"
      ]
     },
     "execution_count": 497,
     "metadata": {},
     "output_type": "execute_result"
    }
   ],
   "source": [
    "print(lm.intercept_)\n",
    "lm.coef_"
   ]
  },
  {
   "cell_type": "code",
   "execution_count": 502,
   "metadata": {},
   "outputs": [
    {
     "data": {
      "text/plain": [
       "array([-2.52546014, -3.04589199, -0.7483945 , -1.47472866, -1.49521371,\n",
       "       -0.33893652, -2.02608061, -1.59913891, -1.85067215, -2.23808624,\n",
       "       -3.88330154, -0.69603392, -1.0665968 ,  0.12106176, -1.51434758])"
      ]
     },
     "execution_count": 502,
     "metadata": {},
     "output_type": "execute_result"
    }
   ],
   "source": [
    "-coefs"
   ]
  },
  {
   "cell_type": "code",
   "execution_count": 500,
   "metadata": {},
   "outputs": [],
   "source": [
    "coefs = lm.coef_\n",
    "interc = lm.intercept_"
   ]
  },
  {
   "cell_type": "code",
   "execution_count": 504,
   "metadata": {},
   "outputs": [],
   "source": [
    "A = np.matrix(-coefs)"
   ]
  },
  {
   "cell_type": "code",
   "execution_count": 505,
   "metadata": {},
   "outputs": [
    {
     "data": {
      "text/plain": [
       "(1, 15)"
      ]
     },
     "execution_count": 505,
     "metadata": {},
     "output_type": "execute_result"
    }
   ],
   "source": [
    "A.shape"
   ]
  },
  {
   "cell_type": "code",
   "execution_count": null,
   "metadata": {},
   "outputs": [],
   "source": [
    "A_ub = -coefs"
   ]
  },
  {
   "cell_type": "code",
   "execution_count": 517,
   "metadata": {},
   "outputs": [],
   "source": [
    "from scipy.optimize import linprog\n",
    "res = linprog(c=coefs, A_ub = np.matrix(-coefs), b_ub= interc - default_target)"
   ]
  },
  {
   "cell_type": "code",
   "execution_count": 529,
   "metadata": {},
   "outputs": [],
   "source": [
    "optimal_budget = res.x"
   ]
  },
  {
   "cell_type": "code",
   "execution_count": 535,
   "metadata": {},
   "outputs": [
    {
     "name": "stdout",
     "output_type": "stream",
     "text": [
      "New metrics value: 19.97875707420165\n",
      "Old metrics value: 19.97875707420165 \n",
      "\n",
      "New budget =  6.2786320478319135\n",
      "Old budget =  15\n"
     ]
    }
   ],
   "source": [
    "target = lm.predict(optimal_budget.reshape(1, -1))[0]\n",
    "print(\"New metrics value:\", target)\n",
    "print(\"Old metrics value:\", default_target, \"\\n\")\n",
    "print(\"New budget = \", np.sum((optimal_budget)))\n",
    "print(\"Old budget = \", np.sum(origin_budget))"
   ]
  },
  {
   "cell_type": "code",
   "execution_count": null,
   "metadata": {},
   "outputs": [],
   "source": []
  }
 ],
 "metadata": {
  "kernelspec": {
   "display_name": "Python 3",
   "language": "python",
   "name": "python3"
  },
  "language_info": {
   "codemirror_mode": {
    "name": "ipython",
    "version": 3
   },
   "file_extension": ".py",
   "mimetype": "text/x-python",
   "name": "python",
   "nbconvert_exporter": "python",
   "pygments_lexer": "ipython3",
   "version": "3.6.4"
  }
 },
 "nbformat": 4,
 "nbformat_minor": 2
}
