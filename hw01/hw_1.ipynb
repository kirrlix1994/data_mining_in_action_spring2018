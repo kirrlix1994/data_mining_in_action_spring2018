{
 "cells": [
  {
   "cell_type": "markdown",
   "metadata": {},
   "source": [
    "### Входные данные\n",
    "\n",
    "У вас имеется поток данных (генератор data_stream). Поля это случайные величины - так сделано для упрощения генерации данных. Есть три поля (названы по уровню сложности задания)\n",
    "\n",
    "### Задание\n",
    "##### Мотивация:\n",
    "У вас есть куча временных рядов, вы хотите научиться предсказывать следующее значение по 1000 предыдущим. 1000 признаков окна это слишком много, однако вы решили заменить их 5ю: средним, дисперсией, минимумом, медианой и максимумом. Однако, все эти признаки надо подсчитать, причём хочется уметь это делать быстро (в течение часа)\n",
    "##### Для каждого поля нужно сделать следующее:\n",
    "\n",
    "1. Пробежаться по данным окном размера 1000 (окно сдвигается на 1, то есть следующее окно пересекается с предыдущим по 999 элементам).\n",
    "\n",
    "2. Для каждого окна посчитайте среднее значение поля и его дисперсию. Делайте yield этих значений, получая генератор tuple. \n",
    "\n",
    "3. Для каждого окна найдине минимум, медиану и максимум в нём. Делайте yield этих значений, получая генератор tuple. \n",
    "\n",
    "Ответом, который нужно будет засабмитить в гугл форму, является среднее значение tuple по получившемуся потоку, округлённое до 2го знака.\n",
    "\n",
    "### Замечания\n",
    "\n",
    "1. Обратите внимания как генерируются поля. Постарайтесь понять особенность каждого поля и как это можно использовать. Желательно, чтобы для каждого поля у вас было своё решение, максимально эффективно использующее знание об этом поле.\n",
    "2. Полезные библиотеки: itertools, numpy, collections + всё что найдёте в интернете и можно поставить через pip install\n",
    "3. **Медианой отсортированного массива arr считайте значение arr[len(arr) // 2]**\n",
    "\n",
    "\n",
    "\n",
    "Если измерять время работы функций временем работы функции example, то примерное время работы такое:\n",
    "Одновременно среднее, дисперсия - 1.17\n",
    "Одновременно минимум, максимум и медиана:easy - 0.87\n",
    "medium - 2.11\n",
    "nightmare - 2.85\n"
   ]
  },
  {
   "cell_type": "markdown",
   "metadata": {},
   "source": [
    "#### Генерация данных"
   ]
  },
  {
   "cell_type": "code",
   "execution_count": 17,
   "metadata": {},
   "outputs": [],
   "source": [
    "from collections import namedtuple\n",
    "import random\n",
    "from collections import deque"
   ]
  },
  {
   "cell_type": "code",
   "execution_count": 18,
   "metadata": {
    "collapsed": true
   },
   "outputs": [],
   "source": [
    "Record = namedtuple('Record', 'easy medium nightmare')\n",
    "\n",
    "def data_stream():\n",
    "    random_generator = random.Random(42)\n",
    "    easy = 0\n",
    "    for _ in range(10000000):\n",
    "        easy += random_generator.randint(0, 2) \n",
    "        medium = random_generator.randint(0, 256 - 1)\n",
    "        nightmare = random_generator.randint(0, 1000000000 - 1)\n",
    "        \n",
    "        yield Record(\n",
    "            easy=easy,\n",
    "            medium=medium,\n",
    "            nightmare=nightmare\n",
    "        )\n",
    "        \n",
    "def easy_stream():\n",
    "    for record in data_stream():\n",
    "        yield record.easy\n",
    "        \n",
    "def medium_stream():\n",
    "    for record in data_stream():\n",
    "        yield record.medium\n",
    "        \n",
    "def nightmare_stream():\n",
    "    for record in data_stream():\n",
    "        yield record.nightmare"
   ]
  },
  {
   "cell_type": "markdown",
   "metadata": {},
   "source": [
    "#### Подсчёт среднего значения tuple по потоку"
   ]
  },
  {
   "cell_type": "code",
   "execution_count": 11,
   "metadata": {
    "collapsed": true
   },
   "outputs": [],
   "source": [
    "import numpy as np\n",
    "\n",
    "def get_tuple_stream_mean(stream, number_of_values):\n",
    "    result = np.zeros(number_of_values, dtype='object')\n",
    "    count = 0. \n",
    "    for streamed_tuple in stream:\n",
    "        result += streamed_tuple\n",
    "        count += 1\n",
    "    return ['{:0.2f}'.format(x) for x in result / count]"
   ]
  },
  {
   "cell_type": "code",
   "execution_count": 12,
   "metadata": {
    "scrolled": true
   },
   "outputs": [
    {
     "name": "stdout",
     "output_type": "stream",
     "text": [
      "['127.48', '137.48']\n",
      "Wall time: 1min 17s\n"
     ]
    }
   ],
   "source": [
    "%%time\n",
    "def example(stream):\n",
    "    for value in stream:\n",
    "        yield (value, value + 10)\n",
    "        \n",
    "print(get_tuple_stream_mean(example(medium_stream()), 2))"
   ]
  },
  {
   "cell_type": "code",
   "execution_count": 31,
   "metadata": {
    "collapsed": true
   },
   "outputs": [],
   "source": [
    "def mean_var_stream(stream):\n",
    "        for value in stream:\n",
    "            yield (value, value**2)"
   ]
  },
  {
   "cell_type": "code",
   "execution_count": 13,
   "metadata": {
    "collapsed": true
   },
   "outputs": [],
   "source": [
    "#  generator for stream to calculate statistics (mean and var) and yeild them as tuple\n",
    "def mean_var_rolling_generator(stream, WinSize=1000):\n",
    "    count = 0\n",
    "    running_sum = 0.0\n",
    "    running_sq_sum = 0.0\n",
    "    #arr = np.empty()\n",
    "    arr = deque()\n",
    "    for value in stream:\n",
    "        count +=1\n",
    "        arr.append(value)\n",
    "        running_sum += value\n",
    "        running_sq_sum += value**2\n",
    "        if count > (WinSize-1):\n",
    "            yield( running_sum / WinSize, # rolling mean\n",
    "                   running_sq_sum / WinSize - (running_sum / WinSize)**2 ) # rolling variance\n",
    "            tmp_out = arr.popleft() # delete leftmoast elem from arr\n",
    "            running_sum -= tmp_out\n",
    "            running_sq_sum -= tmp_out**2"
   ]
  },
  {
   "cell_type": "code",
   "execution_count": 19,
   "metadata": {},
   "outputs": [
    {
     "name": "stdout",
     "output_type": "stream",
     "text": [
      "['4999675.28', '83441.08']\n",
      "Wall time: 1min 36s\n"
     ]
    }
   ],
   "source": [
    "%%time\n",
    "print( get_tuple_stream_mean(mean_var_rolling_generator(easy_stream()), 2))"
   ]
  },
  {
   "cell_type": "code",
   "execution_count": 20,
   "metadata": {},
   "outputs": [
    {
     "name": "stdout",
     "output_type": "stream",
     "text": [
      "['127.48', '5455.17']\n",
      "Wall time: 1min 33s\n"
     ]
    }
   ],
   "source": [
    "%%time\n",
    "print( get_tuple_stream_mean(mean_var_rolling_generator(medium_stream()), 2))"
   ]
  },
  {
   "cell_type": "code",
   "execution_count": 21,
   "metadata": {},
   "outputs": [
    {
     "name": "stdout",
     "output_type": "stream",
     "text": [
      "['499880345.88', '83228908564020544.00']\n",
      "Wall time: 1min 33s\n"
     ]
    }
   ],
   "source": [
    "%%time\n",
    "print( get_tuple_stream_mean(mean_var_rolling_generator(nightmare_stream()), 2))"
   ]
  },
  {
   "cell_type": "code",
   "execution_count": 32,
   "metadata": {},
   "outputs": [],
   "source": [
    "# check the result: get last window array:\n",
    "arr_tmp = []\n",
    "count = 0\n",
    "for i in nightmare_stream():\n",
    "    count += 1\n",
    "    if count > 10000000-1000:\n",
    "        arr_tmp.append(i)"
   ]
  },
  {
   "cell_type": "code",
   "execution_count": 35,
   "metadata": {},
   "outputs": [
    {
     "data": {
      "text/plain": [
       "82635010010192640.0"
      ]
     },
     "execution_count": 35,
     "metadata": {},
     "output_type": "execute_result"
    }
   ],
   "source": [
    "np.array(arr_tmp).var(ddof=0)"
   ]
  },
  {
   "cell_type": "code",
   "execution_count": 42,
   "metadata": {},
   "outputs": [
    {
     "data": {
      "text/plain": [
       "516259214.26999998"
      ]
     },
     "execution_count": 42,
     "metadata": {},
     "output_type": "execute_result"
    }
   ],
   "source": [
    "np.array(arr_tmp).mean()"
   ]
  },
  {
   "cell_type": "code",
   "execution_count": 39,
   "metadata": {},
   "outputs": [
    {
     "name": "stdout",
     "output_type": "stream",
     "text": [
      "(516259214.27, 8.263501001017856e+16)\n"
     ]
    }
   ],
   "source": [
    "# print only last tuple:\n",
    "count = 0\n",
    "for j in mean_var_rolling_generator(nightmare_stream()):\n",
    "    count += 1\n",
    "    if count == 10000000-1000+1:\n",
    "        print(j)"
   ]
  },
  {
   "cell_type": "code",
   "execution_count": 41,
   "metadata": {},
   "outputs": [
    {
     "data": {
      "text/plain": [
       "-14080.0"
      ]
     },
     "execution_count": 41,
     "metadata": {},
     "output_type": "execute_result"
    }
   ],
   "source": [
    "8.263501001017856*10**16 - np.array(arr_tmp).var(ddof=0)"
   ]
  },
  {
   "cell_type": "code",
   "execution_count": 43,
   "metadata": {},
   "outputs": [
    {
     "data": {
      "text/plain": [
       "0"
      ]
     },
     "execution_count": 43,
     "metadata": {},
     "output_type": "execute_result"
    }
   ],
   "source": [
    "516259214 - 516259214"
   ]
  },
  {
   "cell_type": "code",
   "execution_count": 44,
   "metadata": {
    "collapsed": true
   },
   "outputs": [],
   "source": [
    "def easy_stats_generator(stream, WinSize=1000):\n",
    "    count = 0\n",
    "    min_tmp = 0.0\n",
    "    max_tmp = 0.0\n",
    "    median_tmp = 0.0\n",
    "    arr = deque()\n",
    "    for value in stream:\n",
    "        arr.append(value)\n",
    "        count += 1\n",
    "        if  count > (WinSize - 1):\n",
    "            median_tmp = arr[WinSize//2]\n",
    "            max_tmp = arr[-1]\n",
    "            min_tmp = arr.popleft()\n",
    "            yield(min_tmp, max_tmp, median_tmp)"
   ]
  },
  {
   "cell_type": "code",
   "execution_count": 47,
   "metadata": {},
   "outputs": [
    {
     "name": "stdout",
     "output_type": "stream",
     "text": [
      "['4999175.79', '5000174.76', '4999675.78']\n",
      "Wall time: 1min 22s\n"
     ]
    }
   ],
   "source": [
    "%%time\n",
    "print(get_tuple_stream_mean(easy_stats_generator(easy_stream()),3))"
   ]
  },
  {
   "cell_type": "code",
   "execution_count": 57,
   "metadata": {},
   "outputs": [],
   "source": [
    "def get_val_position(arr, val):\n",
    "    for i in range(len(arr)):\n",
    "        if val < arr[i]:\n",
    "            return i\n",
    "        if (val > arr[len(arr)-1]) | (val == arr[len(arr)-1]):\n",
    "            return len(arr)\n",
    "        \n",
    "def deq_insert_order(deq, val):\n",
    "    order_ind = get_val_position(deq, val)\n",
    "    deq.rotate(-order_ind)\n",
    "    deq.appendleft(val)\n",
    "    deq.rotate(order_ind)\n",
    "    return deq\n",
    "\n",
    "def medium_stats_generator(stream, WinSize=1000):\n",
    "    count = 0\n",
    "    deq_sorted = deque()\n",
    "    deq = deque()\n",
    "    for value in stream:\n",
    "        count += 1\n",
    "        if count < WinSize:\n",
    "            deq.append(value)\n",
    "        if count == WinSize-1:\n",
    "            deq.append(value)\n",
    "            deq_sorted = deque(sorted(deq))\n",
    "        if count > WinSize-1:\n",
    "            deq.append(value) # add new value\n",
    "            deq_sorted = deq_insert_order(deq_sorted, value) # add new value\n",
    "            yield (deq_sorted[0], deq_sorted[-1], deq_sorted[WinSize//2])\n",
    "            # yield deq_sorted\n",
    "            deq_sorted.remove(deq[0]) # remove first value in deq\n",
    "            deq.popleft() # remove first_val"
   ]
  },
  {
   "cell_type": "code",
   "execution_count": 59,
   "metadata": {},
   "outputs": [
    {
     "name": "stdout",
     "output_type": "stream",
     "text": [
      "['0.02', '254.98', '127.47']\n",
      "Wall time: 29min 23s\n"
     ]
    }
   ],
   "source": [
    "%%time\n",
    "print(get_tuple_stream_mean(medium_stats_generator(medium_stream()),3))"
   ]
  },
  {
   "cell_type": "code",
   "execution_count": 60,
   "metadata": {},
   "outputs": [
    {
     "name": "stdout",
     "output_type": "stream",
     "text": [
      "['1016523.37', '999018354.43', '499938182.41']\n",
      "Wall time: 34min 24s\n"
     ]
    }
   ],
   "source": [
    "%%time\n",
    "print(get_tuple_stream_mean(medium_stats_generator(nightmare_stream()),3))"
   ]
  },
  {
   "cell_type": "code",
   "execution_count": 61,
   "metadata": {
    "collapsed": true
   },
   "outputs": [],
   "source": [
    "# change second deque on np array        \n",
    "def np_insert_order(arr, val):\n",
    "    arr = np.insert(arr, np.searchsorted(arr,val), val)\n",
    "    return arr\n",
    "\n",
    "def np_delete_order(arr, val):\n",
    "    arr = np.delete( arr, np.searchsorted(arr,val))\n",
    "    return arr\n",
    "\n",
    "def medium_stats_generator_2(stream, WinSize=1000):\n",
    "    count = 0\n",
    "    #arr_sorted = np.array()\n",
    "    deq = deque()\n",
    "    for value in stream:\n",
    "        count += 1\n",
    "        if count < WinSize:\n",
    "            deq.append(value)\n",
    "        if count == WinSize-1:\n",
    "            deq.append(value)\n",
    "            arr_sorted = np.array(sorted(deq))\n",
    "        if count > WinSize-1:\n",
    "            deq.append(value) # add new value\n",
    "            arr_sorted = np_insert_order(arr_sorted, value) # add new value\n",
    "            yield (arr_sorted[0], arr_sorted[-1], arr_sorted[WinSize//2])\n",
    "            arr_sorted = np_delete_order(arr_sorted, deq[0]) # remove first value in deq\n",
    "            deq.popleft() # remove first_val"
   ]
  },
  {
   "cell_type": "code",
   "execution_count": 62,
   "metadata": {},
   "outputs": [
    {
     "name": "stdout",
     "output_type": "stream",
     "text": [
      "['0.02', '254.98', '127.47']\n",
      "Wall time: 5min 34s\n"
     ]
    }
   ],
   "source": [
    "%%time\n",
    "print(get_tuple_stream_mean(medium_stats_generator_2(medium_stream()),3))"
   ]
  },
  {
   "cell_type": "code",
   "execution_count": 63,
   "metadata": {},
   "outputs": [
    {
     "name": "stdout",
     "output_type": "stream",
     "text": [
      "['1016523.37', '999018354.43', '499938182.41']\n",
      "Wall time: 5min 44s\n"
     ]
    }
   ],
   "source": [
    "%%time\n",
    "print(get_tuple_stream_mean(medium_stats_generator_2(nightmare_stream()),3))"
   ]
  },
  {
   "cell_type": "code",
   "execution_count": 67,
   "metadata": {},
   "outputs": [
    {
     "name": "stdout",
     "output_type": "stream",
     "text": [
      "Processing c:\\users\\kirill\\downloads\\tqdm-4.19.6-py2.py3-none-any.whl\n",
      "Installing collected packages: tqdm\n",
      "Successfully installed tqdm-4.19.6\n"
     ]
    }
   ],
   "source": [
    "! pip install C:/Users/Kirill/Downloads/tqdm-4.19.6-py2.py3-none-any.whl"
   ]
  },
  {
   "cell_type": "code",
   "execution_count": null,
   "metadata": {
    "collapsed": true
   },
   "outputs": [],
   "source": []
  }
 ],
 "metadata": {
  "kernelspec": {
   "display_name": "Python 3",
   "language": "python",
   "name": "python3"
  },
  "language_info": {
   "codemirror_mode": {
    "name": "ipython",
    "version": 3
   },
   "file_extension": ".py",
   "mimetype": "text/x-python",
   "name": "python",
   "nbconvert_exporter": "python",
   "pygments_lexer": "ipython3",
   "version": "3.6.3"
  }
 },
 "nbformat": 4,
 "nbformat_minor": 1
}
