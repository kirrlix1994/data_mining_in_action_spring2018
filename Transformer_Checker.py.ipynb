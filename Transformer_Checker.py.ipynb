{
 "cells": [
  {
   "cell_type": "code",
   "execution_count": null,
   "metadata": {
    "collapsed": true
   },
   "outputs": [],
   "source": [
    "from sklearn.model_selection import cross_val_score\n",
    "from sklearn.pipeline import make_pipeline\n",
    "from sklearn.preprocessing import LabelEncoder\n",
    "from sklearn.linear_model import LogisticRegression\n",
    "import numpy as np\n",
    "import os\n",
    "import imp\n",
    "import signal\n",
    "import traceback\n",
    "import sys\n",
    "import pandas\n",
    "\n",
    "\n",
    "SCRIPT_DIR = os.path.dirname(os.path.realpath(__file__))\n",
    "\n",
    "\n",
    "def signal_handler(signum, frame):\n",
    "    raise Exception(\"Timed out!\")\n",
    "\n",
    "\n",
    "class Checker(object):\n",
    "    def __init__(self):\n",
    "        df = pandas.read_csv('mushrooms.csv', header=None)\n",
    "        X, y = np.array(df.loc[:, 1:]), np.array(df.loc[:, 0])\n",
    "        label_encoder = LabelEncoder()\n",
    "        for i in range(X.shape[1]):\n",
    "            X[:, i] = label_encoder.fit_transform(X[:, i])\n",
    "        y = np.equal(y, 'p').astype(int)\n",
    "        self.X_data, self.y_data = X, y\n",
    "        self.applications = 0\n",
    "\n",
    "    def check(self, script_path):\n",
    "        try:\n",
    "            signal.signal(signal.SIGALRM, signal_handler)\n",
    "            signal.alarm(20)\n",
    "            algo_impl = imp.load_source('transformer_{}'.format(self.applications), script_path)\n",
    "            self.applications += 1\n",
    "            try:\n",
    "                lr_params = algo_impl.LR_PARAMS_DICT\n",
    "            except AttributeError:\n",
    "                lr_params = dict()\n",
    "            pipeline = make_pipeline(\n",
    "                algo_impl.CustomTransformer(),\n",
    "                LogisticRegression(**lr_params)\n",
    "            )\n",
    "            return cross_val_score(pipeline, self.X_data, self.y_data, cv=3).mean()\n",
    "        except:\n",
    "            traceback.print_exception(*sys.exc_info())\n",
    "            return None\n",
    "\n",
    "\n",
    "if __name__ == '__main__':\n",
    "print(Checker().check(SCRIPT_DIR + '/transformer_example.py'))"
   ]
  }
 ],
 "metadata": {
  "kernelspec": {
   "display_name": "Python 3",
   "language": "python",
   "name": "python3"
  },
  "language_info": {
   "codemirror_mode": {
    "name": "ipython",
    "version": 3
   },
   "file_extension": ".py",
   "mimetype": "text/x-python",
   "name": "python",
   "nbconvert_exporter": "python",
   "pygments_lexer": "ipython3",
   "version": "3.6.3"
  }
 },
 "nbformat": 4,
 "nbformat_minor": 2
}
