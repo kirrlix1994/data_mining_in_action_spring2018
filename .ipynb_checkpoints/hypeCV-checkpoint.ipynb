{
 "cells": [
  {
   "cell_type": "code",
   "execution_count": 1,
   "metadata": {
    "collapsed": true
   },
   "outputs": [],
   "source": [
    "%load_ext autoreload\n",
    "%autoreload 2"
   ]
  },
  {
   "cell_type": "code",
   "execution_count": 2,
   "metadata": {
    "collapsed": true
   },
   "outputs": [],
   "source": [
    "import sys\n",
    "sys.path.append('/media/drsleep/Windows/Users/NekrasovV/Documents/bnb/bnk/data_scripts/src_prod/')"
   ]
  },
  {
   "cell_type": "code",
   "execution_count": 3,
   "metadata": {},
   "outputs": [
    {
     "name": "stderr",
     "output_type": "stream",
     "text": [
      "/home/drsleep/.local/lib/python2.7/site-packages/sklearn/cross_validation.py:44: DeprecationWarning: This module was deprecated in version 0.18 in favor of the model_selection module into which all the refactored classes and functions are moved. Also note that the interface of the new CV iterators are different from that of this module. This module will be removed in 0.20.\n",
      "  \"This module will be removed in 0.20.\", DeprecationWarning)\n"
     ]
    }
   ],
   "source": [
    "from target_pred import XGBoostModel, FCModel, HypeNKFoldCV, targetEncoding, KFoldTargetEncoding\n",
    "from target_pred import create_sets, binning"
   ]
  },
  {
   "cell_type": "code",
   "execution_count": 4,
   "metadata": {
    "collapsed": true
   },
   "outputs": [],
   "source": [
    "from sklearn.metrics import f1_score\n",
    "import pandas as pd\n",
    "import numpy as np"
   ]
  },
  {
   "cell_type": "code",
   "execution_count": 5,
   "metadata": {
    "collapsed": true
   },
   "outputs": [],
   "source": [
    "from collections import defaultdict\n",
    "from tqdm import tqdm\n",
    "import re"
   ]
  },
  {
   "cell_type": "code",
   "execution_count": 6,
   "metadata": {
    "collapsed": true
   },
   "outputs": [],
   "source": [
    "train_file_path = '../../Downloads/train.csv'\n",
    "test_file_path = '../../Downloads/test.csv'\n",
    "train_df = pd.read_csv(train_file_path)\n",
    "test_df = pd.read_csv(test_file_path)\n",
    "subm_df = pd.read_csv('../../Downloads/gender_submission.csv')"
   ]
  },
  {
   "cell_type": "code",
   "execution_count": 7,
   "metadata": {
    "collapsed": true
   },
   "outputs": [],
   "source": [
    "sep = ','\n",
    "ignore_cols_dummy = ['Survived']#['Age', 'Pclass', 'Survived',\n",
    "                     #'SibSp', 'Parch', 'Sex', 'Embarked']\n",
    "ignore_cols_norm = ['Age', 'Pclass', 'Survived',\n",
    "                    'SibSp', 'Parch', 'Sex', 'Cabin', 'Embarked']\n",
    "ignore_cols_binning = ['Pclass', 'Survived',\n",
    "                       'Parch']\n",
    "drop_cols = ['PassengerId', 'Name', 'Ticket', 'Cabin']\n",
    "dummy_config = None#(40, 0.9)\n",
    "fill_na = False\n",
    "scaler = 'standard'\n",
    "n_bins = 0"
   ]
  },
  {
   "cell_type": "code",
   "execution_count": 8,
   "metadata": {},
   "outputs": [
    {
     "name": "stdout",
     "output_type": "stream",
     "text": [
      "PROCESSING NUMERIC COLUMN : Age\n",
      "***************\n",
      "PROCESSING OBJECT COLUMN : Embarked\n",
      "***************\n",
      "PROCESSING NUMERIC COLUMN : Fare\n",
      "***************\n",
      "PROCESSING NUMERIC COLUMN : Parch\n",
      "***************\n",
      "PROCESSING NUMERIC COLUMN : Pclass\n",
      "***************\n",
      "PROCESSING OBJECT COLUMN : Sex\n",
      "***************\n",
      "PROCESSING NUMERIC COLUMN : SibSp\n",
      "***************\n",
      "NORMALISING COLUMN : Fare\n",
      "***************\n"
     ]
    }
   ],
   "source": [
    "train_Xy, _, t_dict, n_dict, b_dict = create_sets(train_file_path,\n",
    "                                                  sep,\n",
    "                                                  ignore_cols_dummy=ignore_cols_dummy,\n",
    "                                                  ignore_cols_norm=ignore_cols_norm,\n",
    "                                                  ignore_cols_binning=ignore_cols_binning,\n",
    "                                                  drop_cols=drop_cols,\n",
    "                                                  dummy_config=dummy_config,\n",
    "                                                  fill_na=fill_na,\n",
    "                                                  scaler=scaler,\n",
    "                                                  n_bins=n_bins,\n",
    "                                                  transform_dict=None,\n",
    "                                                  normalise_dict=None,\n",
    "                                                  binning_dict=None,\n",
    "                                                  test_size=0,\n",
    "                                                  trn_ids=None,\n",
    "                                                  tst_ids=None,\n",
    "                                                  seed=42,\n",
    "                                                  verbose=True)"
   ]
  },
  {
   "cell_type": "code",
   "execution_count": 9,
   "metadata": {
    "collapsed": true
   },
   "outputs": [],
   "source": [
    "binning_columns = dict(Pclass= 3,\n",
    "                       Sex=2, \n",
    "#                       'Cabin' = 15, \n",
    "                       Embarked=3,\n",
    "                       Age=5,\n",
    "                       SibSp=3,\n",
    "                       Parch=4)\n",
    "b_dict = dict()\n",
    "b_dict['cols'] = list()\n",
    "for c_, nbins in binning_columns.iteritems():\n",
    "    b_dict[c_] = dict()\n",
    "    c_binned = '_'.join([c_, 'BINNED'])\n",
    "    bin_out = binning(train_Xy[[c_]], [], [], nbins)\n",
    "    train_Xy[c_binned] = bin_out[0][c_binned]\n",
    "    b_dict[c_]['binning'] = bin_out[1][c_]['binning']\n",
    "    b_dict['cols'].append(c_)"
   ]
  },
  {
   "cell_type": "code",
   "execution_count": 10,
   "metadata": {
    "collapsed": true
   },
   "outputs": [],
   "source": [
    "binned_columns = filter(lambda x: 'BINNED' in x, train_Xy.columns)"
   ]
  },
  {
   "cell_type": "code",
   "execution_count": null,
   "metadata": {},
   "outputs": [
    {
     "name": "stderr",
     "output_type": "stream",
     "text": [
      "  5%|▌         | 1/20 [03:02<57:52, 182.79s/it]"
     ]
    }
   ],
   "source": [
    "n_trials = 20\n",
    "n_folds = 5\n",
    "k_folds = 5\n",
    "\n",
    "param_dict = defaultdict(list)\n",
    "\n",
    "for i in tqdm(range(n_trials)):\n",
    "    alpha = np.random.uniform(low=8, high=12)\n",
    "    noise_std = 0.000695\n",
    "    n_estimators = np.random.randint(low=40, high=200)\n",
    "    subsample = np.random.uniform(low=0.7, high=0.9)\n",
    "    reg_lambda = np.random.uniform(low=400, high=600)\n",
    "    reg_alpha = np.random.uniform(low=1, high=4)\n",
    "    \n",
    "    c_config = dict(n_estimators=n_estimators,\n",
    "                    subsample=subsample,\n",
    "                    reg_alpha=reg_alpha,\n",
    "                    reg_lambda=reg_lambda)\n",
    "    c_model = XGBoostModel(c_config)\n",
    "    \n",
    "    val_preds = HypeNKFoldCV(train_Xy,\n",
    "                             binned_columns,\n",
    "                             'Survived',\n",
    "                             c_model,\n",
    "                             n_folds,\n",
    "                             k_folds,\n",
    "                             alpha,\n",
    "                             noise_std,\n",
    "                             f1_score)\n",
    "    \n",
    "    param_dict['alpha'].append(alpha)\n",
    "    param_dict['n_estimators'].append(n_estimators)\n",
    "    param_dict['subsample'].append(subsample)\n",
    "    param_dict['reg_lambda'].append(reg_lambda)\n",
    "    param_dict['reg_alpha'].append(reg_alpha)\n",
    "    param_dict['val_scores'].append(val_preds)"
   ]
  },
  {
   "cell_type": "code",
   "execution_count": 174,
   "metadata": {
    "collapsed": true
   },
   "outputs": [],
   "source": [
    "param_df = pd.DataFrame(param_dict)\n",
    "param_df['mean_fscore'] = param_df['val_scores'].apply(np.mean)\n",
    "param_df['std_fscore'] = param_df['val_scores'].apply(np.std)"
   ]
  },
  {
   "cell_type": "code",
   "execution_count": 175,
   "metadata": {},
   "outputs": [
    {
     "data": {
      "text/html": [
       "<div>\n",
       "<style>\n",
       "    .dataframe thead tr:only-child th {\n",
       "        text-align: right;\n",
       "    }\n",
       "\n",
       "    .dataframe thead th {\n",
       "        text-align: left;\n",
       "    }\n",
       "\n",
       "    .dataframe tbody tr th {\n",
       "        vertical-align: top;\n",
       "    }\n",
       "</style>\n",
       "<table border=\"1\" class=\"dataframe\">\n",
       "  <thead>\n",
       "    <tr style=\"text-align: right;\">\n",
       "      <th></th>\n",
       "      <th>alpha</th>\n",
       "      <th>n_estimators</th>\n",
       "      <th>reg_alpha</th>\n",
       "      <th>reg_lambda</th>\n",
       "      <th>subsample</th>\n",
       "      <th>mean_fscore</th>\n",
       "      <th>std_fscore</th>\n",
       "    </tr>\n",
       "  </thead>\n",
       "  <tbody>\n",
       "    <tr>\n",
       "      <th>8</th>\n",
       "      <td>10.463191</td>\n",
       "      <td>51</td>\n",
       "      <td>2.357851</td>\n",
       "      <td>420.407894</td>\n",
       "      <td>0.856226</td>\n",
       "      <td>0.742129</td>\n",
       "      <td>0.036746</td>\n",
       "    </tr>\n",
       "    <tr>\n",
       "      <th>18</th>\n",
       "      <td>11.233565</td>\n",
       "      <td>103</td>\n",
       "      <td>2.022113</td>\n",
       "      <td>493.434795</td>\n",
       "      <td>0.880547</td>\n",
       "      <td>0.740987</td>\n",
       "      <td>0.027723</td>\n",
       "    </tr>\n",
       "    <tr>\n",
       "      <th>3</th>\n",
       "      <td>8.942441</td>\n",
       "      <td>170</td>\n",
       "      <td>1.139513</td>\n",
       "      <td>452.500741</td>\n",
       "      <td>0.885678</td>\n",
       "      <td>0.737132</td>\n",
       "      <td>0.048444</td>\n",
       "    </tr>\n",
       "    <tr>\n",
       "      <th>1</th>\n",
       "      <td>8.963807</td>\n",
       "      <td>192</td>\n",
       "      <td>2.531458</td>\n",
       "      <td>494.940762</td>\n",
       "      <td>0.832384</td>\n",
       "      <td>0.735543</td>\n",
       "      <td>0.046687</td>\n",
       "    </tr>\n",
       "    <tr>\n",
       "      <th>15</th>\n",
       "      <td>8.491863</td>\n",
       "      <td>73</td>\n",
       "      <td>3.030954</td>\n",
       "      <td>549.521227</td>\n",
       "      <td>0.810607</td>\n",
       "      <td>0.732340</td>\n",
       "      <td>0.022944</td>\n",
       "    </tr>\n",
       "    <tr>\n",
       "      <th>9</th>\n",
       "      <td>8.115125</td>\n",
       "      <td>102</td>\n",
       "      <td>1.363317</td>\n",
       "      <td>584.950852</td>\n",
       "      <td>0.777973</td>\n",
       "      <td>0.732281</td>\n",
       "      <td>0.043791</td>\n",
       "    </tr>\n",
       "    <tr>\n",
       "      <th>14</th>\n",
       "      <td>10.897169</td>\n",
       "      <td>169</td>\n",
       "      <td>1.529125</td>\n",
       "      <td>508.689598</td>\n",
       "      <td>0.839359</td>\n",
       "      <td>0.731547</td>\n",
       "      <td>0.064999</td>\n",
       "    </tr>\n",
       "    <tr>\n",
       "      <th>12</th>\n",
       "      <td>8.933435</td>\n",
       "      <td>41</td>\n",
       "      <td>2.775824</td>\n",
       "      <td>481.029695</td>\n",
       "      <td>0.835395</td>\n",
       "      <td>0.727589</td>\n",
       "      <td>0.029451</td>\n",
       "    </tr>\n",
       "    <tr>\n",
       "      <th>13</th>\n",
       "      <td>10.231624</td>\n",
       "      <td>64</td>\n",
       "      <td>3.495297</td>\n",
       "      <td>548.871192</td>\n",
       "      <td>0.843158</td>\n",
       "      <td>0.727540</td>\n",
       "      <td>0.058055</td>\n",
       "    </tr>\n",
       "    <tr>\n",
       "      <th>0</th>\n",
       "      <td>10.655081</td>\n",
       "      <td>177</td>\n",
       "      <td>1.286019</td>\n",
       "      <td>461.526624</td>\n",
       "      <td>0.789688</td>\n",
       "      <td>0.724176</td>\n",
       "      <td>0.041546</td>\n",
       "    </tr>\n",
       "    <tr>\n",
       "      <th>17</th>\n",
       "      <td>9.324513</td>\n",
       "      <td>49</td>\n",
       "      <td>1.098907</td>\n",
       "      <td>585.526243</td>\n",
       "      <td>0.729092</td>\n",
       "      <td>0.723928</td>\n",
       "      <td>0.045568</td>\n",
       "    </tr>\n",
       "    <tr>\n",
       "      <th>6</th>\n",
       "      <td>9.084757</td>\n",
       "      <td>87</td>\n",
       "      <td>3.607049</td>\n",
       "      <td>419.334876</td>\n",
       "      <td>0.750371</td>\n",
       "      <td>0.721023</td>\n",
       "      <td>0.066642</td>\n",
       "    </tr>\n",
       "    <tr>\n",
       "      <th>10</th>\n",
       "      <td>10.654351</td>\n",
       "      <td>73</td>\n",
       "      <td>2.769796</td>\n",
       "      <td>563.343164</td>\n",
       "      <td>0.783155</td>\n",
       "      <td>0.720066</td>\n",
       "      <td>0.051590</td>\n",
       "    </tr>\n",
       "    <tr>\n",
       "      <th>11</th>\n",
       "      <td>10.630092</td>\n",
       "      <td>142</td>\n",
       "      <td>1.813159</td>\n",
       "      <td>408.169241</td>\n",
       "      <td>0.704921</td>\n",
       "      <td>0.719347</td>\n",
       "      <td>0.032375</td>\n",
       "    </tr>\n",
       "    <tr>\n",
       "      <th>2</th>\n",
       "      <td>9.559418</td>\n",
       "      <td>105</td>\n",
       "      <td>2.327577</td>\n",
       "      <td>588.025965</td>\n",
       "      <td>0.758041</td>\n",
       "      <td>0.717558</td>\n",
       "      <td>0.035053</td>\n",
       "    </tr>\n",
       "    <tr>\n",
       "      <th>5</th>\n",
       "      <td>8.900837</td>\n",
       "      <td>69</td>\n",
       "      <td>3.256866</td>\n",
       "      <td>435.902301</td>\n",
       "      <td>0.734816</td>\n",
       "      <td>0.717502</td>\n",
       "      <td>0.018122</td>\n",
       "    </tr>\n",
       "    <tr>\n",
       "      <th>7</th>\n",
       "      <td>11.891728</td>\n",
       "      <td>127</td>\n",
       "      <td>2.071348</td>\n",
       "      <td>524.818133</td>\n",
       "      <td>0.872423</td>\n",
       "      <td>0.716626</td>\n",
       "      <td>0.047349</td>\n",
       "    </tr>\n",
       "    <tr>\n",
       "      <th>19</th>\n",
       "      <td>8.498296</td>\n",
       "      <td>41</td>\n",
       "      <td>3.035654</td>\n",
       "      <td>513.215430</td>\n",
       "      <td>0.766545</td>\n",
       "      <td>0.713944</td>\n",
       "      <td>0.037019</td>\n",
       "    </tr>\n",
       "    <tr>\n",
       "      <th>4</th>\n",
       "      <td>11.979627</td>\n",
       "      <td>102</td>\n",
       "      <td>2.452410</td>\n",
       "      <td>493.902684</td>\n",
       "      <td>0.871556</td>\n",
       "      <td>0.712315</td>\n",
       "      <td>0.010736</td>\n",
       "    </tr>\n",
       "    <tr>\n",
       "      <th>16</th>\n",
       "      <td>8.844987</td>\n",
       "      <td>106</td>\n",
       "      <td>3.061178</td>\n",
       "      <td>468.484620</td>\n",
       "      <td>0.886109</td>\n",
       "      <td>0.693280</td>\n",
       "      <td>0.064723</td>\n",
       "    </tr>\n",
       "  </tbody>\n",
       "</table>\n",
       "</div>"
      ],
      "text/plain": [
       "        alpha  n_estimators  reg_alpha  reg_lambda  subsample  mean_fscore  \\\n",
       "8   10.463191            51   2.357851  420.407894   0.856226     0.742129   \n",
       "18  11.233565           103   2.022113  493.434795   0.880547     0.740987   \n",
       "3    8.942441           170   1.139513  452.500741   0.885678     0.737132   \n",
       "1    8.963807           192   2.531458  494.940762   0.832384     0.735543   \n",
       "15   8.491863            73   3.030954  549.521227   0.810607     0.732340   \n",
       "9    8.115125           102   1.363317  584.950852   0.777973     0.732281   \n",
       "14  10.897169           169   1.529125  508.689598   0.839359     0.731547   \n",
       "12   8.933435            41   2.775824  481.029695   0.835395     0.727589   \n",
       "13  10.231624            64   3.495297  548.871192   0.843158     0.727540   \n",
       "0   10.655081           177   1.286019  461.526624   0.789688     0.724176   \n",
       "17   9.324513            49   1.098907  585.526243   0.729092     0.723928   \n",
       "6    9.084757            87   3.607049  419.334876   0.750371     0.721023   \n",
       "10  10.654351            73   2.769796  563.343164   0.783155     0.720066   \n",
       "11  10.630092           142   1.813159  408.169241   0.704921     0.719347   \n",
       "2    9.559418           105   2.327577  588.025965   0.758041     0.717558   \n",
       "5    8.900837            69   3.256866  435.902301   0.734816     0.717502   \n",
       "7   11.891728           127   2.071348  524.818133   0.872423     0.716626   \n",
       "19   8.498296            41   3.035654  513.215430   0.766545     0.713944   \n",
       "4   11.979627           102   2.452410  493.902684   0.871556     0.712315   \n",
       "16   8.844987           106   3.061178  468.484620   0.886109     0.693280   \n",
       "\n",
       "    std_fscore  \n",
       "8     0.036746  \n",
       "18    0.027723  \n",
       "3     0.048444  \n",
       "1     0.046687  \n",
       "15    0.022944  \n",
       "9     0.043791  \n",
       "14    0.064999  \n",
       "12    0.029451  \n",
       "13    0.058055  \n",
       "0     0.041546  \n",
       "17    0.045568  \n",
       "6     0.066642  \n",
       "10    0.051590  \n",
       "11    0.032375  \n",
       "2     0.035053  \n",
       "5     0.018122  \n",
       "7     0.047349  \n",
       "19    0.037019  \n",
       "4     0.010736  \n",
       "16    0.064723  "
      ]
     },
     "execution_count": 175,
     "metadata": {},
     "output_type": "execute_result"
    }
   ],
   "source": [
    "param_df.drop('val_scores', axis=1).sort_values('mean_fscore', ascending=False)"
   ]
  },
  {
   "cell_type": "code",
   "execution_count": 80,
   "metadata": {
    "collapsed": true
   },
   "outputs": [],
   "source": [
    "c_config = dict(n_estimators=189,\n",
    "                subsample=0.735415,\n",
    "                reg_alpha=2.226419,\n",
    "                reg_lambda=157.848705)"
   ]
  },
  {
   "cell_type": "code",
   "execution_count": 81,
   "metadata": {
    "collapsed": true
   },
   "outputs": [],
   "source": [
    "c_model_orig = XGBoostModel(c_config)\n",
    "c_model_orig.train(train_Xy.drop(binned_columns + ['Survived'], axis=1),\n",
    "                   train_Xy.Survived)"
   ]
  },
  {
   "cell_type": "code",
   "execution_count": 87,
   "metadata": {},
   "outputs": [
    {
     "data": {
      "text/plain": [
       "0.83613916947250277"
      ]
     },
     "execution_count": 87,
     "metadata": {},
     "output_type": "execute_result"
    }
   ],
   "source": [
    "np.mean((c_model_orig\n",
    "         .test(train_Xy.drop(binned_columns + ['Survived'], axis=1))).argmax(axis=1) == train_Xy.Survived)"
   ]
  },
  {
   "cell_type": "code",
   "execution_count": 82,
   "metadata": {},
   "outputs": [
    {
     "data": {
      "text/plain": [
       "0.77115987460815039"
      ]
     },
     "execution_count": 82,
     "metadata": {},
     "output_type": "execute_result"
    }
   ],
   "source": [
    "f1_score(c_model_orig\n",
    "         .test(train_Xy.drop(binned_columns + ['Survived'], axis=1))\n",
    "         .argmax(axis=1), train_Xy.Survived)"
   ]
  },
  {
   "cell_type": "code",
   "execution_count": 89,
   "metadata": {
    "collapsed": true
   },
   "outputs": [],
   "source": [
    "target_col = 'Survived'\n",
    "for c_ in binned_columns:\n",
    "    idx = train_Xy.index.values.copy()\n",
    "    np.random.shuffle(idx)\n",
    "    inner_splits = np.array_split(idx, n_folds)\n",
    "    new_col_name = '_'.join([c_, target_col])\n",
    "    train_Xy[new_col_name] = KFoldTargetEncoding(train_Xy[[c_, target_col]],\n",
    "                                                 inner_splits,\n",
    "                                                 c_,\n",
    "                                                 target_col,\n",
    "                                                 new_col_name,\n",
    "                                                 alpha=6.307942,\n",
    "                                                 noise_std=noise_std)"
   ]
  },
  {
   "cell_type": "code",
   "execution_count": 92,
   "metadata": {
    "collapsed": true
   },
   "outputs": [],
   "source": [
    "c_config = dict(n_estimators=189,\n",
    "                subsample=0.735415,\n",
    "                reg_alpha=2.226419,\n",
    "                reg_lambda=357.848705)\n",
    "\n",
    "c_model_orig = XGBoostModel(c_config)\n",
    "c_model_orig.train(train_Xy.drop(['Survived'], axis=1),\n",
    "                   train_Xy.Survived)"
   ]
  },
  {
   "cell_type": "code",
   "execution_count": 125,
   "metadata": {},
   "outputs": [
    {
     "data": {
      "text/plain": [
       "{'binning': <target_pred.utils.LabelBinning instance at 0x7f85a2fd8128>}"
      ]
     },
     "execution_count": 125,
     "metadata": {},
     "output_type": "execute_result"
    }
   ],
   "source": [
    "b_dict['SibSp']"
   ]
  },
  {
   "cell_type": "code",
   "execution_count": 131,
   "metadata": {},
   "outputs": [
    {
     "name": "stdout",
     "output_type": "stream",
     "text": [
      "PROCESSING NUMERIC COLUMN : Age\n",
      "***************\n",
      "PROCESSING OBJECT COLUMN : Embarked\n",
      "***************\n",
      "PROCESSING NUMERIC COLUMN : Fare\n",
      "***************\n",
      "PROCESSING NUMERIC COLUMN : Parch\n",
      "***************\n",
      "PROCESSING NUMERIC COLUMN : Pclass\n",
      "***************\n",
      "PROCESSING OBJECT COLUMN : Sex\n",
      "***************\n",
      "PROCESSING NUMERIC COLUMN : SibSp\n",
      "***************\n",
      "NORMALISING COLUMN : Fare\n",
      "***************\n"
     ]
    }
   ],
   "source": [
    "## prepare test\n",
    "test_X, _, _, _, _ = create_sets(test_file_path,\n",
    "                                                  sep,\n",
    "                                                  ignore_cols_dummy=ignore_cols_dummy,\n",
    "                                                  ignore_cols_norm=ignore_cols_norm,\n",
    "                                                  ignore_cols_binning=ignore_cols_binning,\n",
    "                                                  drop_cols=drop_cols,\n",
    "                                                  dummy_config=dummy_config,\n",
    "                                                  fill_na=fill_na,\n",
    "                                                  scaler=scaler,\n",
    "                                                  n_bins=1,\n",
    "                                                  transform_dict=t_dict,\n",
    "                                                  normalise_dict=n_dict,\n",
    "                                                  binning_dict=None,\n",
    "                                                  test_size=0,\n",
    "                                                  trn_ids=None,\n",
    "                                                  tst_ids=None,\n",
    "                                                  seed=42,\n",
    "                                                  verbose=True)"
   ]
  },
  {
   "cell_type": "code",
   "execution_count": 159,
   "metadata": {
    "collapsed": true
   },
   "outputs": [],
   "source": [
    "binning_columns = dict(Pclass= 3,\n",
    "                       Sex=2, \n",
    "#                       'Cabin' = 15, \n",
    "                       Embarked=3,\n",
    "                       Age=5,\n",
    "                       SibSp=3,\n",
    "                       Parch=4)\n",
    "\n",
    "for c_, nbins in binning_columns.iteritems():\n",
    "    c_binned = '_'.join([c_, 'BINNED'])\n",
    "    bin_out = binning(test_X[[c_]], [], [], nbins, b_dict, verbose=False)\n",
    "    test_X[c_binned] = bin_out[0][c_binned]"
   ]
  },
  {
   "cell_type": "code",
   "execution_count": 160,
   "metadata": {},
   "outputs": [
    {
     "data": {
      "text/html": [
       "<div>\n",
       "<style>\n",
       "    .dataframe thead tr:only-child th {\n",
       "        text-align: right;\n",
       "    }\n",
       "\n",
       "    .dataframe thead th {\n",
       "        text-align: left;\n",
       "    }\n",
       "\n",
       "    .dataframe tbody tr th {\n",
       "        vertical-align: top;\n",
       "    }\n",
       "</style>\n",
       "<table border=\"1\" class=\"dataframe\">\n",
       "  <thead>\n",
       "    <tr style=\"text-align: right;\">\n",
       "      <th></th>\n",
       "      <th>Survived</th>\n",
       "      <th>Pclass</th>\n",
       "      <th>Sex</th>\n",
       "      <th>Age</th>\n",
       "      <th>SibSp</th>\n",
       "      <th>Parch</th>\n",
       "      <th>Fare</th>\n",
       "      <th>Embarked</th>\n",
       "      <th>SibSp_BINNED</th>\n",
       "      <th>Embarked_BINNED</th>\n",
       "      <th>Age_BINNED</th>\n",
       "      <th>Parch_BINNED</th>\n",
       "      <th>Pclass_BINNED</th>\n",
       "      <th>Sex_BINNED</th>\n",
       "    </tr>\n",
       "  </thead>\n",
       "  <tbody>\n",
       "    <tr>\n",
       "      <th>0</th>\n",
       "      <td>0</td>\n",
       "      <td>3</td>\n",
       "      <td>1</td>\n",
       "      <td>22.0</td>\n",
       "      <td>1</td>\n",
       "      <td>0</td>\n",
       "      <td>-0.502445</td>\n",
       "      <td>1</td>\n",
       "      <td>1</td>\n",
       "      <td>0</td>\n",
       "      <td>1.0</td>\n",
       "      <td>0</td>\n",
       "      <td>1</td>\n",
       "      <td>0</td>\n",
       "    </tr>\n",
       "    <tr>\n",
       "      <th>1</th>\n",
       "      <td>1</td>\n",
       "      <td>1</td>\n",
       "      <td>2</td>\n",
       "      <td>38.0</td>\n",
       "      <td>1</td>\n",
       "      <td>0</td>\n",
       "      <td>0.786845</td>\n",
       "      <td>2</td>\n",
       "      <td>1</td>\n",
       "      <td>1</td>\n",
       "      <td>3.0</td>\n",
       "      <td>0</td>\n",
       "      <td>0</td>\n",
       "      <td>1</td>\n",
       "    </tr>\n",
       "    <tr>\n",
       "      <th>2</th>\n",
       "      <td>1</td>\n",
       "      <td>3</td>\n",
       "      <td>2</td>\n",
       "      <td>26.0</td>\n",
       "      <td>0</td>\n",
       "      <td>0</td>\n",
       "      <td>-0.488854</td>\n",
       "      <td>1</td>\n",
       "      <td>0</td>\n",
       "      <td>0</td>\n",
       "      <td>1.0</td>\n",
       "      <td>0</td>\n",
       "      <td>1</td>\n",
       "      <td>1</td>\n",
       "    </tr>\n",
       "    <tr>\n",
       "      <th>3</th>\n",
       "      <td>1</td>\n",
       "      <td>1</td>\n",
       "      <td>2</td>\n",
       "      <td>35.0</td>\n",
       "      <td>1</td>\n",
       "      <td>0</td>\n",
       "      <td>0.420730</td>\n",
       "      <td>1</td>\n",
       "      <td>1</td>\n",
       "      <td>0</td>\n",
       "      <td>3.0</td>\n",
       "      <td>0</td>\n",
       "      <td>0</td>\n",
       "      <td>1</td>\n",
       "    </tr>\n",
       "    <tr>\n",
       "      <th>4</th>\n",
       "      <td>0</td>\n",
       "      <td>3</td>\n",
       "      <td>1</td>\n",
       "      <td>35.0</td>\n",
       "      <td>0</td>\n",
       "      <td>0</td>\n",
       "      <td>-0.486337</td>\n",
       "      <td>1</td>\n",
       "      <td>0</td>\n",
       "      <td>0</td>\n",
       "      <td>3.0</td>\n",
       "      <td>0</td>\n",
       "      <td>1</td>\n",
       "      <td>0</td>\n",
       "    </tr>\n",
       "  </tbody>\n",
       "</table>\n",
       "</div>"
      ],
      "text/plain": [
       "   Survived  Pclass  Sex   Age  SibSp  Parch      Fare  Embarked  \\\n",
       "0         0       3    1  22.0      1      0 -0.502445         1   \n",
       "1         1       1    2  38.0      1      0  0.786845         2   \n",
       "2         1       3    2  26.0      0      0 -0.488854         1   \n",
       "3         1       1    2  35.0      1      0  0.420730         1   \n",
       "4         0       3    1  35.0      0      0 -0.486337         1   \n",
       "\n",
       "   SibSp_BINNED  Embarked_BINNED  Age_BINNED  Parch_BINNED  Pclass_BINNED  \\\n",
       "0             1                0         1.0             0              1   \n",
       "1             1                1         3.0             0              0   \n",
       "2             0                0         1.0             0              1   \n",
       "3             1                0         3.0             0              0   \n",
       "4             0                0         3.0             0              1   \n",
       "\n",
       "   Sex_BINNED  \n",
       "0           0  \n",
       "1           1  \n",
       "2           1  \n",
       "3           1  \n",
       "4           0  "
      ]
     },
     "execution_count": 160,
     "metadata": {},
     "output_type": "execute_result"
    }
   ],
   "source": [
    "train_Xy.head()"
   ]
  },
  {
   "cell_type": "code",
   "execution_count": 161,
   "metadata": {},
   "outputs": [
    {
     "data": {
      "text/html": [
       "<div>\n",
       "<style>\n",
       "    .dataframe thead tr:only-child th {\n",
       "        text-align: right;\n",
       "    }\n",
       "\n",
       "    .dataframe thead th {\n",
       "        text-align: left;\n",
       "    }\n",
       "\n",
       "    .dataframe tbody tr th {\n",
       "        vertical-align: top;\n",
       "    }\n",
       "</style>\n",
       "<table border=\"1\" class=\"dataframe\">\n",
       "  <thead>\n",
       "    <tr style=\"text-align: right;\">\n",
       "      <th></th>\n",
       "      <th>Pclass</th>\n",
       "      <th>Sex</th>\n",
       "      <th>Age</th>\n",
       "      <th>SibSp</th>\n",
       "      <th>Parch</th>\n",
       "      <th>Fare</th>\n",
       "      <th>Embarked</th>\n",
       "      <th>SibSp_BINNED</th>\n",
       "      <th>Embarked_BINNED</th>\n",
       "      <th>Age_BINNED</th>\n",
       "      <th>Parch_BINNED</th>\n",
       "      <th>Pclass_BINNED</th>\n",
       "      <th>Sex_BINNED</th>\n",
       "    </tr>\n",
       "  </thead>\n",
       "  <tbody>\n",
       "    <tr>\n",
       "      <th>0</th>\n",
       "      <td>3</td>\n",
       "      <td>1</td>\n",
       "      <td>34.5</td>\n",
       "      <td>0</td>\n",
       "      <td>0</td>\n",
       "      <td>-0.490783</td>\n",
       "      <td>3</td>\n",
       "      <td>0</td>\n",
       "      <td>1</td>\n",
       "      <td>3.0</td>\n",
       "      <td>0</td>\n",
       "      <td>1</td>\n",
       "      <td>0</td>\n",
       "    </tr>\n",
       "    <tr>\n",
       "      <th>1</th>\n",
       "      <td>3</td>\n",
       "      <td>2</td>\n",
       "      <td>47.0</td>\n",
       "      <td>1</td>\n",
       "      <td>0</td>\n",
       "      <td>-0.507479</td>\n",
       "      <td>1</td>\n",
       "      <td>1</td>\n",
       "      <td>0</td>\n",
       "      <td>4.0</td>\n",
       "      <td>0</td>\n",
       "      <td>1</td>\n",
       "      <td>1</td>\n",
       "    </tr>\n",
       "    <tr>\n",
       "      <th>2</th>\n",
       "      <td>2</td>\n",
       "      <td>1</td>\n",
       "      <td>62.0</td>\n",
       "      <td>0</td>\n",
       "      <td>0</td>\n",
       "      <td>-0.453367</td>\n",
       "      <td>3</td>\n",
       "      <td>0</td>\n",
       "      <td>1</td>\n",
       "      <td>4.0</td>\n",
       "      <td>0</td>\n",
       "      <td>0</td>\n",
       "      <td>0</td>\n",
       "    </tr>\n",
       "    <tr>\n",
       "      <th>3</th>\n",
       "      <td>3</td>\n",
       "      <td>1</td>\n",
       "      <td>27.0</td>\n",
       "      <td>0</td>\n",
       "      <td>0</td>\n",
       "      <td>-0.474005</td>\n",
       "      <td>1</td>\n",
       "      <td>0</td>\n",
       "      <td>0</td>\n",
       "      <td>1.0</td>\n",
       "      <td>0</td>\n",
       "      <td>1</td>\n",
       "      <td>0</td>\n",
       "    </tr>\n",
       "    <tr>\n",
       "      <th>4</th>\n",
       "      <td>3</td>\n",
       "      <td>2</td>\n",
       "      <td>22.0</td>\n",
       "      <td>1</td>\n",
       "      <td>1</td>\n",
       "      <td>-0.401017</td>\n",
       "      <td>1</td>\n",
       "      <td>1</td>\n",
       "      <td>0</td>\n",
       "      <td>1.0</td>\n",
       "      <td>1</td>\n",
       "      <td>1</td>\n",
       "      <td>1</td>\n",
       "    </tr>\n",
       "  </tbody>\n",
       "</table>\n",
       "</div>"
      ],
      "text/plain": [
       "   Pclass  Sex   Age  SibSp  Parch      Fare  Embarked  SibSp_BINNED  \\\n",
       "0       3    1  34.5      0      0 -0.490783         3             0   \n",
       "1       3    2  47.0      1      0 -0.507479         1             1   \n",
       "2       2    1  62.0      0      0 -0.453367         3             0   \n",
       "3       3    1  27.0      0      0 -0.474005         1             0   \n",
       "4       3    2  22.0      1      1 -0.401017         1             1   \n",
       "\n",
       "   Embarked_BINNED  Age_BINNED  Parch_BINNED  Pclass_BINNED  Sex_BINNED  \n",
       "0                1         3.0             0              1           0  \n",
       "1                0         4.0             0              1           1  \n",
       "2                1         4.0             0              0           0  \n",
       "3                0         1.0             0              1           0  \n",
       "4                0         1.0             1              1           1  "
      ]
     },
     "execution_count": 161,
     "metadata": {},
     "output_type": "execute_result"
    }
   ],
   "source": [
    "test_X.head()"
   ]
  },
  {
   "cell_type": "code",
   "execution_count": 163,
   "metadata": {
    "collapsed": true
   },
   "outputs": [],
   "source": [
    "for c_ in binned_columns:\n",
    "    new_col_name = '_'.join([c_, target_col])\n",
    "    test_X[new_col_name] = targetEncoding(train_Xy[[c_, target_col]],\n",
    "                                          test_X[[c_]],\n",
    "                                          c_,\n",
    "                                          target_col,\n",
    "                                          alpha=6.307942,\n",
    "                                          noise_std=noise_std)"
   ]
  },
  {
   "cell_type": "code",
   "execution_count": 164,
   "metadata": {
    "collapsed": true
   },
   "outputs": [],
   "source": [
    "test_preds = c_model_orig.test(test_X)"
   ]
  },
  {
   "cell_type": "code",
   "execution_count": 167,
   "metadata": {
    "collapsed": true
   },
   "outputs": [],
   "source": [
    "subm_df['Survived'] = test_preds.argmax(axis=1)"
   ]
  },
  {
   "cell_type": "code",
   "execution_count": 168,
   "metadata": {
    "collapsed": true
   },
   "outputs": [],
   "source": [
    "subm_df.to_csv('preds_binned_hype.csv', index=False)"
   ]
  },
  {
   "cell_type": "code",
   "execution_count": 1,
   "metadata": {},
   "outputs": [
    {
     "data": {
      "text/plain": [
       "49725.0"
      ]
     },
     "execution_count": 1,
     "metadata": {},
     "output_type": "execute_result"
    }
   ],
   "source": [
    "650*76.5"
   ]
  },
  {
   "cell_type": "code",
   "execution_count": null,
   "metadata": {},
   "outputs": [],
   "source": []
  }
 ],
 "metadata": {
  "kernelspec": {
   "display_name": "Python 3",
   "language": "python",
   "name": "python3"
  },
  "language_info": {
   "codemirror_mode": {
    "name": "ipython",
    "version": 3
   },
   "file_extension": ".py",
   "mimetype": "text/x-python",
   "name": "python",
   "nbconvert_exporter": "python",
   "pygments_lexer": "ipython3",
   "version": "3.6.4"
  }
 },
 "nbformat": 4,
 "nbformat_minor": 2
}
