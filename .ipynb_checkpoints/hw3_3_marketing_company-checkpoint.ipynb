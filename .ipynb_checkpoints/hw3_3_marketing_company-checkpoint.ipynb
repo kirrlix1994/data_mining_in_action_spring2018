{
 "cells": [
  {
   "cell_type": "code",
   "execution_count": null,
   "metadata": {},
   "outputs": [],
   "source": [
    "from sklearn.linear_model import LinearRegression  \n",
    "from scipy.optimize import minimize\n",
    "import numpy as np\n",
    "\n",
    "\n",
    "class Optimizer:\n",
    "    def __init__(self):\n",
    "        pass\n",
    "\n",
    "    def optimize(self, origin_budget):\n",
    "        default_target = self.model.predict([origin_budget])[0]\n",
    "        random_gen = np.random.RandomState(42)\n",
    "        best_budget = origin_budget\n",
    "\n",
    "        for _ in range(2000):\n",
    "            mask = (random_gen.randint(0, 3, size=len(origin_budget)) - 1) * 0.01 + 1\n",
    "            new_budget = origin_budget * mask\n",
    "            if self.model.predict([new_budget])[0] >= default_target and np.sum(best_budget) > np.sum(new_budget):\n",
    "                best_budget = new_budget\n",
    "\n",
    "        return best_budget\n",
    "\n",
    "    def fit(self, X_data, y_data):\n",
    "self.model = LinearRegression().fit(X_data, y_data)"
   ]
  },
  {
   "cell_type": "code",
   "execution_count": null,
   "metadata": {},
   "outputs": [],
   "source": []
  }
 ],
 "metadata": {
  "kernelspec": {
   "display_name": "Python 3",
   "language": "python",
   "name": "python3"
  },
  "language_info": {
   "codemirror_mode": {
    "name": "ipython",
    "version": 3
   },
   "file_extension": ".py",
   "mimetype": "text/x-python",
   "name": "python",
   "nbconvert_exporter": "python",
   "pygments_lexer": "ipython3",
   "version": "3.6.4"
  }
 },
 "nbformat": 4,
 "nbformat_minor": 2
}
