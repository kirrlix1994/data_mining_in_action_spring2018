{
 "cells": [
  {
   "cell_type": "code",
   "execution_count": 407,
   "metadata": {
    "collapsed": true
   },
   "outputs": [],
   "source": [
    "# coding=utf-8\n",
    "import numpy as np\n",
    "import pandas as pd\n",
    "from sklearn.base import TransformerMixin\n",
    "from collections import Counter\n",
    "from sklearn.model_selection import cross_val_score\n",
    "from sklearn.pipeline import make_pipeline\n",
    "from sklearn.preprocessing import LabelEncoder\n",
    "from sklearn.linear_model import LogisticRegression"
   ]
  },
  {
   "cell_type": "code",
   "execution_count": 631,
   "metadata": {
    "collapsed": true
   },
   "outputs": [],
   "source": [
    "class CustomTransformer_new(TransformerMixin):\n",
    "    \n",
    "    def __init__(self, alpha):\n",
    "        self.alpha = alpha\n",
    "    \n",
    "    def fit(self, X, y):\n",
    "        self.cnt = Counter()\n",
    "        \n",
    "        X_large = np.copy(X) \n",
    "        for i in range(X.shape[1]):\n",
    "            for j in range((i+1),X.shape[1]):\n",
    "                new_col =X[:,i]*100+X[:,j]\n",
    "                X_large = np.hstack((X_large, new_col.reshape(-1,1)))\n",
    "                \n",
    "        for i in range(X_large.shape[1]):\n",
    "            for j in range(np.max(X_large[:, i])+1):\n",
    "                indices = X_large[:, i] == j\n",
    "                if np.sum(indices) > 0:\n",
    "                    #val = y[indices].mean()\n",
    "                    val = ((np.sum(y[indices]))*np.sum(indices) + np.sum(y)*self.alpha)/\\\n",
    "                    (np.sum(indices) + self.alpha)\n",
    "                else:\n",
    "                    #val = y.mean()\n",
    "                    val = np.sum(y)\n",
    "                self.cnt[(i, j)] = val\n",
    "         \n",
    "        return self\n",
    "    \n",
    "    def transform(self, X):\n",
    "        X_large = np.copy(X) \n",
    "        for i in range(X.shape[1]):\n",
    "            for j in range((i+1),X.shape[1]):\n",
    "                new_col =X[:,i]*100+X[:,j]\n",
    "                X_large = np.hstack((X_large, new_col.reshape(-1,1)))\n",
    "        \n",
    "        X_new = np.copy(X_large)\n",
    "        for i in range(X_large.shape[1]):\n",
    "            for j in range(np.max(X_large[:,i])+1):\n",
    "                indices = X_large[:, i] == j\n",
    "                if np.sum(indices) > 0:\n",
    "                    X_new[indices, i] = self.cnt[(i,j)]\n",
    "                    #X_new[indices, i] = (self.cnt[(i, j)]*X.shape[0] +self.global_mean*self.alpha) \\\n",
    "                    #/ (X.shape[0] + self.alpha)\n",
    "                     \n",
    "        return X_new"
   ]
  },
  {
   "cell_type": "code",
   "execution_count": 738,
   "metadata": {},
   "outputs": [],
   "source": [
    "class CustomTransformer(TransformerMixin):\n",
    "    \n",
    "    def __init__(self, alpha):\n",
    "        self.alpha = alpha\n",
    "    \n",
    "    def fit(self, X, y):\n",
    "        self.cnt = Counter()\n",
    "        for i in range(X.shape[1]):\n",
    "            for j in range(np.max(X[:, i])+1):\n",
    "                indices = X[:, i] == j\n",
    "                if np.sum(indices) > 0:\n",
    "                    val = y[indices].mean()\n",
    "                    val = ((np.sum(y[indices]))*np.sum(indices) + np.sum(y)*self.alpha)/\\\n",
    "                    (np.sum(indices) + self.alpha)\n",
    "                    #goods = np.sum(y[indices] == 1) + 1\n",
    "                    #bads = np.sum(y[indices] == 0) + 1\n",
    "                    #val = (np.log(goods/bads)*(goods+bads) +\\\n",
    "                    #       np.log(np.sum(y==1)/np.sum(y==0))*self.alpha)/\\\n",
    "                    #      (goods+bads + self.alpha)\n",
    "                else:\n",
    "                    #val = y.mean()\n",
    "                    val = np.sum(y)\n",
    "                self.cnt[(i, j)] = val\n",
    "         \n",
    "        return self\n",
    " \n",
    "#        def transform(self, X):\n",
    "#         X_new = np.copy(X)\n",
    "#         for i in range(X.shape[1]): \n",
    "#             for j in range(np.max(X[:, i])+1):\n",
    "#                 indices = X[:, i] == j\n",
    "#                 if np.sum(indices) > 0:\n",
    "#                     X_new[indices, i] = self.cnt[(i, j)]\n",
    "#         return X_new\n",
    "\n",
    "    def transform(self, X):\n",
    "        X_new = np.copy(X)\n",
    "        for i in range(X.shape[1]):\n",
    "            for j in range(np.max(X[:,i])+1):\n",
    "                indices = X[:, i] == j\n",
    "                if np.sum(indices) > 0:\n",
    "                    X_new[indices, i] = self.cnt[(i,j)]\n",
    "                    #X_new[indices, i] = (self.cnt[(i, j)]*X.shape[0] +self.global_mean*self.alpha) \\\n",
    "                    #/ (X.shape[0] + self.alpha)\n",
    "          \n",
    "        \n",
    "        \n",
    "        \n",
    "        return X_new"
   ]
  },
  {
   "cell_type": "code",
   "execution_count": 416,
   "metadata": {
    "collapsed": true
   },
   "outputs": [],
   "source": [
    "df = pd.read_csv('mushrooms.csv', header=None)"
   ]
  },
  {
   "cell_type": "code",
   "execution_count": 417,
   "metadata": {},
   "outputs": [
    {
     "data": {
      "text/html": [
       "<div>\n",
       "<style>\n",
       "    .dataframe thead tr:only-child th {\n",
       "        text-align: right;\n",
       "    }\n",
       "\n",
       "    .dataframe thead th {\n",
       "        text-align: left;\n",
       "    }\n",
       "\n",
       "    .dataframe tbody tr th {\n",
       "        vertical-align: top;\n",
       "    }\n",
       "</style>\n",
       "<table border=\"1\" class=\"dataframe\">\n",
       "  <thead>\n",
       "    <tr style=\"text-align: right;\">\n",
       "      <th></th>\n",
       "      <th>0</th>\n",
       "      <th>1</th>\n",
       "      <th>2</th>\n",
       "      <th>3</th>\n",
       "      <th>4</th>\n",
       "      <th>5</th>\n",
       "      <th>6</th>\n",
       "      <th>7</th>\n",
       "      <th>8</th>\n",
       "      <th>9</th>\n",
       "      <th>...</th>\n",
       "      <th>13</th>\n",
       "      <th>14</th>\n",
       "      <th>15</th>\n",
       "      <th>16</th>\n",
       "      <th>17</th>\n",
       "      <th>18</th>\n",
       "      <th>19</th>\n",
       "      <th>20</th>\n",
       "      <th>21</th>\n",
       "      <th>22</th>\n",
       "    </tr>\n",
       "  </thead>\n",
       "  <tbody>\n",
       "    <tr>\n",
       "      <th>0</th>\n",
       "      <td>p</td>\n",
       "      <td>x</td>\n",
       "      <td>s</td>\n",
       "      <td>n</td>\n",
       "      <td>t</td>\n",
       "      <td>p</td>\n",
       "      <td>f</td>\n",
       "      <td>c</td>\n",
       "      <td>n</td>\n",
       "      <td>k</td>\n",
       "      <td>...</td>\n",
       "      <td>s</td>\n",
       "      <td>w</td>\n",
       "      <td>w</td>\n",
       "      <td>p</td>\n",
       "      <td>w</td>\n",
       "      <td>o</td>\n",
       "      <td>p</td>\n",
       "      <td>k</td>\n",
       "      <td>s</td>\n",
       "      <td>u</td>\n",
       "    </tr>\n",
       "    <tr>\n",
       "      <th>1</th>\n",
       "      <td>e</td>\n",
       "      <td>x</td>\n",
       "      <td>s</td>\n",
       "      <td>y</td>\n",
       "      <td>t</td>\n",
       "      <td>a</td>\n",
       "      <td>f</td>\n",
       "      <td>c</td>\n",
       "      <td>b</td>\n",
       "      <td>k</td>\n",
       "      <td>...</td>\n",
       "      <td>s</td>\n",
       "      <td>w</td>\n",
       "      <td>w</td>\n",
       "      <td>p</td>\n",
       "      <td>w</td>\n",
       "      <td>o</td>\n",
       "      <td>p</td>\n",
       "      <td>n</td>\n",
       "      <td>n</td>\n",
       "      <td>g</td>\n",
       "    </tr>\n",
       "    <tr>\n",
       "      <th>2</th>\n",
       "      <td>e</td>\n",
       "      <td>b</td>\n",
       "      <td>s</td>\n",
       "      <td>w</td>\n",
       "      <td>t</td>\n",
       "      <td>l</td>\n",
       "      <td>f</td>\n",
       "      <td>c</td>\n",
       "      <td>b</td>\n",
       "      <td>n</td>\n",
       "      <td>...</td>\n",
       "      <td>s</td>\n",
       "      <td>w</td>\n",
       "      <td>w</td>\n",
       "      <td>p</td>\n",
       "      <td>w</td>\n",
       "      <td>o</td>\n",
       "      <td>p</td>\n",
       "      <td>n</td>\n",
       "      <td>n</td>\n",
       "      <td>m</td>\n",
       "    </tr>\n",
       "    <tr>\n",
       "      <th>3</th>\n",
       "      <td>p</td>\n",
       "      <td>x</td>\n",
       "      <td>y</td>\n",
       "      <td>w</td>\n",
       "      <td>t</td>\n",
       "      <td>p</td>\n",
       "      <td>f</td>\n",
       "      <td>c</td>\n",
       "      <td>n</td>\n",
       "      <td>n</td>\n",
       "      <td>...</td>\n",
       "      <td>s</td>\n",
       "      <td>w</td>\n",
       "      <td>w</td>\n",
       "      <td>p</td>\n",
       "      <td>w</td>\n",
       "      <td>o</td>\n",
       "      <td>p</td>\n",
       "      <td>k</td>\n",
       "      <td>s</td>\n",
       "      <td>u</td>\n",
       "    </tr>\n",
       "    <tr>\n",
       "      <th>4</th>\n",
       "      <td>e</td>\n",
       "      <td>x</td>\n",
       "      <td>s</td>\n",
       "      <td>g</td>\n",
       "      <td>f</td>\n",
       "      <td>n</td>\n",
       "      <td>f</td>\n",
       "      <td>w</td>\n",
       "      <td>b</td>\n",
       "      <td>k</td>\n",
       "      <td>...</td>\n",
       "      <td>s</td>\n",
       "      <td>w</td>\n",
       "      <td>w</td>\n",
       "      <td>p</td>\n",
       "      <td>w</td>\n",
       "      <td>o</td>\n",
       "      <td>e</td>\n",
       "      <td>n</td>\n",
       "      <td>a</td>\n",
       "      <td>g</td>\n",
       "    </tr>\n",
       "  </tbody>\n",
       "</table>\n",
       "<p>5 rows × 23 columns</p>\n",
       "</div>"
      ],
      "text/plain": [
       "  0  1  2  3  4  5  6  7  8  9  ... 13 14 15 16 17 18 19 20 21 22\n",
       "0  p  x  s  n  t  p  f  c  n  k ...  s  w  w  p  w  o  p  k  s  u\n",
       "1  e  x  s  y  t  a  f  c  b  k ...  s  w  w  p  w  o  p  n  n  g\n",
       "2  e  b  s  w  t  l  f  c  b  n ...  s  w  w  p  w  o  p  n  n  m\n",
       "3  p  x  y  w  t  p  f  c  n  n ...  s  w  w  p  w  o  p  k  s  u\n",
       "4  e  x  s  g  f  n  f  w  b  k ...  s  w  w  p  w  o  e  n  a  g\n",
       "\n",
       "[5 rows x 23 columns]"
      ]
     },
     "execution_count": 417,
     "metadata": {},
     "output_type": "execute_result"
    }
   ],
   "source": [
    "df.head()"
   ]
  },
  {
   "cell_type": "code",
   "execution_count": 418,
   "metadata": {},
   "outputs": [
    {
     "data": {
      "text/plain": [
       "(8124, 23)"
      ]
     },
     "execution_count": 418,
     "metadata": {},
     "output_type": "execute_result"
    }
   ],
   "source": [
    "df.shape"
   ]
  },
  {
   "cell_type": "code",
   "execution_count": 633,
   "metadata": {},
   "outputs": [],
   "source": [
    "X, y = np.array(df.loc[:, 1:]), np.array(df.loc[:, 0])\n",
    "\n",
    "label_encoder = LabelEncoder()\n",
    "\n",
    "for i in range(X.shape[1]):\n",
    "    X[:, i] = label_encoder.fit_transform(X[:, i])\n",
    "    \n",
    "y = np.equal(y, 'p').astype(int)\n",
    "X_data, y_data = X, y"
   ]
  },
  {
   "cell_type": "code",
   "execution_count": 634,
   "metadata": {
    "scrolled": true
   },
   "outputs": [
    {
     "data": {
      "text/plain": [
       "True"
      ]
     },
     "execution_count": 634,
     "metadata": {},
     "output_type": "execute_result"
    }
   ],
   "source": [
    "col_num = 5\n",
    "len(np.unique(X_data[:,col_num])) == len(np.unique(df.loc[:,col_num+1].values))"
   ]
  },
  {
   "cell_type": "code",
   "execution_count": 731,
   "metadata": {
    "collapsed": true
   },
   "outputs": [],
   "source": [
    "lr_params = {'penalty':'l1',\n",
    "             'C':100,\n",
    "             'random_state': 23}\n",
    "  #{‘newton-cg’, ‘lbfgs’, ‘liblinear’, ‘sag’, ‘saga’},            \n",
    "             #'class_weight': 'balanced'}"
   ]
  },
  {
   "cell_type": "code",
   "execution_count": 734,
   "metadata": {},
   "outputs": [],
   "source": [
    "pipeline = make_pipeline(\n",
    "        CustomTransformer(alpha=200000),\n",
    "        LogisticRegression(**lr_params)\n",
    "    )"
   ]
  },
  {
   "cell_type": "code",
   "execution_count": 735,
   "metadata": {},
   "outputs": [
    {
     "name": "stdout",
     "output_type": "stream",
     "text": [
      "Score: 0.9093\n",
      "Wall time: 20.9 s\n"
     ]
    }
   ],
   "source": [
    "%%time\n",
    "print( \"Score:\" , round(cross_val_score(pipeline, X_data, y_data, cv=3).mean(),4))"
   ]
  },
  {
   "cell_type": "code",
   "execution_count": 547,
   "metadata": {
    "collapsed": true
   },
   "outputs": [],
   "source": [
    "# Temporary best:  0.9696( (l1, 'C':  100, rs = 778)  correct smoothed sum(traget))\n",
    "# Temporary best:  0.9554 ( (l2, 'C':  0.007)  sum(traget))\n",
    "# Temporary best:  0.958 ( (l2, 'C':  0.007)  smoothed sum(traget), alpha = 10 ) - bad "
   ]
  },
  {
   "cell_type": "code",
   "execution_count": null,
   "metadata": {
    "collapsed": true
   },
   "outputs": [],
   "source": [
    "transformer = CustomTransformer(alpha=200)\n",
    "X_tr = np.copy(X)"
   ]
  },
  {
   "cell_type": "code",
   "execution_count": null,
   "metadata": {
    "collapsed": true
   },
   "outputs": [],
   "source": [
    "LogisticRegression(**lr_params).fit"
   ]
  },
  {
   "cell_type": "code",
   "execution_count": 609,
   "metadata": {},
   "outputs": [],
   "source": [
    "X_large = np.copy(X) \n",
    "for i in range(X.shape[1]):\n",
    "    for j in range((i+1),X.shape[1]):\n",
    "        new_col =X[:,i]*100+X[:,j]\n",
    "        X_large = np.hstack((X_large, new_col.reshape(-1,1)))"
   ]
  },
  {
   "cell_type": "code",
   "execution_count": 611,
   "metadata": {},
   "outputs": [
    {
     "data": {
      "text/plain": [
       "(8124, 22)"
      ]
     },
     "execution_count": 611,
     "metadata": {},
     "output_type": "execute_result"
    }
   ],
   "source": [
    "X.shape"
   ]
  },
  {
   "cell_type": "code",
   "execution_count": 610,
   "metadata": {},
   "outputs": [
    {
     "data": {
      "text/plain": [
       "(8124, 253)"
      ]
     },
     "execution_count": 610,
     "metadata": {},
     "output_type": "execute_result"
    }
   ],
   "source": [
    "X_large.shape"
   ]
  },
  {
   "cell_type": "code",
   "execution_count": 585,
   "metadata": {},
   "outputs": [
    {
     "name": "stdout",
     "output_type": "stream",
     "text": [
      "11\n"
     ]
    }
   ],
   "source": [
    "max_abs = 0\n",
    "for i in range(X.shape[1]):\n",
    "    max_i = np.max(X[:,i])\n",
    "    if max_i > max_abs:\n",
    "        max_abs = max_i\n",
    "\n",
    "print(max_abs)        "
   ]
  },
  {
   "cell_type": "code",
   "execution_count": 599,
   "metadata": {
    "collapsed": true
   },
   "outputs": [],
   "source": [
    "a = np.array([1,2,3,5])"
   ]
  },
  {
   "cell_type": "code",
   "execution_count": 600,
   "metadata": {},
   "outputs": [
    {
     "data": {
      "text/plain": [
       "(4,)"
      ]
     },
     "execution_count": 600,
     "metadata": {},
     "output_type": "execute_result"
    }
   ],
   "source": [
    "a.shape"
   ]
  },
  {
   "cell_type": "code",
   "execution_count": 598,
   "metadata": {},
   "outputs": [
    {
     "data": {
      "text/plain": [
       "array([1, 2, 3, 5])"
      ]
     },
     "execution_count": 598,
     "metadata": {},
     "output_type": "execute_result"
    }
   ],
   "source": [
    "a.reshape(-1).shape"
   ]
  },
  {
   "cell_type": "code",
   "execution_count": 736,
   "metadata": {},
   "outputs": [
    {
     "data": {
      "text/plain": [
       "array([[5, 2, 4, ..., 2, 3, 5],\n",
       "       [5, 2, 9, ..., 3, 2, 1],\n",
       "       [0, 2, 8, ..., 3, 2, 3],\n",
       "       ..., \n",
       "       [2, 2, 4, ..., 0, 1, 2],\n",
       "       [3, 3, 4, ..., 7, 4, 2],\n",
       "       [5, 2, 4, ..., 4, 1, 2]], dtype=object)"
      ]
     },
     "execution_count": 736,
     "metadata": {},
     "output_type": "execute_result"
    }
   ],
   "source": [
    "X"
   ]
  },
  {
   "cell_type": "code",
   "execution_count": 737,
   "metadata": {},
   "outputs": [
    {
     "data": {
      "text/plain": [
       "(8124, 22)"
      ]
     },
     "execution_count": 737,
     "metadata": {},
     "output_type": "execute_result"
    }
   ],
   "source": [
    "X.shape"
   ]
  },
  {
   "cell_type": "code",
   "execution_count": null,
   "metadata": {
    "collapsed": true
   },
   "outputs": [],
   "source": []
  }
 ],
 "metadata": {
  "kernelspec": {
   "display_name": "Python 3",
   "language": "python",
   "name": "python3"
  },
  "language_info": {
   "codemirror_mode": {
    "name": "ipython",
    "version": 3
   },
   "file_extension": ".py",
   "mimetype": "text/x-python",
   "name": "python",
   "nbconvert_exporter": "python",
   "pygments_lexer": "ipython3",
   "version": "3.6.3"
  }
 },
 "nbformat": 4,
 "nbformat_minor": 2
}
