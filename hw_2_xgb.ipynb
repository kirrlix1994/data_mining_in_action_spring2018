{
 "cells": [
  {
   "cell_type": "code",
   "execution_count": 188,
   "metadata": {},
   "outputs": [],
   "source": [
    "#coding=utf-8\n",
    "\n",
    "from sklearn.model_selection import cross_val_score\n",
    "from sklearn.model_selection import GridSearchCV\n",
    "from sklearn.model_selection import RandomizedGridSearch\n",
    "import xgboost as xgb\n",
    "import pandas as pd\n",
    "import numpy as np\n",
    "import signal\n",
    "import os\n",
    "import json\n",
    "import sys"
   ]
  },
  {
   "cell_type": "code",
   "execution_count": 37,
   "metadata": {
    "collapsed": true
   },
   "outputs": [],
   "source": [
    "# laod HR data:\n",
    "dat = pd.read_csv('data/HR.csv')"
   ]
  },
  {
   "cell_type": "code",
   "execution_count": 38,
   "metadata": {},
   "outputs": [],
   "source": [
    "# trandform data to DMatrix format:\n",
    "dat_tr = xgb.DMatrix(data=dat.drop(['left'], axis=1).values, label=dat['left'].values)"
   ]
  },
  {
   "cell_type": "code",
   "execution_count": 35,
   "metadata": {
    "collapsed": true
   },
   "outputs": [],
   "source": [
    "# Load data directly to DMatrix format:\n",
    "dat_xgb = xgb.DMatrix('data/HR.csv?format=csv&label_column=6')"
   ]
  },
  {
   "cell_type": "markdown",
   "metadata": {},
   "source": [
    "Find best params for xgboost model which maximize accuracy on 3-fold cv "
   ]
  },
  {
   "cell_type": "code",
   "execution_count": 161,
   "metadata": {},
   "outputs": [],
   "source": [
    "# set params\n",
    "xgb_params = {\n",
    "              'max_depth':8,\n",
    "              'n_estiamtors':10000000,\n",
    "              'learning_rate':0.001,\n",
    "              'gamma' :0,\n",
    "              #'early_stopping_rounds':10000000,\n",
    "              'min_child_weight':3,\n",
    "              'subsample':0.8,\n",
    "              'colsample_bytree':1,\n",
    "              'reg_alpha':0,\n",
    "              'reg_gamma':0,\n",
    "              'scale_pos_weight':1,\n",
    "              'silent':0,\n",
    "              'objective':'binary:logistic',\n",
    "              #'ntread':4,\n",
    "              'eval_metric':'merror', # misclassification error\n",
    "              'seed':42\n",
    "             }"
   ]
  },
  {
   "cell_type": "code",
   "execution_count": 163,
   "metadata": {},
   "outputs": [
    {
     "name": "stdout",
     "output_type": "stream",
     "text": [
      "{'max_depth': 8, 'n_estiamtors': 10000000, 'learning_rate': 0.001, 'gamma': 0, 'min_child_weight': 3, 'subsample': 0.8, 'colsample_bytree': 1, 'reg_alpha': 0, 'reg_gamma': 0, 'scale_pos_weight': 1, 'silent': 0, 'objective': 'binary:logistic', 'eval_metric': 'merror', 'seed': 42}\n",
      "0.6960\n"
     ]
    }
   ],
   "source": [
    "my_xgb_estimator=xgb.XGBClassifier(max_depth=10, n_estimators=10000)\n",
    "score = np.mean(\n",
    "                cross_val_score(estimator=my_xgb_estimator, \n",
    "                               X=dat.drop(['left'],axis=1).values,\n",
    "                               y=dat['left'].values,\n",
    "                               scoring='accuracy', cv=3))\n",
    "print('{:.4f}'.format(score))"
   ]
  },
  {
   "cell_type": "code",
   "execution_count": 222,
   "metadata": {},
   "outputs": [
    {
     "name": "stdout",
     "output_type": "stream",
     "text": [
      "0.7826\n"
     ]
    }
   ],
   "source": [
    "my_xgb_estimator=xgb.XGBClassifier(max_depth=8, \n",
    "                                   n_estimators=800,\n",
    "                                   learning_rate=0.005,\n",
    "                                   gamma=0,\n",
    "                                   min_child_weight=6,\n",
    "                                   col_sample_bytree=0.7,\n",
    "                                   subsample=1,\n",
    "                                   objective='binary:logistic',\n",
    "                                   seed=42\n",
    "                                   )\n",
    "score = np.mean(\n",
    "                cross_val_score(estimator=my_xgb_estimator, \n",
    "                               X=dat.drop(['left'],axis=1).values,\n",
    "                               y=dat['left'].values,\n",
    "                               scoring='accuracy', cv=3))\n",
    "print('{:.4f}'.format(score))"
   ]
  },
  {
   "cell_type": "code",
   "execution_count": 142,
   "metadata": {
    "scrolled": true
   },
   "outputs": [
    {
     "data": {
      "text/plain": [
       "0.7787"
      ]
     },
     "execution_count": 142,
     "metadata": {},
     "output_type": "execute_result"
    }
   ],
   "source": [
    "0.7786 # 5000 + 0.005 + 3\n",
    "0.7818 # 800 + 0.005 + 7 + min_c_w = 4\n",
    "0.7826 # 700 +0.05 + 8 + min_c_w = 6"
   ]
  },
  {
   "cell_type": "code",
   "execution_count": 216,
   "metadata": {
    "collapsed": true
   },
   "outputs": [],
   "source": [
    "# use grid search\n",
    "param_grid = {'max_depth': [5,6,8],\n",
    "              'n_estimators': [700, 2000],\n",
    "              'learning_rate': [0.05, 0.01, 0.005, 0.0001],\n",
    "              'min_child_weight':[4,6],\n",
    "              'gamma':[0,10]}"
   ]
  },
  {
   "cell_type": "code",
   "execution_count": 217,
   "metadata": {},
   "outputs": [],
   "source": [
    "model_xgb = GridSearchCV(estimator=xgb.XGBClassifier(),\n",
    "                        param_grid=param_grid,\n",
    "                        scoring='accuracy', cv=3, verbose=True)"
   ]
  },
  {
   "cell_type": "code",
   "execution_count": 218,
   "metadata": {
    "scrolled": true
   },
   "outputs": [
    {
     "name": "stdout",
     "output_type": "stream",
     "text": [
      "Fitting 3 folds for each of 96 candidates, totalling 288 fits\n"
     ]
    },
    {
     "name": "stderr",
     "output_type": "stream",
     "text": [
      "[Parallel(n_jobs=1)]: Done 288 out of 288 | elapsed: 30.2min finished\n"
     ]
    },
    {
     "name": "stdout",
     "output_type": "stream",
     "text": [
      "Wall time: 30min 19s\n"
     ]
    },
    {
     "data": {
      "text/plain": [
       "GridSearchCV(cv=3, error_score='raise',\n",
       "       estimator=XGBClassifier(base_score=0.5, booster='gbtree', colsample_bylevel=1,\n",
       "       colsample_bytree=1, gamma=0, learning_rate=0.1, max_delta_step=0,\n",
       "       max_depth=3, min_child_weight=1, missing=None, n_estimators=100,\n",
       "       n_jobs=1, nthread=None, objective='binary:logistic', random_state=0,\n",
       "       reg_alpha=0, reg_lambda=1, scale_pos_weight=1, seed=None,\n",
       "       silent=True, subsample=1),\n",
       "       fit_params=None, iid=True, n_jobs=1,\n",
       "       param_grid={'max_depth': [5, 6, 8], 'n_estimators': [700, 2000], 'learning_rate': [0.05, 0.01, 0.005, 0.0001], 'min_child_weight': [4, 6], 'gamma': [0, 10]},\n",
       "       pre_dispatch='2*n_jobs', refit=True, return_train_score='warn',\n",
       "       scoring='accuracy', verbose=True)"
      ]
     },
     "execution_count": 218,
     "metadata": {},
     "output_type": "execute_result"
    }
   ],
   "source": [
    "%%time\n",
    "model_xgb.fit(X=dat.drop(['left'],axis=1).values,\n",
    "              y=dat['left'].values)"
   ]
  },
  {
   "cell_type": "code",
   "execution_count": 219,
   "metadata": {},
   "outputs": [
    {
     "data": {
      "text/plain": [
       "XGBClassifier(base_score=0.5, booster='gbtree', colsample_bylevel=1,\n",
       "       colsample_bytree=1, gamma=0, learning_rate=0.005, max_delta_step=0,\n",
       "       max_depth=8, min_child_weight=6, missing=None, n_estimators=700,\n",
       "       n_jobs=1, nthread=None, objective='binary:logistic', random_state=0,\n",
       "       reg_alpha=0, reg_lambda=1, scale_pos_weight=1, seed=None,\n",
       "       silent=True, subsample=1)"
      ]
     },
     "execution_count": 219,
     "metadata": {},
     "output_type": "execute_result"
    }
   ],
   "source": [
    "model_xgb.best_estimator_"
   ]
  },
  {
   "cell_type": "code",
   "execution_count": 16,
   "metadata": {
    "scrolled": true
   },
   "outputs": [
    {
     "data": {
      "text/plain": [
       "{'learning_rate': 0.1,\n",
       " 'max_depth': 5,\n",
       " 'min_child_weight': 3,\n",
       " 'n_estimators': 1000,\n",
       " 'seed': 42}"
      ]
     },
     "execution_count": 16,
     "metadata": {},
     "output_type": "execute_result"
    }
   ],
   "source": [
    "SCRIPT_DIR = 'C:/Users/Kirill/Desktop/data science/dmia'\n",
    "path = SCRIPT_DIR +'/xgboost_params_example.json'\n",
    "with open(path, 'r') as f:\n",
    "    params = json.load(f)\n",
    "\n",
    "params"
   ]
  },
  {
   "cell_type": "code",
   "execution_count": 23,
   "metadata": {
    "collapsed": true
   },
   "outputs": [],
   "source": [
    "SCRIPT_DIR = 'C:/Users/Kirill/Desktop/data science/dmia'\n",
    "\n",
    "\n",
    "def signal_handler(signum, frame):\n",
    "    raise Exception(\"Timed out!\")"
   ]
  },
  {
   "cell_type": "code",
   "execution_count": 166,
   "metadata": {},
   "outputs": [],
   "source": [
    "class Checker(object):\n",
    "    def __init__(self, data_path=SCRIPT_DIR + '/data/HR.csv'):\n",
    "        df = pd.read_csv(data_path)\n",
    "        target = 'left'\n",
    "        features = [c for c in df if c != target]\n",
    "        self.target = np.array(df[target])\n",
    "        self.data = np.array(df[features])\n",
    "\n",
    "    def check(self, params_path):\n",
    "       # try:\n",
    "            with open(params_path, 'r') as f:\n",
    "                params = json.load(f)\n",
    "                #signal.signal(signal.SIGALRM, signal_handler)\n",
    "                # Time limit на эту задачу 2 минуты\n",
    "                #signal.alarm(120)\n",
    "                estimator = xgb.XGBClassifier(**params)\n",
    "                score = np.mean(cross_val_score(\n",
    "                    estimator, self.data, self.target,\n",
    "                    scoring='accuracy', \n",
    "                    cv=3\n",
    "                ))\n",
    "       # except:\n",
    "       #     print(\"Unexpected error:\", sys.exc_info()[0])\n",
    "       #     score = None\n",
    "        \n",
    "            return score"
   ]
  },
  {
   "cell_type": "code",
   "execution_count": 167,
   "metadata": {},
   "outputs": [
    {
     "name": "stdout",
     "output_type": "stream",
     "text": [
      "0.7660\n",
      "Wall time: 21.1 s\n"
     ]
    }
   ],
   "source": [
    "%%time\n",
    "print( '{:.4f}'.format(Checker().check(SCRIPT_DIR + '/xgboost_params_example.json')))"
   ]
  },
  {
   "cell_type": "code",
   "execution_count": null,
   "metadata": {
    "collapsed": true
   },
   "outputs": [],
   "source": []
  }
 ],
 "metadata": {
  "kernelspec": {
   "display_name": "Python 3",
   "language": "python",
   "name": "python3"
  },
  "language_info": {
   "codemirror_mode": {
    "name": "ipython",
    "version": 3
   },
   "file_extension": ".py",
   "mimetype": "text/x-python",
   "name": "python",
   "nbconvert_exporter": "python",
   "pygments_lexer": "ipython3",
   "version": "3.6.3"
  }
 },
 "nbformat": 4,
 "nbformat_minor": 2
}
