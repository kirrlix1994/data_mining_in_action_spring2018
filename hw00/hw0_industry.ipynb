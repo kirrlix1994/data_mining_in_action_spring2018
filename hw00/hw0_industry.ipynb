{
 "cells": [
  {
   "cell_type": "markdown",
   "metadata": {},
   "source": [
    "## DMIA industry hw 0 "
   ]
  },
  {
   "cell_type": "markdown",
   "metadata": {},
   "source": [
    "### Задача 1\n",
    "Что выведет этот код?\n",
    "\n",
    "Ответом на эту задачу является выведенное число, округлённое до 4го знака, дробная часть отделяется точкой"
   ]
  },
  {
   "cell_type": "code",
   "execution_count": 1,
   "metadata": {
    "collapsed": true
   },
   "outputs": [],
   "source": [
    "import numpy as np"
   ]
  },
  {
   "cell_type": "code",
   "execution_count": 2,
   "metadata": {},
   "outputs": [
    {
     "name": "stdout",
     "output_type": "stream",
     "text": [
      "0.9648\n"
     ]
    }
   ],
   "source": [
    "from sklearn.datasets import load_breast_cancer\n",
    "from sklearn.ensemble import RandomForestClassifier\n",
    "from sklearn.model_selection import cross_val_score\n",
    "\n",
    "X_data, y_data = load_breast_cancer(return_X_y=True)\n",
    "\n",
    "print( '%.4f' % cross_val_score(RandomForestClassifier(criterion='entropy', n_estimators=42, random_state=42), X_data, y_data, cv=3).mean())"
   ]
  },
  {
   "cell_type": "markdown",
   "metadata": {},
   "source": [
    "Задача 2\n",
    "Напишите свою функцию определения качества модели по следующей метрике: максимальный precision, при условии, что $precision &lt; 1.5 * recall$ и $recall &gt; 0.5$ и определите наилучшее её значение, перебирая гиперпараметры по предложенной сетке\n",
    "\n",
    "Ответом на эту задачу является максимальное значение качества по предложенной метрике, округлённое до 4го знака, дробная часть отделяется точкой.\n",
    "\n"
   ]
  },
  {
   "cell_type": "code",
   "execution_count": 10,
   "metadata": {
    "collapsed": true
   },
   "outputs": [],
   "source": [
    "from sklearn.model_selection import GridSearchCV\n",
    "from sklearn.metrics import make_scorer\n",
    "from sklearn.ensemble import RandomForestClassifier\n",
    "from sklearn.datasets import load_breast_cancer"
   ]
  },
  {
   "cell_type": "code",
   "execution_count": 11,
   "metadata": {},
   "outputs": [
    {
     "data": {
      "text/plain": [
       "{'criterion': ['entropy', 'gini'],\n",
       " 'max_depth': [None, 5, 10, 15, 20],\n",
       " 'n_estimators': [10, 20, 30, 40, 50]}"
      ]
     },
     "execution_count": 11,
     "metadata": {},
     "output_type": "execute_result"
    }
   ],
   "source": [
    "param_grid = {\n",
    "    'n_estimators' : [10, 20, 30, 40, 50],\n",
    "    'max_depth' : [None, 5, 10, 15, 20], \n",
    "    'criterion': ['entropy', 'gini']\n",
    "}\n",
    "param_grid"
   ]
  },
  {
   "cell_type": "code",
   "execution_count": 12,
   "metadata": {
    "collapsed": true
   },
   "outputs": [],
   "source": [
    "X_data, y_data = load_breast_cancer(return_X_y=True)\n",
    "#X_data[0:2,]\n",
    "#len(y_data)"
   ]
  },
  {
   "cell_type": "code",
   "execution_count": 13,
   "metadata": {
    "collapsed": true
   },
   "outputs": [],
   "source": [
    "estimator = RandomForestClassifier(random_state = 42)"
   ]
  },
  {
   "cell_type": "code",
   "execution_count": 14,
   "metadata": {
    "collapsed": true
   },
   "outputs": [],
   "source": [
    "no_grid = {\n",
    "    'n_estimators' : [50],\n",
    "    'max_depth' : [5], \n",
    "    'criterion': ['gini']\n",
    "}"
   ]
  },
  {
   "cell_type": "code",
   "execution_count": 6,
   "metadata": {},
   "outputs": [
    {
     "name": "stdout",
     "output_type": "stream",
     "text": [
      "Accuracy best params and score\n"
     ]
    },
    {
     "ename": "NameError",
     "evalue": "name 'GridSearchCV' is not defined",
     "output_type": "error",
     "traceback": [
      "\u001b[1;31m---------------------------------------------------------------------------\u001b[0m",
      "\u001b[1;31mNameError\u001b[0m                                 Traceback (most recent call last)",
      "\u001b[1;32m<ipython-input-6-784689fd0980>\u001b[0m in \u001b[0;36m<module>\u001b[1;34m()\u001b[0m\n\u001b[0;32m      1\u001b[0m \u001b[0mprint\u001b[0m\u001b[1;33m(\u001b[0m\u001b[1;34m'Accuracy best params and score'\u001b[0m\u001b[1;33m)\u001b[0m\u001b[1;33m\u001b[0m\u001b[0m\n\u001b[1;32m----> 2\u001b[1;33m results = GridSearchCV(estimator, param_grid=no_grid, \n\u001b[0m\u001b[0;32m      3\u001b[0m                        cv=3, scoring='precision').fit(X_data, y_data)\n\u001b[0;32m      4\u001b[0m \u001b[0mprint\u001b[0m\u001b[1;33m(\u001b[0m \u001b[1;34m'\\t Best Params:'\u001b[0m\u001b[1;33m,\u001b[0m \u001b[0mresults\u001b[0m\u001b[1;33m.\u001b[0m\u001b[0mbest_params_\u001b[0m\u001b[1;33m)\u001b[0m\u001b[1;33m\u001b[0m\u001b[0m\n\u001b[0;32m      5\u001b[0m \u001b[0mprint\u001b[0m\u001b[1;33m(\u001b[0m \u001b[1;34m'\\t Best Score:'\u001b[0m\u001b[1;33m,\u001b[0m \u001b[0mresults\u001b[0m\u001b[1;33m.\u001b[0m\u001b[0mbest_score_\u001b[0m\u001b[1;33m)\u001b[0m\u001b[1;33m\u001b[0m\u001b[0m\n",
      "\u001b[1;31mNameError\u001b[0m: name 'GridSearchCV' is not defined"
     ]
    }
   ],
   "source": [
    "print('Accuracy best params and score')\n",
    "results = GridSearchCV(estimator, param_grid=no_grid, \n",
    "                       cv=3, scoring='precision').fit(X_data, y_data)\n",
    "print( '\\t Best Params:', results.best_params_)\n",
    "print( '\\t Best Score:', results.best_score_)"
   ]
  },
  {
   "cell_type": "code",
   "execution_count": 115,
   "metadata": {},
   "outputs": [
    {
     "data": {
      "text/html": [
       "<div>\n",
       "<style>\n",
       "    .dataframe thead tr:only-child th {\n",
       "        text-align: right;\n",
       "    }\n",
       "\n",
       "    .dataframe thead th {\n",
       "        text-align: left;\n",
       "    }\n",
       "\n",
       "    .dataframe tbody tr th {\n",
       "        vertical-align: top;\n",
       "    }\n",
       "</style>\n",
       "<table border=\"1\" class=\"dataframe\">\n",
       "  <thead>\n",
       "    <tr style=\"text-align: right;\">\n",
       "      <th></th>\n",
       "      <th>precision</th>\n",
       "      <th>recall</th>\n",
       "      <th>threshold</th>\n",
       "    </tr>\n",
       "  </thead>\n",
       "  <tbody>\n",
       "    <tr>\n",
       "      <th>0</th>\n",
       "      <td>0.80</td>\n",
       "      <td>1.00</td>\n",
       "      <td>0.0</td>\n",
       "    </tr>\n",
       "    <tr>\n",
       "      <th>1</th>\n",
       "      <td>0.75</td>\n",
       "      <td>0.75</td>\n",
       "      <td>0.3</td>\n",
       "    </tr>\n",
       "    <tr>\n",
       "      <th>2</th>\n",
       "      <td>1.00</td>\n",
       "      <td>0.75</td>\n",
       "      <td>0.4</td>\n",
       "    </tr>\n",
       "    <tr>\n",
       "      <th>3</th>\n",
       "      <td>1.00</td>\n",
       "      <td>0.50</td>\n",
       "      <td>0.5</td>\n",
       "    </tr>\n",
       "    <tr>\n",
       "      <th>4</th>\n",
       "      <td>1.00</td>\n",
       "      <td>0.00</td>\n",
       "      <td>0.6</td>\n",
       "    </tr>\n",
       "  </tbody>\n",
       "</table>\n",
       "</div>"
      ],
      "text/plain": [
       "   precision  recall  threshold\n",
       "0       0.80    1.00        0.0\n",
       "1       0.75    0.75        0.3\n",
       "2       1.00    0.75        0.4\n",
       "3       1.00    0.50        0.5\n",
       "4       1.00    0.00        0.6"
      ]
     },
     "execution_count": 115,
     "metadata": {},
     "output_type": "execute_result"
    }
   ],
   "source": [
    "a = np.array([1,0,1,1,1,0])\n",
    "b = np.array([0.6,0.4,0.3,0.5,0.6,0.2])\n",
    "#a==1\n",
    "#np.sum((a==1)&(b==1))\n",
    "import pandas as pd\n",
    "from sklearn.metrics import precision_recall_curve\n",
    "precision, recall, threshold = precision_recall_curve(a,b)\n",
    "threshold =  np.insert(arr=threshold,obj=0,values=0.0)\n",
    "#print( precision )\n",
    "#print( recall) \n",
    "#print( threshold)\n",
    "aa = pd.DataFrame({'precision' : precision, \n",
    "                  'recall' : recall,\n",
    "                  'threshold' : threshold})\n",
    "aa"
   ]
  },
  {
   "cell_type": "code",
   "execution_count": 116,
   "metadata": {},
   "outputs": [
    {
     "data": {
      "text/plain": [
       "array([ 0. ,  0. ,  0.3,  0.4,  0.5,  0.6])"
      ]
     },
     "execution_count": 116,
     "metadata": {},
     "output_type": "execute_result"
    }
   ],
   "source": [
    "threthhold =  np.insert(arr=threshold,obj=0,values=0.0)\n",
    "threthhold"
   ]
  },
  {
   "cell_type": "code",
   "execution_count": 129,
   "metadata": {},
   "outputs": [
    {
     "data": {
      "text/plain": [
       "False"
      ]
     },
     "execution_count": 129,
     "metadata": {},
     "output_type": "execute_result"
    }
   ],
   "source": [
    "precision, recall, threshold = precision_recall_curve(a,b)\n",
    "threshold = np.insert(arr=threshold, obj=0, values=0.0)\n",
    "metrics_tab = pd.DataFrame({'precision' : precision,\n",
    "                            'recall' : recall,\n",
    "                            'threshold' : threshold})\n",
    "# filter rows : leave rows which not satisfied conditions\n",
    "metrics_tab = metrics_tab[ ( metrics_tab['precision'] < 1.5*metrics_tab['recall'] ) &\n",
    "                          ( metrics_tab['recall'] > 0.5 ) ] \n",
    "#print(metrics_tab)\n",
    "#print(metrics_tab['precision'].max())\n",
    "metrics_tab.shape[0] < 1"
   ]
  },
  {
   "cell_type": "code",
   "execution_count": 15,
   "metadata": {
    "collapsed": true
   },
   "outputs": [],
   "source": [
    "def my_custom_loss(y_real, y_pred, exception =-1, verbose=False):\n",
    "    '''\n",
    "    returns precision if only two conditions are satisfied\n",
    "    if not, returns exception = -1 by default\n",
    "    '''\n",
    "    tp = np.sum((y_pred==1)&(y_real==1))\n",
    "    fp = np.sum((y_pred==1)&(y_real==0)) \n",
    "    fn = np.sum((y_pred==0)&(y_real==1))\n",
    "    tn = np.sum((y_pred==0)&(y_real==0))\n",
    "    precision_tmp  = 1.0*tp/(tp + fp)\n",
    "    recall_tmp = 1.0*tp/(tp + fn)\n",
    "    cond_1 = precision_tmp < 1.0*recall_tmp\n",
    "    cond_2 = recall_tmp > 0.5\n",
    "    if  cond_1 and cond_2:\n",
    "        res = precision_tmp\n",
    "        if(verbose):\n",
    "            print(res)\n",
    "    else: \n",
    "        res = exception\n",
    "        if(verbose):\n",
    "            print(\"Conditions are not satisfied\")\n",
    "    #print(\"precision = \", precision_tmp)\n",
    "    #print(\"recall = \", recall_tmp)\n",
    "    #print()\n",
    "    return res;"
   ]
  },
  {
   "cell_type": "code",
   "execution_count": 29,
   "metadata": {
    "collapsed": true
   },
   "outputs": [],
   "source": [
    "from sklearn.metrics import precision_recall_curve\n",
    "import pandas as pd\n",
    "def my_custom_loss_2(y_real, y_pred, exception=0, verbose=False):\n",
    "    '''\n",
    "    returns precision if only two conditions are satisfied\n",
    "    if not, returns exception = -1 by default\n",
    "    '''\n",
    "    #print(\"hello\")\n",
    "    y_pred = y_pred[:,1]\n",
    "    precision, recall, threshold = precision_recall_curve(y_real, y_pred)\n",
    "    threshold = np.insert(arr=threshold, obj=0, values=0.0)\n",
    "    metrics_tab = pd.DataFrame({'precision' : precision,\n",
    "                                'recall' : recall,\n",
    "                                'threshold' : threshold})\n",
    "    # filter rows : leave rows which not satisfied conditions\n",
    "    metrics_tab = metrics_tab[ ( metrics_tab['precision'] < 1.5*metrics_tab['recall'] ) & \n",
    "                             ( metrics_tab['recall'] > 0.5 ) ]\n",
    "    if( metrics_tab.shape[0] == 0):\n",
    "        return exсeption\n",
    "    else:\n",
    "        max_precision = metrics_tab['precision'].max()\n",
    "        #print(metrics_tab.tail(50))\n",
    "        print( max_precision)\n",
    "        return max_precision "
   ]
  },
  {
   "cell_type": "code",
   "execution_count": 30,
   "metadata": {},
   "outputs": [],
   "source": [
    "scorer = make_scorer(my_custom_loss_2, greater_is_better=True, needs_proba=True)"
   ]
  },
  {
   "cell_type": "code",
   "execution_count": 27,
   "metadata": {
    "scrolled": true
   },
   "outputs": [
    {
     "name": "stdout",
     "output_type": "stream",
     "text": [
      "Custom loss best params and score\n",
      "1.0\n",
      "1.0\n",
      "0.991596638655\n",
      "1.0\n",
      "0.990990990991\n",
      "1.0\n"
     ]
    }
   ],
   "source": [
    "print('Custom loss best params and score')\n",
    "results_2 = GridSearchCV(estimator=estimator, \n",
    "                         param_grid=no_grid, \n",
    "                         cv=3, scoring=scorer, verbose=False).fit(X_data, y_data) "
   ]
  },
  {
   "cell_type": "code",
   "execution_count": 31,
   "metadata": {
    "scrolled": true
   },
   "outputs": [
    {
     "name": "stdout",
     "output_type": "stream",
     "text": [
      "\tBest params for custom loss: {'criterion': 'gini', 'max_depth': 5, 'n_estimators': 50}\n",
      "\tBest score for cusom loss: 0.994201509037\n"
     ]
    }
   ],
   "source": [
    "print( \"\\tBest params for custom loss:\", results_2.best_params_)\n",
    "print( \"\\tBest score for cusom loss:\", results_2.best_score_)"
   ]
  },
  {
   "cell_type": "markdown",
   "metadata": {},
   "source": [
    "### Задача 3\n",
    "Какова минимальная сторона квадрата с параллельными осям сторонами, содержащего все точки из $X$?\n",
    "\n",
    "Ответом на эту задачу является число, округлённое до 2го знака, дробная часть отделяется точкой."
   ]
  },
  {
   "cell_type": "code",
   "execution_count": 33,
   "metadata": {
    "collapsed": true
   },
   "outputs": [],
   "source": [
    "from sklearn.datasets import load_breast_cancer\n",
    "import matplotlib.pyplot as plt\n",
    "\n",
    "data = load_breast_cancer()\n",
    "X = data.data[:,:2]"
   ]
  },
  {
   "cell_type": "code",
   "execution_count": 34,
   "metadata": {},
   "outputs": [
    {
     "data": {
      "text/plain": [
       "array([[ 17.99,  10.38],\n",
       "       [ 20.57,  17.77],\n",
       "       [ 19.69,  21.25],\n",
       "       ..., \n",
       "       [ 16.6 ,  28.08],\n",
       "       [ 20.6 ,  29.33],\n",
       "       [  7.76,  24.54]])"
      ]
     },
     "execution_count": 34,
     "metadata": {},
     "output_type": "execute_result"
    }
   ],
   "source": [
    "X"
   ]
  },
  {
   "cell_type": "code",
   "execution_count": 35,
   "metadata": {
    "scrolled": true
   },
   "outputs": [
    {
     "data": {
      "image/png": "[encoded data removed]",
      "text/plain": [
       "<matplotlib.figure.Figure at 0x199f10241d0>"
      ]
     },
     "metadata": {},
     "output_type": "display_data"
    }
   ],
   "source": [
    "plt.plot(X[:,0], X[:,1], 'ro')\n",
    "plt.show()"
   ]
  },
  {
   "cell_type": "code",
   "execution_count": 38,
   "metadata": {},
   "outputs": [
    {
     "data": {
      "text/plain": [
       "29.57"
      ]
     },
     "execution_count": 38,
     "metadata": {},
     "output_type": "execute_result"
    }
   ],
   "source": [
    "X[:,1].max() - X[:,1].min()"
   ]
  },
  {
   "cell_type": "code",
   "execution_count": 8,
   "metadata": {
    "collapsed": true
   },
   "outputs": [],
   "source": [
    "def factorial(n):\n",
    "    if (n==0):\n",
    "        return 1\n",
    "    else:\n",
    "        return(n*factorial(n-1));"
   ]
  },
  {
   "cell_type": "code",
   "execution_count": 9,
   "metadata": {
    "collapsed": true
   },
   "outputs": [],
   "source": [
    "f_100 = factorial(100)\n",
    "f_50 = factorial(50)\n",
    "N = 2**100"
   ]
  },
  {
   "cell_type": "code",
   "execution_count": 12,
   "metadata": {},
   "outputs": [
    {
     "data": {
      "text/plain": [
       "0.07958923738717877"
      ]
     },
     "execution_count": 12,
     "metadata": {},
     "output_type": "execute_result"
    }
   ],
   "source": [
    "p_50 = f_100/(f_50*f_50)/2**100\n",
    "p_50"
   ]
  },
  {
   "cell_type": "code",
   "execution_count": 11,
   "metadata": {
    "collapsed": true
   },
   "outputs": [],
   "source": [
    "p_51 = p_50*(50.0/51)\n",
    "p_52 = p_51*(49.0/52)"
   ]
  },
  {
   "cell_type": "code",
   "execution_count": 49,
   "metadata": {},
   "outputs": [
    {
     "data": {
      "text/plain": [
       "0.26885508810103664"
      ]
     },
     "execution_count": 49,
     "metadata": {},
     "output_type": "execute_result"
    }
   ],
   "source": [
    "ans = 0.5 - 1.0*(p_50 + p_51 + p_52)/(2**100)\n",
    "ans"
   ]
  },
  {
   "cell_type": "code",
   "execution_count": 51,
   "metadata": {},
   "outputs": [
    {
     "name": "stdout",
     "output_type": "stream",
     "text": [
      "0.07958923738717877\n",
      "0.07802866410507722\n",
      "0.07352701040670738\n"
     ]
    }
   ],
   "source": [
    "print(p_50/2**100)\n",
    "print(p_51/2**100)\n",
    "print(p_52/2**100)"
   ]
  },
  {
   "cell_type": "code",
   "execution_count": 52,
   "metadata": {},
   "outputs": [
    {
     "name": "stdout",
     "output_type": "stream",
     "text": [
      "0.3086497067946261\n"
     ]
    }
   ],
   "source": [
    "count = 0;\n",
    "for i in range(53,101):\n",
    "    count += factorial(100)/(factorial(i)*factorial(100-i))\n",
    "ans = count/2**100\n",
    "print(ans)"
   ]
  },
  {
   "cell_type": "markdown",
   "metadata": {
    "collapsed": true
   },
   "source": [
    "Будем использовать формулу Муавра-Лапласа для вычисления P_m = P( m единиц в 100 испытаниях бернулли)\n"
   ]
  },
  {
   "cell_type": "code",
   "execution_count": 17,
   "metadata": {
    "collapsed": true
   },
   "outputs": [],
   "source": [
    "def x_m(m,n=100,p=0.5): \n",
    "    return (m-p*n)/(np.sqrt(p*(1-p)*n));\n",
    "\n",
    "def P_m(m,n=100,p=0.5):\n",
    "    return 1.0/(np.sqrt(2*np.pi*n*p*(1-p)))*np.exp(-0.5*x_m(m=m,n=n,p=p)**2);"
   ]
  },
  {
   "cell_type": "code",
   "execution_count": 18,
   "metadata": {},
   "outputs": [
    {
     "name": "stdout",
     "output_type": "stream",
     "text": [
      "0.07958923738717877\n",
      "0.0797884560803\n"
     ]
    }
   ],
   "source": [
    "print(p_50)\n",
    "print(P_m(m=50))"
   ]
  },
  {
   "cell_type": "code",
   "execution_count": 54,
   "metadata": {},
   "outputs": [
    {
     "data": {
      "text/plain": [
       "1267650600228229401496703205376"
      ]
     },
     "execution_count": 54,
     "metadata": {},
     "output_type": "execute_result"
    }
   ],
   "source": [
    "factoril*100"
   ]
  },
  {
   "cell_type": "code",
   "execution_count": 55,
   "metadata": {},
   "outputs": [
    {
     "ename": "NameError",
     "evalue": "name 'factoril' is not defined",
     "output_type": "error",
     "traceback": [
      "\u001b[1;31m---------------------------------------------------------------------------\u001b[0m",
      "\u001b[1;31mNameError\u001b[0m                                 Traceback (most recent call last)",
      "\u001b[1;32m<ipython-input-55-57fd3ff448fc>\u001b[0m in \u001b[0;36m<module>\u001b[1;34m()\u001b[0m\n\u001b[1;32m----> 1\u001b[1;33m \u001b[0mfactoril\u001b[0m\u001b[1;33m(\u001b[0m\u001b[1;36m100\u001b[0m\u001b[1;33m)\u001b[0m\u001b[1;33m\u001b[0m\u001b[0m\n\u001b[0m",
      "\u001b[1;31mNameError\u001b[0m: name 'factoril' is not defined"
     ]
    }
   ],
   "source": [
    "factorail(100)"
   ]
  },
  {
   "cell_type": "code",
   "execution_count": null,
   "metadata": {
    "collapsed": true
   },
   "outputs": [],
   "source": [
    "import numpy as np\n",
    "\n",
    "print('%.3f' % (np.array([scipy.special.binom(100, i) for i in range(53, 101)]).sum() / 2**100))"
   ]
  },
  {
   "cell_type": "code",
   "execution_count": null,
   "metadata": {
    "collapsed": true
   },
   "outputs": [],
   "source": [
    "import numpy as np\n",
    "\n",
    "print('%.3f' % (np.array([scipy.special.binom(100, i) for i in range(53, 101)]).sum() / 2**100))"
   ]
  },
  {
   "cell_type": "code",
   "execution_count": 58,
   "metadata": {},
   "outputs": [
    {
     "data": {
      "text/plain": [
       "0.26885508810103675"
      ]
     },
     "execution_count": 58,
     "metadata": {},
     "output_type": "execute_result"
    }
   ],
   "source": [
    "import scipy.special\n",
    "0.5 -  scipy.special.binom(100, 50)/2**100 - scipy.special.binom(100, 51)/2**100  - scipy.special.binom(100, 52)/2**100"
   ]
  },
  {
   "cell_type": "code",
   "execution_count": null,
   "metadata": {
    "collapsed": true
   },
   "outputs": [],
   "source": []
  }
 ],
 "metadata": {
  "kernelspec": {
   "display_name": "Python 3",
   "language": "python",
   "name": "python3"
  },
  "language_info": {
   "codemirror_mode": {
    "name": "ipython",
    "version": 3
   },
   "file_extension": ".py",
   "mimetype": "text/x-python",
   "name": "python",
   "nbconvert_exporter": "python",
   "pygments_lexer": "ipython3",
   "version": "3.6.3"
  }
 },
 "nbformat": 4,
 "nbformat_minor": 2
}
