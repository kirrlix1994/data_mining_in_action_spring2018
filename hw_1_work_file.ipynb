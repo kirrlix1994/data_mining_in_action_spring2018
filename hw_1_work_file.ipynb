{
 "cells": [
  {
   "cell_type": "code",
   "execution_count": 2,
   "metadata": {
    "collapsed": true
   },
   "outputs": [],
   "source": [
    "from collections import namedtuple\n",
    "import random"
   ]
  },
  {
   "cell_type": "code",
   "execution_count": 3,
   "metadata": {
    "collapsed": true
   },
   "outputs": [],
   "source": [
    "from collections import namedtuple\n",
    "import random\n",
    "\n",
    "Record = namedtuple('Record', 'easy medium nightmare')\n",
    "\n",
    "def data_stream():\n",
    "    random_generator = random.Random(42)\n",
    "    easy = 0\n",
    "    for _ in range(1000):\n",
    "        easy += random_generator.randint(0, 2) \n",
    "        medium = random_generator.randint(0, 256 - 1)\n",
    "        nightmare = random_generator.randint(0, 1000 - 1)\n",
    "        \n",
    "        yield Record(\n",
    "            easy=easy,\n",
    "            medium=medium,\n",
    "            nightmare=nightmare\n",
    "        )\n",
    "        \n",
    "def easy_stream():\n",
    "    for record in data_stream():\n",
    "        yield record.easy\n",
    "        \n",
    "def medium_stream():\n",
    "    for record in data_stream():\n",
    "        yield record.medium\n",
    "        \n",
    "def nightmare_stream():\n",
    "    for record in data_stream():\n",
    "        yield record.nightmare"
   ]
  },
  {
   "cell_type": "code",
   "execution_count": 4,
   "metadata": {
    "collapsed": true
   },
   "outputs": [],
   "source": [
    "import numpy as np\n",
    "\n",
    "def get_tuple_stream_mean(stream, number_of_values):\n",
    "    result = np.zeros(number_of_values, dtype='object')\n",
    "    count = 0. \n",
    "    for streamed_tuple in stream:\n",
    "        result += streamed_tuple\n",
    "        count += 1\n",
    "    return ['{:0.2f}'.format(x) for x in result / count]"
   ]
  },
  {
   "cell_type": "code",
   "execution_count": 5,
   "metadata": {},
   "outputs": [
    {
     "data": {
      "text/plain": [
       "deque([2, 5, 6, 3, 10, 232, 2.1, 23, 23])"
      ]
     },
     "execution_count": 5,
     "metadata": {},
     "output_type": "execute_result"
    }
   ],
   "source": [
    "# deque example\n",
    "from collections import deque\n",
    "a = deque([2,5,6,3,10, 232, 2.1, 23, 23])\n",
    "a.append(32)\n",
    "a.pop()\n",
    "a"
   ]
  },
  {
   "cell_type": "code",
   "execution_count": 260,
   "metadata": {},
   "outputs": [
    {
     "data": {
      "text/plain": [
       "deque([23, 23, 2, 5, 6, 3, 10, 232, 2.1])"
      ]
     },
     "execution_count": 260,
     "metadata": {},
     "output_type": "execute_result"
    }
   ],
   "source": [
    "a.rotate(2)\n",
    "a"
   ]
  },
  {
   "cell_type": "code",
   "execution_count": 288,
   "metadata": {
    "scrolled": true
   },
   "outputs": [
    {
     "name": "stdout",
     "output_type": "stream",
     "text": [
      "deque([2, 5, 6, 3, 10, 232, 2.1, 23, 23])\n",
      "deque([2, 2.1, 3, 5, 6, 10, 23, 23, 232])\n"
     ]
    }
   ],
   "source": [
    "b = deque(sorted(a))\n",
    "print(a)\n",
    "print(b)"
   ]
  },
  {
   "cell_type": "code",
   "execution_count": 311,
   "metadata": {},
   "outputs": [
    {
     "name": "stdout",
     "output_type": "stream",
     "text": [
      "deque([-5, -1, 1, 1, 2, 2.1, 3, 5, 6, 10, 23, 23, 53, 232, 500, 501, 1005, 1005])\n",
      "None\n"
     ]
    }
   ],
   "source": [
    "z = 1\n",
    "print(b)\n",
    "print(b.remove(z))"
   ]
  },
  {
   "cell_type": "code",
   "execution_count": 276,
   "metadata": {
    "scrolled": true
   },
   "outputs": [
    {
     "name": "stdout",
     "output_type": "stream",
     "text": [
      "0\n",
      "1\n"
     ]
    }
   ],
   "source": [
    "for i in range(2):\n",
    "    print(i)"
   ]
  },
  {
   "cell_type": "code",
   "execution_count": 316,
   "metadata": {},
   "outputs": [
    {
     "data": {
      "text/plain": [
       "deque([-5, -1, 2, 2.1, 3, 5, 6, 10, 23, 23, 53, 232, 500, 501, 1005, 1005])"
      ]
     },
     "execution_count": 316,
     "metadata": {},
     "output_type": "execute_result"
    }
   ],
   "source": [
    "b"
   ]
  },
  {
   "cell_type": "code",
   "execution_count": 321,
   "metadata": {},
   "outputs": [
    {
     "data": {
      "text/plain": [
       "deque([-5, -1, 2.1, 3, 5, 6, 10, 23, 53, 232, 501, 1005])"
      ]
     },
     "execution_count": 321,
     "metadata": {},
     "output_type": "execute_result"
    }
   ],
   "source": [
    "b.remove(23)\n",
    "b"
   ]
  },
  {
   "cell_type": "code",
   "execution_count": 308,
   "metadata": {
    "collapsed": true
   },
   "outputs": [],
   "source": [
    "def get_val_position(arr, val):\n",
    "    for i in range(len(arr)):\n",
    "        if val < arr[i]:\n",
    "            return i\n",
    "        if (val > arr[len(arr)-1]) | (val == arr[len(arr)-1]):\n",
    "            return len(arr)\n",
    "        \n",
    "def deq_insert_order(deq, val):\n",
    "    order_ind = get_val_position(deq, val)\n",
    "    deq.rotate(-order_ind)\n",
    "    deq.appendleft(val)\n",
    "    deq.rotate(order_ind)\n",
    "    return deq"
   ]
  },
  {
   "cell_type": "code",
   "execution_count": 309,
   "metadata": {
    "scrolled": true
   },
   "outputs": [
    {
     "data": {
      "text/plain": [
       "deque([-5,\n",
       "       -1,\n",
       "       1,\n",
       "       1,\n",
       "       2,\n",
       "       2.1,\n",
       "       3,\n",
       "       5,\n",
       "       6,\n",
       "       10,\n",
       "       23,\n",
       "       23,\n",
       "       53,\n",
       "       232,\n",
       "       500,\n",
       "       501,\n",
       "       1005,\n",
       "       1005])"
      ]
     },
     "execution_count": 309,
     "metadata": {},
     "output_type": "execute_result"
    }
   ],
   "source": [
    "x = 1005\n",
    "ordered_ind = get_val_position(b,x)\n",
    "b.rotate(-ordered_ind) #.appendleft(x)\n",
    "b.appendleft(x)\n",
    "b.rotate(ordered_ind)\n",
    "b"
   ]
  },
  {
   "cell_type": "code",
   "execution_count": 290,
   "metadata": {},
   "outputs": [
    {
     "name": "stdout",
     "output_type": "stream",
     "text": [
      "deque([2, 2.1, 3, 5, 6, 10, 23, 23, 53, 232])\n",
      "deque([1, 2, 2.1, 3, 5, 6, 10, 23, 23, 53, 232])\n"
     ]
    }
   ],
   "source": [
    "y = 1\n",
    "print(b)\n",
    "c = deq_insert_order(b,y)\n",
    "print(c)"
   ]
  },
  {
   "cell_type": "code",
   "execution_count": 175,
   "metadata": {},
   "outputs": [
    {
     "data": {
      "text/plain": [
       "array([   2. ,    2.1,    3. ,    5. ,    6. ,   10. ,   23. ,   30. ,\n",
       "        232. ])"
      ]
     },
     "execution_count": 175,
     "metadata": {},
     "output_type": "execute_result"
    }
   ],
   "source": [
    "a = np.array([2,5,6,3,10, 232, 2.1, 23, 30])\n",
    "a = np.sort(a)\n",
    "a"
   ]
  },
  {
   "cell_type": "code",
   "execution_count": null,
   "metadata": {
    "collapsed": true
   },
   "outputs": [],
   "source": [
    "np.searchsorted(a,4.5)"
   ]
  },
  {
   "cell_type": "code",
   "execution_count": 197,
   "metadata": {},
   "outputs": [
    {
     "data": {
      "text/plain": [
       "array([   1. ,    2. ,    2.1,    3. ,    5. ,    6. ,   10. ,   23. ,\n",
       "         30. ,  232. ])"
      ]
     },
     "execution_count": 197,
     "metadata": {},
     "output_type": "execute_result"
    }
   ],
   "source": [
    "b = np.insert(a, np.searchsorted(a,1), 1)\n",
    "b"
   ]
  },
  {
   "cell_type": "code",
   "execution_count": 198,
   "metadata": {},
   "outputs": [
    {
     "data": {
      "text/plain": [
       "array([   1. ,    2. ,    2.1,    3. ,    5. ,    6. ,   10. ,   23. ,\n",
       "         30. ,  232. ])"
      ]
     },
     "execution_count": 198,
     "metadata": {},
     "output_type": "execute_result"
    }
   ],
   "source": [
    "b[1:].copy()\n",
    "b"
   ]
  },
  {
   "cell_type": "code",
   "execution_count": 215,
   "metadata": {},
   "outputs": [
    {
     "data": {
      "text/plain": [
       "array([   1. ,    2. ,    2.1,    3. ,    5. ,    6. ,   10. ,   23. ,\n",
       "         30. ,  232. ,    4. ])"
      ]
     },
     "execution_count": 215,
     "metadata": {},
     "output_type": "execute_result"
    }
   ],
   "source": [
    "b = np.append(b,4)\n",
    "b"
   ]
  },
  {
   "cell_type": "code",
   "execution_count": 88,
   "metadata": {
    "collapsed": true
   },
   "outputs": [],
   "source": [
    "def mean_var_rolling_generator(stream, WinSize=1000):\n",
    "    count = 0\n",
    "    running_sum = 0.0\n",
    "    running_sq_sum = 0.0\n",
    "    #arr = np.empty()\n",
    "    arr = deque()\n",
    "    for value in stream:\n",
    "        count +=1\n",
    "        arr.append(value)\n",
    "        running_sum += value\n",
    "        running_sq_sum += value**2\n",
    "        if count > (WinSize-1):\n",
    "            yield( running_sum / WinSize, # rolling mean\n",
    "                   running_sq_sum / WinSize - (running_sum / WinSize)**2 ) # rolling variance\n",
    "            tmp_out = arr.popleft() # delete leftmoast elem from arr\n",
    "            running_sum -= tmp_out\n",
    "            running_sq_sum -= tmp_out**2"
   ]
  },
  {
   "cell_type": "code",
   "execution_count": 19,
   "metadata": {
    "collapsed": true
   },
   "outputs": [],
   "source": [
    "# generate stream:\n",
    "def example_stream():\n",
    "    random_generator = random.Random(42)\n",
    "    for _ in range(10):\n",
    "        out = random_generator.randint(1,11)\n",
    "        yield(out)"
   ]
  },
  {
   "cell_type": "code",
   "execution_count": 20,
   "metadata": {
    "scrolled": true
   },
   "outputs": [
    {
     "name": "stdout",
     "output_type": "stream",
     "text": [
      "11\n",
      "2\n",
      "1\n",
      "5\n",
      "4\n",
      "4\n",
      "3\n",
      "2\n",
      "11\n",
      "9\n"
     ]
    }
   ],
   "source": [
    "for i in example_stream():\n",
    "    print(i)"
   ]
  },
  {
   "cell_type": "code",
   "execution_count": 141,
   "metadata": {
    "scrolled": false
   },
   "outputs": [
    {
     "name": "stdout",
     "output_type": "stream",
     "text": [
      "5.2\n",
      "12.76\n"
     ]
    }
   ],
   "source": [
    "ar = np.array([11,2,1,5,4,4,3,2,11,9])\n",
    "print(ar.mean())\n",
    "print(ar.var(ddof=0))"
   ]
  },
  {
   "cell_type": "code",
   "execution_count": 105,
   "metadata": {
    "scrolled": true
   },
   "outputs": [
    {
     "name": "stdout",
     "output_type": "stream",
     "text": [
      "(4.6, 12.240000000000002)\n",
      "(3.2, 2.1599999999999984)\n",
      "(3.4, 1.8400000000000016)\n",
      "(3.6, 1.0399999999999991)\n",
      "(4.8, 10.160000000000004)\n",
      "(5.8, 12.560000000000002)\n"
     ]
    }
   ],
   "source": [
    "for j in mean_var_rolling_generator(example_stream(), WinSize=5):\n",
    "    print(j)"
   ]
  },
  {
   "cell_type": "code",
   "execution_count": 90,
   "metadata": {},
   "outputs": [
    {
     "name": "stdout",
     "output_type": "stream",
     "text": [
      "['130.47', '5447.77']\n"
     ]
    }
   ],
   "source": [
    "print(get_tuple_stream_mean(mean_var_rolling_generator(medium_stream()), 2))"
   ]
  },
  {
   "cell_type": "code",
   "execution_count": null,
   "metadata": {
    "collapsed": true
   },
   "outputs": [],
   "source": [
    "def slidingWindow(sequence, winSize, step=1):\n",
    "    \"\"\"Returns a generator that will iterate through\n",
    "    the defined chunks of input sequence. Input sequence\n",
    "    must be iterable.\"\"\"\n",
    " \n",
    "    # Verify the inputs\n",
    "    try: it = iter(sequence)\n",
    "    except TypeError:\n",
    "        raise Exception(\"**ERROR** sequence must be iterable.\")\n",
    "    if not ((type(winSize) == type(0)) and (type(step) == type(0))):\n",
    "        raise Exception(\"**ERROR** type(winSize) and type(step) must be int.\")\n",
    "    if step > winSize:\n",
    "        raise Exception(\"**ERROR** step must not be larger than winSize.\")\n",
    "    if winSize > len(sequence):\n",
    "        raise Exception(\"**ERROR** winSize must not be larger than sequence length.\")\n",
    "    \n",
    "    # Pre-compute number of chunks to emit\n",
    "    numOfChunks = ((len(sequence)-winSize)/step)+1\n",
    " \n",
    "    # Do the work\n",
    "    for i in range(0,numOfChunks*step,step):\n",
    "        yield sequence[i:i+winSize]"
   ]
  },
  {
   "cell_type": "code",
   "execution_count": 158,
   "metadata": {
    "collapsed": true
   },
   "outputs": [],
   "source": [
    "## for easy stream (min, max, median):\n",
    "def easy_stats_generator(stream, WinSize=1000):\n",
    "    count = 0\n",
    "    min_tmp = 0.0\n",
    "    max_tmp = 0.0\n",
    "    median_tmp = 0.0\n",
    "    arr = deque()\n",
    "    for value in stream:\n",
    "        arr.append(value)\n",
    "        count += 1\n",
    "        if  count > (WinSize - 1):\n",
    "            median_tmp = arr[WinSize//2]\n",
    "            max_tmp = arr[-1]\n",
    "            min_tmp = arr.popleft()\n",
    "            yield(min_tmp, max_tmp, median_tmp)"
   ]
  },
  {
   "cell_type": "code",
   "execution_count": 159,
   "metadata": {
    "scrolled": true
   },
   "outputs": [
    {
     "name": "stdout",
     "output_type": "stream",
     "text": [
      "(11, 4, 1)\n",
      "(2, 4, 5)\n",
      "(1, 3, 4)\n",
      "(5, 2, 4)\n",
      "(4, 11, 3)\n",
      "(4, 9, 2)\n"
     ]
    }
   ],
   "source": [
    "for j in easy_stats_generator(example_stream(), WinSize=5):\n",
    "    print(j)"
   ]
  },
  {
   "cell_type": "code",
   "execution_count": 162,
   "metadata": {
    "scrolled": false
   },
   "outputs": [
    {
     "name": "stdout",
     "output_type": "stream",
     "text": [
      "11\n",
      "2\n",
      "1\n",
      "5\n",
      "4\n",
      "4\n",
      "3\n",
      "2\n",
      "11\n",
      "9\n"
     ]
    }
   ],
   "source": [
    "for i in range(10):\n",
    "    print(ar[i])"
   ]
  },
  {
   "cell_type": "code",
   "execution_count": 234,
   "metadata": {
    "collapsed": true
   },
   "outputs": [],
   "source": [
    "def find_right_place(arr, value):\n",
    "    for j in range(len(arr)):\n",
    "        if(value < arr[j]):\n",
    "            return j\n",
    "\n",
    "def medium_stats_generator(stream, WinSize):\n",
    "    count = 0\n",
    "    arr = np.array([])\n",
    "    index = \n",
    "    for value in stream:\n",
    "        count += 1\n",
    "        if count < WinSize:\n",
    "            arr = np.append(arr, value)\n",
    "        if count == WinSize-1:\n",
    "            arr = np.sort(arr)\n",
    "        if count > WinSize-1:\n",
    "            arr = np.insert(arr, np.searchsorted(arr, value), value)\n",
    "            #yield (arr[0], arr[-1], arr[WinSize//2])\n",
    "            yield arr\n",
    "            arr = arr[1:].copy()"
   ]
  },
  {
   "cell_type": "code",
   "execution_count": 235,
   "metadata": {},
   "outputs": [
    {
     "name": "stdout",
     "output_type": "stream",
     "text": [
      "[  1.   2.   4.   5.  11.]\n",
      "[  2.   4.   4.   5.  11.]\n",
      "[  3.   4.   4.   5.  11.]\n",
      "[  2.   4.   4.   5.  11.]\n",
      "[  4.   4.   5.  11.  11.]\n",
      "[  4.   5.   9.  11.  11.]\n"
     ]
    }
   ],
   "source": [
    "for i in medium_stats_generator(example_stream(),WinSize=5):\n",
    "    print(i)"
   ]
  },
  {
   "cell_type": "code",
   "execution_count": 221,
   "metadata": {
    "scrolled": true
   },
   "outputs": [
    {
     "name": "stdout",
     "output_type": "stream",
     "text": [
      "11\n",
      "2\n",
      "1\n",
      "5\n",
      "4\n",
      "4\n",
      "3\n",
      "2\n",
      "11\n",
      "9\n"
     ]
    }
   ],
   "source": [
    "for i in example_stream():\n",
    "    print(i)"
   ]
  },
  {
   "cell_type": "code",
   "execution_count": 328,
   "metadata": {
    "collapsed": true
   },
   "outputs": [],
   "source": [
    "def get_val_position(arr, val):\n",
    "    for i in range(len(arr)):\n",
    "        if val < arr[i]:\n",
    "            return i\n",
    "        if (val > arr[len(arr)-1]) | (val == arr[len(arr)-1]):\n",
    "            return len(arr)\n",
    "        \n",
    "def deq_insert_order(deq, val):\n",
    "    order_ind = get_val_position(deq, val)\n",
    "    deq.rotate(-order_ind)\n",
    "    deq.appendleft(val)\n",
    "    deq.rotate(order_ind)\n",
    "    return deq\n",
    "\n",
    "def medium_stats_generator(stream, WinSize=1000):\n",
    "    count = 0\n",
    "    deq_sorted = deque()\n",
    "    deq = deque()\n",
    "    for value in stream:\n",
    "        count += 1\n",
    "        if count < WinSize:\n",
    "            deq.append(value)\n",
    "        if count == WinSize-1:\n",
    "            deq.append(value)\n",
    "            deq_sorted = deque(sorted(deq))\n",
    "        if count > WinSize-1:\n",
    "            deq.append(value) # add new value\n",
    "            deq_sorted = deq_insert_order(deq_sorted, value) # add new value\n",
    "            yield (deq_sorted[0], deq_sorted[-1], deq_sorted[WinSize//2])\n",
    "            # yield deq_sorted\n",
    "            deq_sorted.remove(deq[0]) # remove first value in deq\n",
    "            deq.popleft() # remove first_val"
   ]
  },
  {
   "cell_type": "code",
   "execution_count": 329,
   "metadata": {},
   "outputs": [
    {
     "name": "stdout",
     "output_type": "stream",
     "text": [
      "(1, 11, 4)\n",
      "(1, 5, 4)\n",
      "(1, 5, 4)\n",
      "(2, 5, 4)\n",
      "(2, 11, 4)\n",
      "(2, 11, 4)\n"
     ]
    }
   ],
   "source": [
    "for i in medium_stats_generator(example_stream(), WinSize=5):\n",
    "    print(i)"
   ]
  },
  {
   "cell_type": "code",
   "execution_count": 330,
   "metadata": {},
   "outputs": [
    {
     "name": "stdout",
     "output_type": "stream",
     "text": [
      "11\n",
      "2\n",
      "1\n",
      "5\n",
      "4\n",
      "4\n",
      "3\n",
      "2\n",
      "11\n",
      "9\n"
     ]
    }
   ],
   "source": [
    "for i in example_stream():\n",
    "    print(i)"
   ]
  },
  {
   "cell_type": "code",
   "execution_count": null,
   "metadata": {
    "collapsed": true
   },
   "outputs": [],
   "source": [
    "# change second deque on np array\n",
    "\n",
    "def get_val_position(arr, val):\n",
    "    for i in range(len(arr)):\n",
    "        if val < arr[i]:\n",
    "            return i\n",
    "        if (val > arr[len(arr)-1]) | (val == arr[len(arr)-1]):\n",
    "            return len(arr)\n",
    "        \n",
    "def np_insert_order(arr, val):\n",
    "    np.insert(arr, np.searchsorted(arr,val), val)\n",
    "    return arr\n",
    "\n",
    "def medium_stats_generator(stream, WinSize=1000):\n",
    "    count = 0\n",
    "    #arr_sorted = np.array()\n",
    "    deq = deque()\n",
    "    for value in stream:\n",
    "        count += 1\n",
    "        if count < WinSize:\n",
    "            deq.append(value)\n",
    "        if count == WinSize-1:\n",
    "            deq.append(value)\n",
    "            arr_sorted = np.array(sorted(deq))\n",
    "        if count > WinSize-1:\n",
    "            deq.append(value) # add new value\n",
    "            arr_sorted = arr_insert_order(arr_sorted, value) # add new value\n",
    "            yield (arr_sorted[0], arr_sorted[-1], arr_sorted[WinSize//2])\n",
    "            # yield deq_sorted\n",
    "            arr_sorted.remove(deq[0]) # remove first value in deq\n",
    "            deq.popleft() # remove first_val"
   ]
  },
  {
   "cell_type": "code",
   "execution_count": 338,
   "metadata": {
    "scrolled": true
   },
   "outputs": [
    {
     "ename": "SyntaxError",
     "evalue": "invalid syntax (<ipython-input-338-2c1a53e25ebe>, line 3)",
     "output_type": "error",
     "traceback": [
      "\u001b[1;36m  File \u001b[1;32m\"<ipython-input-338-2c1a53e25ebe>\"\u001b[1;36m, line \u001b[1;32m3\u001b[0m\n\u001b[1;33m    s = np.insert(a, np.searchsorted(a,1), 1) np.insert(a, np.searchsorted(a,1), 1)\u001b[0m\n\u001b[1;37m                                               ^\u001b[0m\n\u001b[1;31mSyntaxError\u001b[0m\u001b[1;31m:\u001b[0m invalid syntax\n"
     ]
    }
   ],
   "source": [
    "s = np.sort(np.array([1,5,3,10,2,5,0,4]))\n",
    "x = 3.5\n",
    "s = np.insert(a, np.searchsorted(a,1), 1) np.insert(a, np.searchsorted(a,1), 1) "
   ]
  },
  {
   "cell_type": "code",
   "execution_count": 335,
   "metadata": {},
   "outputs": [
    {
     "data": {
      "text/plain": [
       "array([ 0,  1,  2,  3,  4,  5,  5, 10])"
      ]
     },
     "execution_count": 335,
     "metadata": {},
     "output_type": "execute_result"
    }
   ],
   "source": [
    "s"
   ]
  },
  {
   "cell_type": "code",
   "execution_count": 336,
   "metadata": {},
   "outputs": [
    {
     "data": {
      "text/plain": [
       "array([ 1,  2,  3,  4,  5,  5, 10])"
      ]
     },
     "execution_count": 336,
     "metadata": {},
     "output_type": "execute_result"
    }
   ],
   "source": [
    "np.delete(s,0)"
   ]
  },
  {
   "cell_type": "code",
   "execution_count": 337,
   "metadata": {
    "scrolled": true
   },
   "outputs": [
    {
     "ename": "IndexError",
     "evalue": "index 10 is out of bounds for axis 0 with size 8",
     "output_type": "error",
     "traceback": [
      "\u001b[1;31m---------------------------------------------------------------------------\u001b[0m",
      "\u001b[1;31mIndexError\u001b[0m                                Traceback (most recent call last)",
      "\u001b[1;32m<ipython-input-337-4fa27da2aa15>\u001b[0m in \u001b[0;36m<module>\u001b[1;34m()\u001b[0m\n\u001b[1;32m----> 1\u001b[1;33m \u001b[0mnp\u001b[0m\u001b[1;33m.\u001b[0m\u001b[0mdelete\u001b[0m\u001b[1;33m(\u001b[0m\u001b[0ms\u001b[0m\u001b[1;33m,\u001b[0m\u001b[1;36m10\u001b[0m\u001b[1;33m)\u001b[0m\u001b[1;33m\u001b[0m\u001b[0m\n\u001b[0m",
      "\u001b[1;32m~\\AppData\\Local\\Continuum\\anaconda3\\lib\\site-packages\\numpy\\lib\\function_base.py\u001b[0m in \u001b[0;36mdelete\u001b[1;34m(arr, obj, axis)\u001b[0m\n\u001b[0;32m   4842\u001b[0m             raise IndexError(\n\u001b[0;32m   4843\u001b[0m                 \u001b[1;34m\"index %i is out of bounds for axis %i with \"\u001b[0m\u001b[1;33m\u001b[0m\u001b[0m\n\u001b[1;32m-> 4844\u001b[1;33m                 \"size %i\" % (obj, axis, N))\n\u001b[0m\u001b[0;32m   4845\u001b[0m         \u001b[1;32mif\u001b[0m \u001b[1;33m(\u001b[0m\u001b[0mobj\u001b[0m \u001b[1;33m<\u001b[0m \u001b[1;36m0\u001b[0m\u001b[1;33m)\u001b[0m\u001b[1;33m:\u001b[0m\u001b[1;33m\u001b[0m\u001b[0m\n\u001b[0;32m   4846\u001b[0m             \u001b[0mobj\u001b[0m \u001b[1;33m+=\u001b[0m \u001b[0mN\u001b[0m\u001b[1;33m\u001b[0m\u001b[0m\n",
      "\u001b[1;31mIndexError\u001b[0m: index 10 is out of bounds for axis 0 with size 8"
     ]
    }
   ],
   "source": [
    "np.delete(s,10)"
   ]
  },
  {
   "cell_type": "code",
   "execution_count": null,
   "metadata": {
    "collapsed": true
   },
   "outputs": [],
   "source": [
    "!conda install tqdm"
   ]
  },
  {
   "cell_type": "code",
   "execution_count": 17,
   "metadata": {
    "collapsed": true
   },
   "outputs": [],
   "source": [
    "# change second deque on np array\n",
    "\n",
    "def get_val_position(arr, val):\n",
    "    for i in range(len(arr)):\n",
    "        if val < arr[i]:\n",
    "            return i\n",
    "        if (val > arr[len(arr)-1]) | (val == arr[len(arr)-1]):\n",
    "            return len(arr)\n",
    "        \n",
    "def np_insert_order(arr, val):\n",
    "    arr = np.insert(arr, np.searchsorted(arr,val), val)\n",
    "    return arr\n",
    "\n",
    "def np_delete_order(arr, val):\n",
    "    arr = np.delete( arr, np.searchsorted(arr,val))\n",
    "    return arr\n",
    "\n",
    "def medium_stats_generator_2(stream, WinSize=1000):\n",
    "    count = 0\n",
    "    #arr_sorted = np.array()\n",
    "    deq = deque()\n",
    "    for value in stream:\n",
    "        count += 1\n",
    "        if count < WinSize:\n",
    "            deq.append(value)\n",
    "        if count == WinSize-1:\n",
    "            deq.append(value)\n",
    "            arr_sorted = np.array(sorted(deq))\n",
    "        if count > WinSize-1:\n",
    "            deq.append(value) # add new value\n",
    "            arr_sorted = np_insert_order(arr_sorted, value) # add new value\n",
    "            yield (arr_sorted[0], arr_sorted[-1], arr_sorted[WinSize//2])\n",
    "            arr_sorted = np_delete_order(arr_sorted, deq[0]) # remove first value in deq\n",
    "            deq.popleft() # remove first_val"
   ]
  },
  {
   "cell_type": "code",
   "execution_count": 21,
   "metadata": {},
   "outputs": [
    {
     "name": "stdout",
     "output_type": "stream",
     "text": [
      "(1, 11, 4)\n",
      "(1, 5, 4)\n",
      "(1, 5, 4)\n",
      "(2, 5, 4)\n",
      "(2, 11, 4)\n",
      "(2, 11, 4)\n"
     ]
    }
   ],
   "source": [
    "for i in medium_stats_generator_2(example_stream(), 5):\n",
    "    print(i)"
   ]
  },
  {
   "cell_type": "code",
   "execution_count": 23,
   "metadata": {},
   "outputs": [
    {
     "name": "stdout",
     "output_type": "stream",
     "text": [
      "11\n",
      "2\n",
      "1\n",
      "5\n",
      "4\n",
      "4\n",
      "3\n",
      "2\n",
      "11\n",
      "9\n"
     ]
    }
   ],
   "source": [
    "for i in example_stream():\n",
    "    print(i)"
   ]
  },
  {
   "cell_type": "code",
   "execution_count": null,
   "metadata": {
    "collapsed": true
   },
   "outputs": [],
   "source": []
  }
 ],
 "metadata": {
  "kernelspec": {
   "display_name": "Python 3",
   "language": "python",
   "name": "python3"
  },
  "language_info": {
   "codemirror_mode": {
    "name": "ipython",
    "version": 3
   },
   "file_extension": ".py",
   "mimetype": "text/x-python",
   "name": "python",
   "nbconvert_exporter": "python",
   "pygments_lexer": "ipython3",
   "version": "3.6.3"
  }
 },
 "nbformat": 4,
 "nbformat_minor": 2
}
