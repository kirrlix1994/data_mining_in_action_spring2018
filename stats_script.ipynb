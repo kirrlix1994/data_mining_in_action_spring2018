{
 "cells": [
  {
   "cell_type": "code",
   "execution_count": 6,
   "metadata": {},
   "outputs": [],
   "source": [
    "import numpy as np\n",
    "import scipy\n",
    "import matplotlib.pyplot as plt\n",
    "import scipy.stats\n",
    "import statsmodels\n",
    "import statsmodels.sandbox.stats.multicomp\n",
    "\n",
    "%matplotlib inline"
   ]
  },
  {
   "cell_type": "markdown",
   "metadata": {},
   "source": [
    "Сгенерируем данные с одинаковыми средними"
   ]
  },
  {
   "cell_type": "code",
   "execution_count": 2,
   "metadata": {},
   "outputs": [],
   "source": [
    "data_fst = np.random.normal(10, 10, size=100)\n",
    "data_snd = np.random.normal(10, 1, size=100)"
   ]
  },
  {
   "cell_type": "code",
   "execution_count": 14,
   "metadata": {},
   "outputs": [
    {
     "data": {
      "image/png": "[encoded data removed]",
      "text/plain": [
       "<matplotlib.figure.Figure at 0x30590ddd30>"
      ]
     },
     "metadata": {},
     "output_type": "display_data"
    }
   ],
   "source": [
    "plt.hist(data_fst, bins=30);\n",
    "plt.hist(data_snd, bins=30);"
   ]
  },
  {
   "cell_type": "markdown",
   "metadata": {},
   "source": [
    "Если мы посмотрим на средние значения выборок, то они конечно же будут различны"
   ]
  },
  {
   "cell_type": "code",
   "execution_count": 15,
   "metadata": {},
   "outputs": [
    {
     "name": "stdout",
     "output_type": "stream",
     "text": [
      "9.302443103268443\n",
      "10.007446352290012\n"
     ]
    }
   ],
   "source": [
    "print(data_fst.mean())\n",
    "print(data_snd.mean())"
   ]
  },
  {
   "cell_type": "markdown",
   "metadata": {},
   "source": [
    "Но если средние разные, то числа тоже могут не сильно отличаться"
   ]
  },
  {
   "cell_type": "code",
   "execution_count": 16,
   "metadata": {},
   "outputs": [
    {
     "name": "stdout",
     "output_type": "stream",
     "text": [
      "10.475422273289093\n",
      "9.800090503077032\n"
     ]
    }
   ],
   "source": [
    "data_fst = np.random.normal(10.5, 10, size=100)\n",
    "data_snd = np.random.normal(10, 1, size=100)\n",
    "\n",
    "print(data_fst.mean())\n",
    "print(data_snd.mean())"
   ]
  },
  {
   "cell_type": "markdown",
   "metadata": {},
   "source": [
    "# Использование ЦПТ"
   ]
  },
  {
   "cell_type": "markdown",
   "metadata": {},
   "source": [
    "### Можно воспользоваться ЦПТ и получить доверительный интервал для среднего"
   ]
  },
  {
   "cell_type": "markdown",
   "metadata": {},
   "source": [
    "#### Напоминание ЦПТ:\n",
    "Пусть $\\xi_1, \\xi_2, \\dots$ - независимые одинаково распределённые случайные величины с конечной дисперсией $D \\xi_1$ и мат. ожиданием $E \\xi_1$, тогда\n",
    "\n",
    "$\\sqrt{\\frac{n}{D \\xi_1}} \\left(\\frac{\\sum\\limits_{i=1}^{n} \\xi_i}{n} - E \\xi_1\\right) \\to_{n \\to \\infty} \\mathcal{N}(0, 1)$ \n",
    "\n",
    "Отсюда можно сделать вывод, что при больших $n$ величина $\\frac{\\sum\\limits_{i=1}^{n} \\xi_i}{n}$ будет распределена примерно как $\\mathcal{N}(E \\xi_1, \\frac{D \\xi_1}{n})$\n",
    "\n",
    "Если бы мы знали $D \\xi_1$, то отсюда можно получить интервал на $E \\xi_1$:\n",
    "$$\n",
    "P\\left(E \\xi_1 \\in \\left[\\frac{\\sum\\limits_{i=1}^{n} \\xi_i}{n} - 1.96 \\sqrt{\\frac{D \\xi_1}{n}}, \\frac{\\sum\\limits_{i=1}^{n} \\xi_i}{n} + 1.96 \\sqrt{\\frac{D \\xi_1}{n}}\\right]\\right) \\approx 0.95\n",
    "$$\n",
    "\n",
    "$D \\xi_1$ можно оценить по выборке"
   ]
  },
  {
   "cell_type": "code",
   "execution_count": 17,
   "metadata": {},
   "outputs": [],
   "source": [
    "def get_95_interval(data, sigma=None):\n",
    "    mean = data.mean()\n",
    "    if sigma is None:\n",
    "        sigma = data.std()\n",
    "    err = sigma * 1.96 / np.sqrt(len(data))\n",
    "    return mean - err, mean + err"
   ]
  },
  {
   "cell_type": "markdown",
   "metadata": {},
   "source": [
    "Проверим, что нужное нам значение лежит в интервале с требуемой вероятностью"
   ]
  },
  {
   "cell_type": "code",
   "execution_count": 18,
   "metadata": {},
   "outputs": [
    {
     "name": "stdout",
     "output_type": "stream",
     "text": [
      "0.9461\n"
     ]
    }
   ],
   "source": [
    "hits = 0.\n",
    "count = 0.\n",
    "true_mean = 10.\n",
    "\n",
    "for _ in range(10000):\n",
    "    data = np.random.normal(true_mean, 10, size=100)\n",
    "    lower_bound, upper_bound = get_95_interval(data)\n",
    "    count += 1\n",
    "    if lower_bound <= true_mean <= upper_bound:\n",
    "        hits += 1\n",
    "        \n",
    "print(hits / count)"
   ]
  },
  {
   "cell_type": "markdown",
   "metadata": {},
   "source": [
    "Однако, если данных мало, то оценка неправильна"
   ]
  },
  {
   "cell_type": "code",
   "execution_count": 19,
   "metadata": {},
   "outputs": [
    {
     "name": "stdout",
     "output_type": "stream",
     "text": [
      "0.9047\n"
     ]
    }
   ],
   "source": [
    "hits = 0.\n",
    "count = 0.\n",
    "true_mean = 10.\n",
    "\n",
    "for _ in range(10000):\n",
    "    data = np.random.normal(true_mean, 10, size=10)\n",
    "    lower_bound, upper_bound = get_95_interval(data)\n",
    "    count += 1\n",
    "    if lower_bound <= true_mean <= upper_bound:\n",
    "        hits += 1\n",
    "        \n",
    "print(hits / count)"
   ]
  },
  {
   "cell_type": "markdown",
   "metadata": {},
   "source": [
    "Подставим реальное значение дисперсии и всё снова заработает"
   ]
  },
  {
   "cell_type": "code",
   "execution_count": 20,
   "metadata": {},
   "outputs": [
    {
     "name": "stdout",
     "output_type": "stream",
     "text": [
      "0.9494\n"
     ]
    }
   ],
   "source": [
    "hits = 0.\n",
    "count = 0.\n",
    "true_mean = 10.\n",
    "\n",
    "for _ in range(10000):\n",
    "    data = np.random.normal(true_mean, 10, size=10)\n",
    "    lower_bound, upper_bound = get_95_interval(data, sigma=10)\n",
    "    count += 1\n",
    "    if lower_bound <= true_mean <= upper_bound:\n",
    "        hits += 1\n",
    "        \n",
    "print(hits / count)"
   ]
  },
  {
   "cell_type": "markdown",
   "metadata": {},
   "source": [
    "Итак, у нас две выборки с гигантской разницей в среднем"
   ]
  },
  {
   "cell_type": "code",
   "execution_count": 21,
   "metadata": {},
   "outputs": [
    {
     "name": "stdout",
     "output_type": "stream",
     "text": [
      "(9.157255497825107, 13.048086469852345)\n",
      "(99.60775550350736, 99.99934219809255)\n"
     ]
    }
   ],
   "source": [
    "data_fst = np.random.normal(10.5, 10, size=100)\n",
    "data_snd = np.random.normal(100, 1, size=100)\n",
    "\n",
    "print(get_95_interval(data_fst))\n",
    "print(get_95_interval(data_snd))"
   ]
  },
  {
   "cell_type": "markdown",
   "metadata": {},
   "source": [
    "Конечно же интервалы не пересекаются"
   ]
  },
  {
   "cell_type": "markdown",
   "metadata": {},
   "source": [
    "Однако, если разница небольшая, то интервалы могут пересечься"
   ]
  },
  {
   "cell_type": "code",
   "execution_count": 22,
   "metadata": {},
   "outputs": [
    {
     "name": "stdout",
     "output_type": "stream",
     "text": [
      "(10.454730957446612, 12.347370728128547)\n",
      "(9.872939659148702, 10.285061121283942)\n"
     ]
    }
   ],
   "source": [
    "data_fst = np.random.normal(11, 10, size=500)\n",
    "data_snd = np.random.normal(10, 1, size=100)\n",
    "\n",
    "print(get_95_interval(data_fst))\n",
    "print(get_95_interval(data_snd))"
   ]
  },
  {
   "cell_type": "markdown",
   "metadata": {},
   "source": [
    "Давайте посмотрим, как часто такой критерий (доверительные интервалы не пересекаются) будет находить различие в случае, если оно есть. В некотором смысле это мощность критерия"
   ]
  },
  {
   "cell_type": "code",
   "execution_count": 23,
   "metadata": {},
   "outputs": [
    {
     "name": "stdout",
     "output_type": "stream",
     "text": [
      "0.7175\n"
     ]
    }
   ],
   "source": [
    "hits = 0.\n",
    "count = 0.\n",
    "\n",
    "for _ in range(10000):\n",
    "    data_fst = np.random.normal(11, 10, size=1000)\n",
    "    data_snd = np.random.normal(10, 1, size=100)\n",
    "    \n",
    "    lower_fst, upper_fst = get_95_interval(data_fst)\n",
    "    lower_snd, upper_snd = get_95_interval(data_snd)\n",
    "    \n",
    "    count += 1\n",
    "    if not (lower_fst <= lower_snd <= upper_fst or lower_fst <= upper_snd <= upper_fst):\n",
    "        hits += 1\n",
    "\n",
    "print(hits / count)"
   ]
  },
  {
   "cell_type": "markdown",
   "metadata": {},
   "source": [
    "Также проверим, как часто различие будет обнаруживаться, если его нет"
   ]
  },
  {
   "cell_type": "code",
   "execution_count": 24,
   "metadata": {},
   "outputs": [
    {
     "name": "stdout",
     "output_type": "stream",
     "text": [
      "0.0165\n"
     ]
    }
   ],
   "source": [
    "hits = 0.\n",
    "count = 0.\n",
    "\n",
    "for _ in range(10000):\n",
    "    data_fst = np.random.normal(10, 10, size=1000)\n",
    "    data_snd = np.random.normal(10, 1, size=100)\n",
    "    \n",
    "    lower_fst, upper_fst = get_95_interval(data_fst)\n",
    "    lower_snd, upper_snd = get_95_interval(data_snd)\n",
    "    \n",
    "    count += 1\n",
    "    if not (lower_fst <= lower_snd <= upper_fst or lower_fst <= upper_snd <= upper_fst):\n",
    "        hits += 1\n",
    "\n",
    "print(hits / count)"
   ]
  },
  {
   "cell_type": "markdown",
   "metadata": {},
   "source": [
    "Также проверим, как часто различие будет обнаруживаться, если он есть, но очень маленький"
   ]
  },
  {
   "cell_type": "code",
   "execution_count": 25,
   "metadata": {},
   "outputs": [
    {
     "name": "stdout",
     "output_type": "stream",
     "text": [
      "0.0224\n"
     ]
    }
   ],
   "source": [
    "hits = 0.\n",
    "count = 0.\n",
    "\n",
    "for _ in range(10000):\n",
    "    data_fst = np.random.normal(10.1, 10, size=1000)\n",
    "    data_snd = np.random.normal(10, 1, size=100)\n",
    "    \n",
    "    lower_fst, upper_fst = get_95_interval(data_fst)\n",
    "    lower_snd, upper_snd = get_95_interval(data_snd)\n",
    "    \n",
    "    count += 1\n",
    "    if not (lower_fst <= lower_snd <= upper_fst or lower_fst <= upper_snd <= upper_fst):\n",
    "        hits += 1\n",
    "\n",
    "print(hits / count)"
   ]
  },
  {
   "cell_type": "markdown",
   "metadata": {},
   "source": [
    "У нас очень маленькая ошибка первого рода (правда мы хотели 0.05), но мощность тоже небольшая\n",
    "\n",
    "**Вывод**: этот способ очень прост, но можно использовать более мощные и подконтрольные критерии"
   ]
  },
  {
   "cell_type": "code",
   "execution_count": null,
   "metadata": {},
   "outputs": [],
   "source": []
  },
  {
   "cell_type": "markdown",
   "metadata": {},
   "source": [
    "В простом варианте давайте вычтем две незавимых случайных величины друг из друга\n",
    "\n",
    "$\\mathcal{N}(a_1, \\sigma_1^2) - \\mathcal{N}(a_2, \\sigma_2^2) \\sim \\mathcal{N}(a_1 - a_2, \\sigma_1^2 + \\sigma_2^2)$ \n",
    "\n",
    "То есть в нашем случае $\\frac{\\sum\\limits_{i=1}^{n^1} \\xi_i^1}{n^1} - \\frac{\\sum\\limits_{i=1}^{n^2} \\xi_i^2}{n^2}$ будет распределена примерно как $\\mathcal{N}(E \\xi_1^1 - E \\xi_1^2, \\frac{D \\xi_1^1}{n^1} + \\frac{D \\xi_1^2}{n^2})$"
   ]
  },
  {
   "cell_type": "code",
   "execution_count": null,
   "metadata": {},
   "outputs": [],
   "source": []
  },
  {
   "cell_type": "markdown",
   "metadata": {},
   "source": [
    "Проверим те же параметры, что и в предыдущем случае"
   ]
  },
  {
   "cell_type": "code",
   "execution_count": 72,
   "metadata": {},
   "outputs": [
    {
     "name": "stdout",
     "output_type": "stream",
     "text": [
      "0.8512\n"
     ]
    }
   ],
   "source": [
    "hits = 0.\n",
    "count = 0.\n",
    "\n",
    "for _ in range(10000):\n",
    "    data_fst = np.random.normal(11, 10, size=1000)\n",
    "    data_snd = np.random.normal(10, 1, size=100)\n",
    "    \n",
    "    stat = (\n",
    "        (data_fst.mean() - data_snd.mean()) \n",
    "        / \n",
    "        np.sqrt(1. * data_fst.std() ** 2 / len(data_fst) + 1. * data_snd.std() ** 2 / len(data_snd))\n",
    "    )\n",
    "\n",
    "    count += 1\n",
    "    if abs(stat) > 1.96:\n",
    "        hits += 1\n",
    "\n",
    "print(hits / count)"
   ]
  },
  {
   "cell_type": "code",
   "execution_count": 73,
   "metadata": {},
   "outputs": [
    {
     "name": "stdout",
     "output_type": "stream",
     "text": [
      "0.0492\n"
     ]
    }
   ],
   "source": [
    "hits = 0.\n",
    "count = 0.\n",
    "\n",
    "for _ in range(10000):\n",
    "    data_fst = np.random.normal(10, 10, size=1000)\n",
    "    data_snd = np.random.normal(10, 1, size=100)\n",
    "    \n",
    "    stat = (\n",
    "        (data_fst.mean() - data_snd.mean()) \n",
    "        / \n",
    "        np.sqrt(1. * data_fst.std() ** 2 / len(data_fst) + 1. * data_snd.std() ** 2 / len(data_snd))\n",
    "    )\n",
    "    count += 1\n",
    "    if abs(stat) > 1.96:\n",
    "        hits += 1\n",
    "\n",
    "print(hits / count)"
   ]
  },
  {
   "cell_type": "code",
   "execution_count": null,
   "metadata": {},
   "outputs": [],
   "source": [
    "hits = 0.\n",
    "count = 0.\n",
    "\n",
    "for _ in range(10000):\n",
    "    data_fst = np.random.normal(10.1, 10, size=1000)\n",
    "    data_snd = np.random.normal(10, 1, size=100)\n",
    "    \n",
    "    stat = (\n",
    "        (data_fst.mean() - data_snd.mean()) \n",
    "        / \n",
    "        np.sqrt(1. * data_fst.std() ** 2 / len(data_fst) + 1. * data_snd.std() ** 2 / len(data_snd))\n",
    "    )\n",
    "    count += 1\n",
    "    if abs(stat) > 1.96:\n",
    "        hits += 1\n",
    "\n",
    "print(hits / count)"
   ]
  },
  {
   "cell_type": "markdown",
   "metadata": {},
   "source": [
    "Это уже более похоже на то, чего нам бы хотелось"
   ]
  },
  {
   "cell_type": "code",
   "execution_count": null,
   "metadata": {},
   "outputs": [],
   "source": []
  },
  {
   "cell_type": "code",
   "execution_count": null,
   "metadata": {},
   "outputs": [],
   "source": []
  },
  {
   "cell_type": "markdown",
   "metadata": {},
   "source": [
    "# SciPy tests"
   ]
  },
  {
   "cell_type": "markdown",
   "metadata": {},
   "source": [
    "Каждый раз писать такие критерии было чересчур, тем более в модуле scipy всё уже есть"
   ]
  },
  {
   "cell_type": "markdown",
   "metadata": {},
   "source": [
    "Вот например в scipy есть куча различных тестов, в которых уже все формулы написаны и надо просто вызвать функцию"
   ]
  },
  {
   "cell_type": "code",
   "execution_count": 31,
   "metadata": {},
   "outputs": [
    {
     "data": {
      "text/plain": [
       "0.9604656481284405"
      ]
     },
     "execution_count": 31,
     "metadata": {},
     "output_type": "execute_result"
    }
   ],
   "source": [
    "scipy.stats.ttest_ind(data_fst, data_snd).pvalue"
   ]
  },
  {
   "cell_type": "code",
   "execution_count": 33,
   "metadata": {},
   "outputs": [
    {
     "name": "stdout",
     "output_type": "stream",
     "text": [
      "0.002\n"
     ]
    }
   ],
   "source": [
    "hits = 0.\n",
    "count = 0.\n",
    "\n",
    "for _ in range(10000):\n",
    "    data_fst = np.random.normal(11, 10, size=1000)\n",
    "    data_snd = np.random.normal(10, 1, size=100)\n",
    "\n",
    "    count += 1\n",
    "    if scipy.stats.ttest_ind(data_fst, data_snd).pvalue < 0.05:\n",
    "        hits += 1\n",
    "\n",
    "print(hits / count)"
   ]
  },
  {
   "cell_type": "code",
   "execution_count": 34,
   "metadata": {},
   "outputs": [
    {
     "name": "stdout",
     "output_type": "stream",
     "text": [
      "0.0\n"
     ]
    }
   ],
   "source": [
    "hits = 0.\n",
    "count = 0.\n",
    "\n",
    "for _ in range(10000):\n",
    "    data_fst = np.random.normal(10, 10, size=1000)\n",
    "    data_snd = np.random.normal(10, 1, size=100)\n",
    "\n",
    "    count += 1\n",
    "    if scipy.stats.ttest_ind(data_fst, data_snd).pvalue < 0.05:\n",
    "        hits += 1\n",
    "\n",
    "print(hits / count)"
   ]
  },
  {
   "cell_type": "markdown",
   "metadata": {},
   "source": [
    "сломалось("
   ]
  },
  {
   "cell_type": "code",
   "execution_count": 74,
   "metadata": {},
   "outputs": [
    {
     "name": "stdout",
     "output_type": "stream",
     "text": [
      "0.7049\n"
     ]
    }
   ],
   "source": [
    "hits = 0.\n",
    "count = 0.\n",
    "\n",
    "for _ in range(10000):\n",
    "    data_fst = np.random.normal(10.5, 10, size=5000)\n",
    "    data_snd = np.random.normal(10, 10, size=5000)\n",
    "\n",
    "    count += 1\n",
    "    if scipy.stats.ttest_ind(data_fst, data_snd, equal_var=False).pvalue < 0.05:\n",
    "        hits += 1\n",
    "\n",
    "print(hits / count)"
   ]
  },
  {
   "cell_type": "code",
   "execution_count": 59,
   "metadata": {},
   "outputs": [
    {
     "name": "stdout",
     "output_type": "stream",
     "text": [
      "0.0501\n"
     ]
    }
   ],
   "source": [
    "hits = 0.\n",
    "count = 0.\n",
    "\n",
    "for _ in range(10000):\n",
    "    data_fst = np.random.normal(10, 20, size=1000)\n",
    "    data_snd = np.random.normal(10, 10, size=200)\n",
    "\n",
    "    count += 1\n",
    "    if scipy.stats.ttest_ind(data_fst, data_snd, equal_var=False).pvalue < 0.05:\n",
    "        hits += 1\n",
    "\n",
    "print(hits / count)"
   ]
  },
  {
   "cell_type": "markdown",
   "metadata": {},
   "source": [
    "Примерно как и ЦПТ, только не надо париться с формулами"
   ]
  },
  {
   "cell_type": "code",
   "execution_count": null,
   "metadata": {},
   "outputs": [],
   "source": []
  },
  {
   "cell_type": "markdown",
   "metadata": {},
   "source": [
    "Давайте другой тест возьмём, например, Мана-Уитни"
   ]
  },
  {
   "cell_type": "code",
   "execution_count": 63,
   "metadata": {},
   "outputs": [
    {
     "name": "stdout",
     "output_type": "stream",
     "text": [
      "0.1593\n"
     ]
    }
   ],
   "source": [
    "hits = 0.\n",
    "count = 0.\n",
    "\n",
    "for _ in range(10000):\n",
    "    data_fst = np.random.normal(11, 10, size=1000)\n",
    "    data_snd = np.random.normal(10, 10, size=100)\n",
    "\n",
    "    count += 1\n",
    "    if scipy.stats.mannwhitneyu(data_fst, data_snd, alternative='two-sided').pvalue < 0.05:\n",
    "        hits += 1\n",
    "\n",
    "print(hits / count)"
   ]
  },
  {
   "cell_type": "code",
   "execution_count": 61,
   "metadata": {},
   "outputs": [
    {
     "name": "stdout",
     "output_type": "stream",
     "text": [
      "0.0001\n"
     ]
    }
   ],
   "source": [
    "hits = 0.\n",
    "count = 0.\n",
    "\n",
    "for _ in range(10000):\n",
    "    data_fst = np.random.normal(10, 10, size=1000)\n",
    "    data_snd = np.random.normal(10, 1, size=100)\n",
    "\n",
    "    count += 1\n",
    "    if scipy.stats.mannwhitneyu(data_fst, data_snd, alternative='two-sided').pvalue < 0.05:\n",
    "        hits += 1\n",
    "\n",
    "print(hits / count)"
   ]
  },
  {
   "cell_type": "code",
   "execution_count": 69,
   "metadata": {},
   "outputs": [
    {
     "name": "stdout",
     "output_type": "stream",
     "text": [
      "0.778\n"
     ]
    }
   ],
   "source": [
    "hits = 0.\n",
    "count = 0.\n",
    "\n",
    "for _ in range(10000):\n",
    "    data_fst = np.random.normal(1, 5, size=1000)\n",
    "    data_snd = np.random.normal(0, 10, size=1000)\n",
    "\n",
    "    count += 1\n",
    "    if scipy.stats.mannwhitneyu(data_fst, data_snd, alternative='two-sided').pvalue < 0.05:\n",
    "        hits += 1\n",
    "\n",
    "print(hits / count)"
   ]
  },
  {
   "cell_type": "markdown",
   "metadata": {},
   "source": [
    "Думаете всё сломалось? Нет, просто у этого критерия другая нулевая гипотеза!"
   ]
  },
  {
   "cell_type": "code",
   "execution_count": 109,
   "metadata": {},
   "outputs": [
    {
     "name": "stdout",
     "output_type": "stream",
     "text": [
      "0.049\n"
     ]
    }
   ],
   "source": [
    "hits = 0.\n",
    "count = 0.\n",
    "\n",
    "for _ in range(10000):\n",
    "    data_fst = np.random.normal(0, 1, size=1000)\n",
    "    data_snd = np.random.normal(0, 1, size=100)\n",
    "\n",
    "    count += 1\n",
    "    if scipy.stats.mannwhitneyu(data_fst, data_snd, alternative='two-sided').pvalue < 0.05:\n",
    "        hits += 1\n",
    "\n",
    "print(hits / count)"
   ]
  },
  {
   "cell_type": "code",
   "execution_count": 110,
   "metadata": {},
   "outputs": [
    {
     "name": "stdout",
     "output_type": "stream",
     "text": [
      "1.0\n"
     ]
    }
   ],
   "source": [
    "hits = 0.\n",
    "count = 0.\n",
    "\n",
    "for _ in range(10000):\n",
    "    data_fst = np.random.normal(0, 1, size=1000)\n",
    "    data_snd = np.random.normal(1, 1, size=100)\n",
    "\n",
    "    count += 1\n",
    "    if scipy.stats.mannwhitneyu(data_fst, data_snd, alternative='two-sided').pvalue < 0.05:\n",
    "        hits += 1\n",
    "\n",
    "print(hits / count)"
   ]
  },
  {
   "cell_type": "code",
   "execution_count": null,
   "metadata": {},
   "outputs": [],
   "source": []
  },
  {
   "cell_type": "markdown",
   "metadata": {},
   "source": [
    "# О смысле p-value, корректности и мощности"
   ]
  },
  {
   "cell_type": "code",
   "execution_count": 75,
   "metadata": {},
   "outputs": [
    {
     "data": {
      "image/png": "[encoded data removed]",
      "text/plain": [
       "<matplotlib.figure.Figure at 0x305aec54a8>"
      ]
     },
     "metadata": {},
     "output_type": "display_data"
    }
   ],
   "source": [
    "pvalues = []\n",
    "for _ in range(10000):\n",
    "    data_fst = np.random.normal(10, 10, size=100)\n",
    "    data_snd = np.random.normal(10, 1, size=100)\n",
    "    pvalues.append(scipy.stats.ttest_ind(data_fst, data_snd).pvalue)\n",
    "    \n",
    "plt.hist(pvalues)\n",
    "plt.show()"
   ]
  },
  {
   "cell_type": "markdown",
   "metadata": {},
   "source": [
    "Корректность критерия"
   ]
  },
  {
   "cell_type": "code",
   "execution_count": 83,
   "metadata": {
    "scrolled": true
   },
   "outputs": [
    {
     "name": "stdout",
     "output_type": "stream",
     "text": [
      "0.05\n"
     ]
    }
   ],
   "source": [
    "bad_pvalues = []\n",
    "for _ in range(10000):\n",
    "    data_fst = np.random.normal(10, 10, size=100)\n",
    "    data_snd = np.random.normal(10, 1, size=100)\n",
    "    bad_pvalues.append(scipy.stats.ttest_ind(data_fst, data_snd).pvalue < 0.05)\n",
    "    \n",
    "print(np.mean(bad_pvalues))"
   ]
  },
  {
   "cell_type": "markdown",
   "metadata": {},
   "source": [
    "Мощность критерия"
   ]
  },
  {
   "cell_type": "code",
   "execution_count": 84,
   "metadata": {},
   "outputs": [
    {
     "name": "stdout",
     "output_type": "stream",
     "text": [
      "0.1596\n"
     ]
    },
    {
     "data": {
      "image/png": "[encoded data removed]",
      "text/plain": [
       "<matplotlib.figure.Figure at 0x305ace9b70>"
      ]
     },
     "metadata": {},
     "output_type": "display_data"
    }
   ],
   "source": [
    "pvalues = []\n",
    "for _ in range(10000):\n",
    "    data_fst = np.random.normal(11, 10, size=100)\n",
    "    data_snd = np.random.normal(10, 1, size=100)\n",
    "    pvalues.append(scipy.stats.ttest_ind(data_fst, data_snd).pvalue)\n",
    "    \n",
    "print((np.array(pvalues) < 0.05).mean())\n",
    "plt.hist(pvalues)\n",
    "plt.show()"
   ]
  },
  {
   "cell_type": "markdown",
   "metadata": {},
   "source": [
    "Усилим различие"
   ]
  },
  {
   "cell_type": "code",
   "execution_count": 85,
   "metadata": {},
   "outputs": [
    {
     "name": "stdout",
     "output_type": "stream",
     "text": [
      "0.5085\n"
     ]
    },
    {
     "data": {
      "image/png": "[encoded data removed]",
      "text/plain": [
       "<matplotlib.figure.Figure at 0x304f85f4a8>"
      ]
     },
     "metadata": {},
     "output_type": "display_data"
    }
   ],
   "source": [
    "pvalues = []\n",
    "for _ in range(10000):\n",
    "    data_fst = np.random.normal(12, 10, size=100)\n",
    "    data_snd = np.random.normal(10, 1, size=100)\n",
    "    pvalues.append(scipy.stats.ttest_ind(data_fst, data_snd).pvalue)\n",
    "    \n",
    "print((np.array(pvalues) < 0.05).mean())\n",
    "plt.hist(pvalues)\n",
    "plt.show()"
   ]
  },
  {
   "cell_type": "markdown",
   "metadata": {},
   "source": [
    "Увеличим выборку"
   ]
  },
  {
   "cell_type": "code",
   "execution_count": 89,
   "metadata": {},
   "outputs": [
    {
     "name": "stdout",
     "output_type": "stream",
     "text": [
      "0.6012\n"
     ]
    },
    {
     "data": {
      "image/png": "[encoded data removed]",
      "text/plain": [
       "<matplotlib.figure.Figure at 0x304f936390>"
      ]
     },
     "metadata": {},
     "output_type": "display_data"
    }
   ],
   "source": [
    "pvalues = []\n",
    "for _ in range(10000):\n",
    "    data_fst = np.random.normal(11, 10, size=1000)\n",
    "    data_snd = np.random.normal(10, 10, size=1000)\n",
    "    pvalues.append(scipy.stats.ttest_ind(data_fst, data_snd).pvalue)\n",
    "    \n",
    "print((np.array(pvalues) < 0.05).mean())\n",
    "plt.hist(pvalues)\n",
    "plt.show()"
   ]
  },
  {
   "cell_type": "code",
   "execution_count": null,
   "metadata": {},
   "outputs": [],
   "source": []
  },
  {
   "cell_type": "markdown",
   "metadata": {},
   "source": [
    "# Перестановочные тесты"
   ]
  },
  {
   "cell_type": "code",
   "execution_count": 95,
   "metadata": {},
   "outputs": [],
   "source": [
    "def my_test(data_fst, data_snd, iters=1000, plot=True):\n",
    "    data = np.array(list(data_fst) + list(data_snd))\n",
    "    size = len(data)\n",
    "    values = []\n",
    "    fst_ratio = len(data_fst) * 1. / size\n",
    "    for _ in range(iters):\n",
    "        mask = (np.random.random(size=size) < fst_ratio)\n",
    "        values.append(data[mask].mean() - data[~mask].mean())\n",
    "        \n",
    "    if plot:\n",
    "        plt.hist(values, bins=30)\n",
    "        plt.show()\n",
    "        \n",
    "    return (np.abs(values) > np.abs(data_fst.mean() - data_snd.mean())).mean()"
   ]
  },
  {
   "cell_type": "markdown",
   "metadata": {},
   "source": [
    "### Корректно ли такое применение?"
   ]
  },
  {
   "cell_type": "code",
   "execution_count": 96,
   "metadata": {},
   "outputs": [
    {
     "name": "stdout",
     "output_type": "stream",
     "text": [
      "0.3573479958157092\n"
     ]
    },
    {
     "data": {
      "image/png": "[encoded data removed]",
      "text/plain": [
       "<matplotlib.figure.Figure at 0x304f9b3550>"
      ]
     },
     "metadata": {},
     "output_type": "display_data"
    },
    {
     "name": "stdout",
     "output_type": "stream",
     "text": [
      "0.1\n"
     ]
    },
    {
     "data": {
      "image/png": "[encoded data removed]",
      "text/plain": [
       "<matplotlib.figure.Figure at 0x304f9b31d0>"
      ]
     },
     "metadata": {},
     "output_type": "display_data"
    },
    {
     "name": "stdout",
     "output_type": "stream",
     "text": [
      "0.38\n"
     ]
    },
    {
     "data": {
      "image/png": "[encoded data removed]",
      "text/plain": [
       "<matplotlib.figure.Figure at 0x305ab22550>"
      ]
     },
     "metadata": {},
     "output_type": "display_data"
    },
    {
     "name": "stdout",
     "output_type": "stream",
     "text": [
      "0.371\n"
     ]
    },
    {
     "data": {
      "image/png": "[encoded data removed]",
      "text/plain": [
       "<matplotlib.figure.Figure at 0x305aa59eb8>"
      ]
     },
     "metadata": {},
     "output_type": "display_data"
    },
    {
     "name": "stdout",
     "output_type": "stream",
     "text": [
      "0.3616\n"
     ]
    }
   ],
   "source": [
    "data_fst = np.random.normal(0, 10, size=100)\n",
    "data_snd = np.random.normal(0, 1, size=100)\n",
    "\n",
    "print(scipy.stats.ttest_ind(data_fst, data_snd).pvalue)\n",
    "print(my_test(data_fst, data_snd, iters=10))\n",
    "print(my_test(data_fst, data_snd, iters=100))\n",
    "print(my_test(data_fst, data_snd, iters=1000))\n",
    "print(my_test(data_fst, data_snd, iters=10000))"
   ]
  },
  {
   "cell_type": "code",
   "execution_count": 97,
   "metadata": {},
   "outputs": [
    {
     "name": "stdout",
     "output_type": "stream",
     "text": [
      "0.17893827619189712\n"
     ]
    },
    {
     "data": {
      "image/png": "[encoded data removed]",
      "text/plain": [
       "<matplotlib.figure.Figure at 0x304f8339e8>"
      ]
     },
     "metadata": {},
     "output_type": "display_data"
    },
    {
     "name": "stdout",
     "output_type": "stream",
     "text": [
      "0.1\n"
     ]
    },
    {
     "data": {
      "image/png": "[encoded data removed]",
      "text/plain": [
       "<matplotlib.figure.Figure at 0x304f772e48>"
      ]
     },
     "metadata": {},
     "output_type": "display_data"
    },
    {
     "name": "stdout",
     "output_type": "stream",
     "text": [
      "0.17\n"
     ]
    },
    {
     "data": {
      "image/png": "[encoded data removed]",
      "text/plain": [
       "<matplotlib.figure.Figure at 0x304f89f278>"
      ]
     },
     "metadata": {},
     "output_type": "display_data"
    },
    {
     "name": "stdout",
     "output_type": "stream",
     "text": [
      "0.16\n"
     ]
    },
    {
     "data": {
      "image/png": "[encoded data removed]",
      "text/plain": [
       "<matplotlib.figure.Figure at 0x304f7795c0>"
      ]
     },
     "metadata": {},
     "output_type": "display_data"
    },
    {
     "name": "stdout",
     "output_type": "stream",
     "text": [
      "0.1808\n"
     ]
    }
   ],
   "source": [
    "data_fst = np.random.normal(0, 10, size=100)\n",
    "data_snd = np.random.normal(1, 1, size=100)\n",
    "\n",
    "print(scipy.stats.ttest_ind(data_fst, data_snd).pvalue)\n",
    "print(my_test(data_fst, data_snd, iters=10))\n",
    "print(my_test(data_fst, data_snd, iters=100))\n",
    "print(my_test(data_fst, data_snd, iters=1000))\n",
    "print(my_test(data_fst, data_snd, iters=10000))"
   ]
  },
  {
   "cell_type": "markdown",
   "metadata": {},
   "source": [
    "К сожалению нет :("
   ]
  },
  {
   "cell_type": "markdown",
   "metadata": {},
   "source": [
    "Давайте в этом убедимся :("
   ]
  },
  {
   "cell_type": "code",
   "execution_count": 111,
   "metadata": {},
   "outputs": [
    {
     "name": "stdout",
     "output_type": "stream",
     "text": [
      "0.001\n"
     ]
    }
   ],
   "source": [
    "hits = 0.\n",
    "count = 0.\n",
    "\n",
    "for _ in range(1000):\n",
    "    data_fst = np.random.normal(11, 10, size=1000)\n",
    "    data_snd = np.random.normal(10, 1, size=100)\n",
    "\n",
    "    count += 1\n",
    "    if my_test(data_fst, data_snd, plot=False, iters=1000) < 0.05:\n",
    "        hits += 1\n",
    "\n",
    "print(hits / count)"
   ]
  },
  {
   "cell_type": "code",
   "execution_count": 112,
   "metadata": {},
   "outputs": [
    {
     "name": "stdout",
     "output_type": "stream",
     "text": [
      "0.0\n"
     ]
    }
   ],
   "source": [
    "hits = 0.\n",
    "count = 0.\n",
    "\n",
    "for _ in range(1000):\n",
    "    data_fst = np.random.normal(10, 10, size=1000)\n",
    "    data_snd = np.random.normal(10, 1, size=100)\n",
    "\n",
    "    count += 1\n",
    "    if my_test(data_fst, data_snd, plot=False, iters=1000) < 0.05:\n",
    "        hits += 1\n",
    "\n",
    "print(hits / count)"
   ]
  },
  {
   "cell_type": "code",
   "execution_count": null,
   "metadata": {},
   "outputs": [],
   "source": []
  },
  {
   "cell_type": "code",
   "execution_count": null,
   "metadata": {},
   "outputs": [],
   "source": []
  },
  {
   "cell_type": "markdown",
   "metadata": {},
   "source": [
    "Как с Мана-Уитни, нулевая гипотеза это что распределения совпадают"
   ]
  },
  {
   "cell_type": "code",
   "execution_count": 115,
   "metadata": {},
   "outputs": [
    {
     "name": "stdout",
     "output_type": "stream",
     "text": [
      "1.0\n"
     ]
    }
   ],
   "source": [
    "hits = 0.\n",
    "count = 0.\n",
    "\n",
    "for _ in range(1000):\n",
    "    data_fst = np.random.normal(11, 1, size=100)\n",
    "    data_snd = np.random.normal(10, 1, size=100)\n",
    "\n",
    "    count += 1\n",
    "    if my_test(data_fst, data_snd, plot=False, iters=1000) < 0.05:\n",
    "        hits += 1\n",
    "\n",
    "print(hits / count)"
   ]
  },
  {
   "cell_type": "code",
   "execution_count": 116,
   "metadata": {},
   "outputs": [
    {
     "name": "stdout",
     "output_type": "stream",
     "text": [
      "0.044\n"
     ]
    }
   ],
   "source": [
    "hits = 0.\n",
    "count = 0.\n",
    "\n",
    "for _ in range(1000):\n",
    "    data_fst = np.random.normal(10, 1, size=100)\n",
    "    data_snd = np.random.normal(10, 1, size=100)\n",
    "\n",
    "    count += 1\n",
    "    if my_test(data_fst, data_snd, plot=False, iters=1000) < 0.05:\n",
    "        hits += 1\n",
    "\n",
    "print(hits / count)"
   ]
  },
  {
   "cell_type": "markdown",
   "metadata": {},
   "source": [
    "Вот это уже неплохо"
   ]
  },
  {
   "cell_type": "code",
   "execution_count": null,
   "metadata": {},
   "outputs": [],
   "source": []
  },
  {
   "cell_type": "code",
   "execution_count": null,
   "metadata": {},
   "outputs": [],
   "source": []
  },
  {
   "cell_type": "markdown",
   "metadata": {},
   "source": [
    "# Bootstap"
   ]
  },
  {
   "cell_type": "code",
   "execution_count": 117,
   "metadata": {},
   "outputs": [],
   "source": [
    "def my_bootstrap(data_fst, data_snd, iters=1000, plot=True):\n",
    "    values = []\n",
    "    for _ in range(iters):\n",
    "        values.append(\n",
    "            np.random.choice(data_fst, replace=True, size=len(data_fst)).mean()\n",
    "            -\n",
    "            np.random.choice(data_snd, replace=True, size=len(data_snd)).mean()\n",
    "        )\n",
    "        \n",
    "    if plot:\n",
    "        plt.hist(values, bins=30)\n",
    "        plt.show()\n",
    "        \n",
    "    return np.percentile(values, [2.5, 97.5])"
   ]
  },
  {
   "cell_type": "code",
   "execution_count": 118,
   "metadata": {},
   "outputs": [
    {
     "name": "stdout",
     "output_type": "stream",
     "text": [
      "0.8262757232428711\n"
     ]
    },
    {
     "data": {
      "image/png": "[encoded data removed]",
      "text/plain": [
       "<matplotlib.figure.Figure at 0x304f790588>"
      ]
     },
     "metadata": {},
     "output_type": "display_data"
    },
    {
     "name": "stdout",
     "output_type": "stream",
     "text": [
      "[-0.45135578  0.86128106]\n"
     ]
    }
   ],
   "source": [
    "data_fst = np.random.normal(0, 10, size=1000)\n",
    "data_snd = np.random.normal(0, 1, size=100)\n",
    "\n",
    "print(scipy.stats.ttest_ind(data_fst, data_snd).pvalue)\n",
    "print(my_bootstrap(data_fst, data_snd, iters=1000, plot=True))"
   ]
  },
  {
   "cell_type": "code",
   "execution_count": 125,
   "metadata": {},
   "outputs": [
    {
     "name": "stdout",
     "output_type": "stream",
     "text": [
      "0.30969428656927883\n"
     ]
    },
    {
     "data": {
      "image/png": "[encoded data removed]",
      "text/plain": [
       "<matplotlib.figure.Figure at 0x305af25cc0>"
      ]
     },
     "metadata": {},
     "output_type": "display_data"
    },
    {
     "name": "stdout",
     "output_type": "stream",
     "text": [
      "[0.3554814  1.70220538]\n"
     ]
    }
   ],
   "source": [
    "data_fst = np.random.normal(1, 10, size=1000)\n",
    "data_snd = np.random.normal(0, 1, size=100)\n",
    "\n",
    "print(scipy.stats.ttest_ind(data_fst, data_snd).pvalue)\n",
    "print(my_bootstrap(data_fst, data_snd, iters=1000, plot=True))"
   ]
  },
  {
   "cell_type": "code",
   "execution_count": null,
   "metadata": {},
   "outputs": [],
   "source": []
  },
  {
   "cell_type": "code",
   "execution_count": null,
   "metadata": {},
   "outputs": [],
   "source": []
  },
  {
   "cell_type": "code",
   "execution_count": 126,
   "metadata": {},
   "outputs": [
    {
     "name": "stdout",
     "output_type": "stream",
     "text": [
      "0.867\n"
     ]
    }
   ],
   "source": [
    "hits = 0.\n",
    "count = 0.\n",
    "\n",
    "for _ in range(1000):\n",
    "    data_fst = np.random.normal(11, 10, size=1000)\n",
    "    data_snd = np.random.normal(10, 1, size=100)\n",
    "\n",
    "    lower, upper = my_bootstrap(data_fst, data_snd, plot=False, iters=1000)\n",
    "    count += 1\n",
    "    if not (lower < 0 < upper):\n",
    "        hits += 1\n",
    "\n",
    "print(hits / count)"
   ]
  },
  {
   "cell_type": "code",
   "execution_count": 127,
   "metadata": {},
   "outputs": [
    {
     "name": "stdout",
     "output_type": "stream",
     "text": [
      "0.053\n"
     ]
    }
   ],
   "source": [
    "hits = 0.\n",
    "count = 0.\n",
    "\n",
    "for _ in range(1000):\n",
    "    data_fst = np.random.normal(10, 10, size=1000)\n",
    "    data_snd = np.random.normal(10, 1, size=100)\n",
    "\n",
    "    lower, upper = my_bootstrap(data_fst, data_snd, plot=False, iters=1000)\n",
    "    count += 1\n",
    "    if not (lower < 0 < upper):\n",
    "        hits += 1\n",
    "\n",
    "print(hits / count)"
   ]
  },
  {
   "cell_type": "code",
   "execution_count": null,
   "metadata": {},
   "outputs": [],
   "source": []
  },
  {
   "cell_type": "code",
   "execution_count": null,
   "metadata": {},
   "outputs": [],
   "source": []
  },
  {
   "cell_type": "markdown",
   "metadata": {},
   "source": [
    "# Задание\n",
    "\n",
    "1. Проверьте как будет работать ЦПТ для для бернулевских (scipy.stats.bernoulli) на маленьких выборках (до 10 элементов). Можно ли в этом случае более точно нулевое распределение подсчитать?\n",
    "2. Протестируйте bootstrap (мощность и корректность), но добавьте в первую выборку два выброса - [-1000000, -1000000]. Сравните с поведением перестановочного теста в той же ситуации. Почему так получается?"
   ]
  },
  {
   "cell_type": "code",
   "execution_count": 141,
   "metadata": {},
   "outputs": [],
   "source": [
    "from ggplot import *"
   ]
  },
  {
   "cell_type": "code",
   "execution_count": 142,
   "metadata": {},
   "outputs": [],
   "source": [
    "import pandas as pd\n",
    "x = pd.DataFrame({'A': np.random.normal(0, 1, 100),'B':np.random.normal(1, 1, 100),'C':np.random.binomial(1, 0.5, 100)})"
   ]
  },
  {
   "cell_type": "code",
   "execution_count": 151,
   "metadata": {},
   "outputs": [
    {
     "data": {
      "image/png": "[encoded data removed]",
      "text/plain": [
       "<matplotlib.figure.Figure at 0x305c36fc50>"
      ]
     },
     "metadata": {},
     "output_type": "display_data"
    },
    {
     "data": {
      "text/plain": [
       "<ggplot: (12981659207)>"
      ]
     },
     "execution_count": 151,
     "metadata": {},
     "output_type": "execute_result"
    }
   ],
   "source": [
    "ggplot(x, aes(x = 'A'))+ \\\n",
    "    geom_histogram(binwidth =0.5,\n",
    "                   color = \"blue\", fill = \"lightblue\")+\\\n",
    "    xlab(\"Heights\")+\\\n",
    "    ggtitle(\"Histogram of A with bindwith=\" +str(0.5)) + \\\n",
    "    facet_wrap('C')"
   ]
  },
  {
   "cell_type": "code",
   "execution_count": null,
   "metadata": {},
   "outputs": [
    {
     "name": "stdout",
     "output_type": "stream",
     "text": [
      "A\n"
     ]
    },
    {
     "data": {
      "image/png": "[encoded data removed]",
      "text/plain": [
       "<matplotlib.figure.Figure at 0x305bd9acc0>"
      ]
     },
     "metadata": {},
     "output_type": "display_data"
    },
    {
     "name": "stdout",
     "output_type": "stream",
     "text": [
      "<ggplot: (-9223372023873491831)>\n",
      "B\n"
     ]
    },
    {
     "data": {
      "image/png": "[encoded data removed]",
      "text/plain": [
       "<matplotlib.figure.Figure at 0x305baa5e10>"
      ]
     },
     "metadata": {},
     "output_type": "display_data"
    },
    {
     "name": "stdout",
     "output_type": "stream",
     "text": [
      "<ggplot: (12981571462)>\n"
     ]
    }
   ],
   "source": [
    "for col in [ x for x in x.columns if x != 'C']:\n",
    "    plot = ggplot(x, aes(x = col))+ \\\n",
    "            geom_histogram(binwidth =0.5,\n",
    "                           color = \"blue\", fill = \"lightblue\")+\\\n",
    "            xlab(\"Heights\")+\\\n",
    "            ggtitle(\"Histogram of % col with bindwith=\" +str(0.5)) + \\\n",
    "            facet_wrap('C')\n",
    "    print(col)\n",
    "    print(plot);"
   ]
  },
  {
   "cell_type": "code",
   "execution_count": 150,
   "metadata": {},
   "outputs": [
    {
     "data": {
      "text/plain": [
       "0     0.423675\n",
       "1    -0.228684\n",
       "2    -0.384947\n",
       "3     0.279712\n",
       "4     0.926427\n",
       "5     1.274102\n",
       "6    -0.166700\n",
       "7     1.279317\n",
       "8    -0.903428\n",
       "9    -0.603377\n",
       "10    0.994094\n",
       "11    0.009007\n",
       "12    0.117528\n",
       "13    0.820151\n",
       "14    1.318079\n",
       "15    0.688024\n",
       "16   -0.357411\n",
       "17   -0.521955\n",
       "18    1.228907\n",
       "19   -0.685158\n",
       "20    0.881579\n",
       "21   -0.457819\n",
       "22   -0.652129\n",
       "23    0.227379\n",
       "24    0.893709\n",
       "25   -0.435647\n",
       "26   -1.025362\n",
       "27    0.284803\n",
       "28    0.680731\n",
       "29    1.291205\n",
       "        ...   \n",
       "70   -0.729270\n",
       "71   -0.565230\n",
       "72   -1.214371\n",
       "73    1.474885\n",
       "74   -0.945727\n",
       "75    0.022541\n",
       "76    0.021181\n",
       "77   -0.211508\n",
       "78    0.197394\n",
       "79   -1.062319\n",
       "80   -0.670394\n",
       "81    0.322113\n",
       "82    0.390401\n",
       "83    0.802029\n",
       "84   -0.805042\n",
       "85   -0.315443\n",
       "86   -0.860040\n",
       "87   -1.191460\n",
       "88   -0.388509\n",
       "89   -0.891768\n",
       "90    0.068216\n",
       "91   -1.309519\n",
       "92    0.628186\n",
       "93   -0.407279\n",
       "94    0.429711\n",
       "95   -1.204552\n",
       "96   -0.811601\n",
       "97   -0.675322\n",
       "98   -0.316134\n",
       "99    0.511814\n",
       "Name: A, Length: 100, dtype: float64"
      ]
     },
     "execution_count": 150,
     "metadata": {},
     "output_type": "execute_result"
    }
   ],
   "source": [
    "col = 'A'\n",
    "df = x[col]\n",
    "df"
   ]
  },
  {
   "cell_type": "code",
   "execution_count": null,
   "metadata": {},
   "outputs": [],
   "source": []
  },
  {
   "cell_type": "code",
   "execution_count": 4,
   "metadata": {},
   "outputs": [],
   "source": [
    "# средние значение двух распределений\n",
    "mu_c = 0.1\n",
    "mu_t = 0.6\n",
    "\n",
    "# дисперсии двух распределений\n",
    "s_c = 0.25\n",
    "s_t = 0.3\n",
    "\n",
    "# порог: наблюдая значение исследуемой величины выше этого порога,\n",
    "# мы относим ее к синему распределению\n",
    "c = 1.3*(mu_c + mu_t)/2"
   ]
  },
  {
   "cell_type": "code",
   "execution_count": 10,
   "metadata": {},
   "outputs": [
    {
     "data": {
      "image/png": "[encoded data removed]",
      "text/plain": [
       "<matplotlib.figure.Figure at 0xe13655ef28>"
      ]
     },
     "metadata": {},
     "output_type": "display_data"
    }
   ],
   "source": [
    "from scipy import stats\n",
    "\n",
    "support = np.linspace(\n",
    "    stats.norm.ppf(0.0001, loc=mu_c, scale=s_c), \n",
    "    stats.norm.ppf(1 - 0.0005, loc=mu_t, scale=s_t), 1000)\n",
    "y1 = stats.norm.pdf(support, loc=mu_c, scale=s_c)\n",
    "y2 = stats.norm.pdf(support, loc=mu_t, scale=s_t)\n",
    "\n",
    "fig, ax = plt.subplots()\n",
    "ax.plot(support, y1, color='r', label='y1: control')\n",
    "ax.plot(support, y2, color='b', label='y2: treatment')\n",
    "ax.set_ylim(0, 1.1*np.max([\n",
    "            stats.norm.pdf(mu_c, loc=mu_c, scale=s_c),\n",
    "            stats.norm.pdf(mu_t, loc=mu_t, scale=s_t)\n",
    "        ]))\n",
    "ax.axvline(c, color='g', label='c: critical value')\n",
    "ax.axvline(mu_c, color='r', alpha=0.3, linestyle='--', label='mu_c')\n",
    "ax.axvline(mu_t, color='b', alpha=0.3, linestyle='--', label='mu_t')\n",
    "ax.fill_between(support[support <= c], \n",
    "                y2[support <= c], \n",
    "                color='b', alpha=0.2, label='b: power')\n",
    "ax.fill_between(support[support >= c], \n",
    "                y1[support >= c], \n",
    "                color='r', alpha=0.2, label='a: significance')\n",
    "\n",
    "ax.legend(loc='upper right', prop={'size': 20})\n",
    "ax.set_title('A/B test setup for sample size estimation', fontsize=20)\n",
    "ax.set_xlabel('Values')\n",
    "ax.set_ylabel('Propabilities')\n",
    "\n",
    "plt.show()"
   ]
  },
  {
   "cell_type": "code",
   "execution_count": 14,
   "metadata": {},
   "outputs": [
    {
     "name": "stdout",
     "output_type": "stream",
     "text": [
      "2269319\n",
      "0.0010488100921540345\n"
     ]
    }
   ],
   "source": [
    "def get_size(theta_c, theta_t, alpha, beta):\n",
    "    # вычисляем квантили нормального распределения\n",
    "    t_alpha = stats.norm.ppf(1 - alpha, loc=0, scale=1)\n",
    "    t_beta = stats.norm.ppf(beta, loc=0, scale=1)\n",
    "    # решаем уравнение относительно n\n",
    "    n = t_alpha*np.sqrt(theta_t*(1 - theta_t))\n",
    "    n -= t_beta*np.sqrt(theta_c*(1 - theta_c))\n",
    "    n /= theta_c - theta_t\n",
    "    return int(np.ceil(n*n))\n",
    "\n",
    "n_max = get_size(0.001, 0.0011, 0.01, 0.01)\n",
    "print(n_max)\n",
    "# выводим порог, выше которого отклоняется H_0\n",
    "print(0.001 + stats.norm.ppf(1 - 0.01, loc=0, scale=1)*np.sqrt(0.001*(1 - 0.001)/n_max))"
   ]
  },
  {
   "cell_type": "code",
   "execution_count": 16,
   "metadata": {},
   "outputs": [
    {
     "name": "stdout",
     "output_type": "stream",
     "text": [
      "142 0.3632546900426729\n"
     ]
    },
    {
     "ename": "TypeError",
     "evalue": "unsupported operand type(s) for +: 'range' and 'list'",
     "output_type": "error",
     "traceback": [
      "\u001b[1;31m---------------------------------------------------------------------------\u001b[0m",
      "\u001b[1;31mTypeError\u001b[0m                                 Traceback (most recent call last)",
      "\u001b[1;32m<ipython-input-16-bf0930655d6a>\u001b[0m in \u001b[0;36m<module>\u001b[1;34m()\u001b[0m\n\u001b[0;32m     61\u001b[0m         \u001b[0mplt\u001b[0m\u001b[1;33m.\u001b[0m\u001b[0mclose\u001b[0m\u001b[1;33m(\u001b[0m\u001b[0mfig\u001b[0m\u001b[1;33m)\u001b[0m\u001b[1;33m\u001b[0m\u001b[0m\n\u001b[0;32m     62\u001b[0m \u001b[1;33m\u001b[0m\u001b[0m\n\u001b[1;32m---> 63\u001b[1;33m \u001b[0mplot_sample_size_frames\u001b[0m\u001b[1;33m(\u001b[0m\u001b[0mdo_dorm\u001b[0m\u001b[1;33m=\u001b[0m\u001b[1;32mTrue\u001b[0m\u001b[1;33m,\u001b[0m \u001b[0mwidth\u001b[0m\u001b[1;33m=\u001b[0m\u001b[1;36m0.5\u001b[0m\u001b[1;33m,\u001b[0m \u001b[0mheight\u001b[0m\u001b[1;33m=\u001b[0m\u001b[1;36m1.1\u001b[0m\u001b[1;33m)\u001b[0m\u001b[1;33m\u001b[0m\u001b[0m\n\u001b[0m\u001b[0;32m     64\u001b[0m \u001b[0mplot_sample_size_frames\u001b[0m\u001b[1;33m(\u001b[0m\u001b[0mdo_dorm\u001b[0m \u001b[1;33m=\u001b[0m \u001b[1;32mFalse\u001b[0m\u001b[1;33m,\u001b[0m \u001b[0mwidth\u001b[0m\u001b[1;33m=\u001b[0m\u001b[1;36m1\u001b[0m\u001b[1;33m,\u001b[0m \u001b[0mheight\u001b[0m\u001b[1;33m=\u001b[0m\u001b[1;36m2.5\u001b[0m\u001b[1;33m)\u001b[0m\u001b[1;33m\u001b[0m\u001b[0m\n\u001b[0;32m     65\u001b[0m \u001b[1;33m\u001b[0m\u001b[0m\n",
      "\u001b[1;32m<ipython-input-16-bf0930655d6a>\u001b[0m in \u001b[0;36mplot_sample_size_frames\u001b[1;34m(do_dorm, width, height)\u001b[0m\n\u001b[0;32m     14\u001b[0m     \u001b[0mright_x\u001b[0m \u001b[1;33m=\u001b[0m \u001b[0mc\u001b[0m \u001b[1;33m+\u001b[0m \u001b[0mwidth\u001b[0m\u001b[1;33m\u001b[0m\u001b[0m\n\u001b[0;32m     15\u001b[0m \u001b[1;33m\u001b[0m\u001b[0m\n\u001b[1;32m---> 16\u001b[1;33m     \u001b[0mn_list\u001b[0m \u001b[1;33m=\u001b[0m \u001b[0mrange\u001b[0m\u001b[1;33m(\u001b[0m\u001b[1;36m5\u001b[0m\u001b[1;33m,\u001b[0m \u001b[0mn_max\u001b[0m\u001b[1;33m,\u001b[0m \u001b[1;36m1\u001b[0m\u001b[1;33m)\u001b[0m \u001b[1;33m+\u001b[0m \u001b[1;33m[\u001b[0m\u001b[0mn_max\u001b[0m\u001b[1;33m]\u001b[0m\u001b[1;33m\u001b[0m\u001b[0m\n\u001b[0m\u001b[0;32m     17\u001b[0m     for f in glob.glob(\"./../images/sample_size_gif/*_%s.*\" % \n\u001b[0;32m     18\u001b[0m                        ('normed' if do_dorm else 'real')):\n",
      "\u001b[1;31mTypeError\u001b[0m: unsupported operand type(s) for +: 'range' and 'list'"
     ]
    }
   ],
   "source": [
    "np.random.seed(1342)\n",
    "\n",
    "p_c = 0.3 \n",
    "p_t = 0.4\n",
    "alpha = 0.05\n",
    "beta = 0.2\n",
    "\n",
    "n_max = get_size(p_c, p_t, alpha, beta)\n",
    "c = p_c + stats.norm.ppf(1 - alpha, loc=0, scale=1)*np.sqrt(p_c*(1 - p_c)/n_max)\n",
    "print (n_max, c)\n",
    "\n",
    "def plot_sample_size_frames(do_dorm, width, height):\n",
    "    left_x = c - width\n",
    "    right_x = c + width\n",
    "\n",
    "    n_list = range(5, n_max, 1) + [n_max]\n",
    "    for f in glob.glob(\"./../images/sample_size_gif/*_%s.*\" % \n",
    "                       ('normed' if do_dorm else 'real')):\n",
    "        os.remove(f)\n",
    "    for n in tqdm_notebook(n_list):\n",
    "        s_c = np.sqrt(p_c*(1 - p_c)/n)\n",
    "        s_t = np.sqrt(p_t*(1 - p_t)/n)\n",
    "\n",
    "        c_c = p_c + stats.norm.ppf(1 - alpha, loc=0, scale=1)*s_c\n",
    "        c_t = p_t + stats.norm.ppf(beta, loc=0, scale=1)*s_t\n",
    "\n",
    "        support = np.linspace(left_x, right_x, 1000)\n",
    "        y_c = stats.norm.pdf(support, loc=p_c, scale=s_c)\n",
    "        y_t = stats.norm.pdf(support, loc=p_t, scale=s_t)\n",
    "        if do_dorm:\n",
    "            y_c /= max(y_c.max(), y_t.max())\n",
    "            y_t /= max(y_c.max(), y_t.max())\n",
    "\n",
    "        fig, ax = plt.subplots()\n",
    "        ax.plot(support, y_c, color='r', label='y control')\n",
    "        ax.plot(support, y_t, color='b', label='y treatment')\n",
    "\n",
    "        ax.set_ylim(0, height)\n",
    "        ax.set_xlim(left_x, right_x)\n",
    "\n",
    "        ax.axvline(c, color='g', label='c')\n",
    "        ax.axvline(c_c, color='m', label='c_c')\n",
    "        ax.axvline(c_t, color='c', label='c_p')\n",
    "        ax.axvline(p_c, color='r', alpha=0.3, linestyle='--', label='p_c')\n",
    "        ax.axvline(p_t, color='b', alpha=0.3, linestyle='--', label='p_t')\n",
    "\n",
    "        ax.fill_between(support[support <= c_t], \n",
    "                        y_t[support <= c_t], \n",
    "                        color='b', alpha=0.2, label='b: power')\n",
    "        ax.fill_between(support[support >= c_c], \n",
    "                        y_c[support >= c_c], \n",
    "                        color='r', alpha=0.2, label='a: significance')\n",
    "\n",
    "        ax.legend(loc='upper right', prop={'size': 20})\n",
    "\n",
    "        ax.set_title('Sample size: %i' % n, fontsize=20)\n",
    "\n",
    "        fig.savefig('./../images/sample_size_gif/%i_%s.png' % \n",
    "                    (n, 'normed' if do_dorm else 'real'), dpi=80)\n",
    "\n",
    "        plt.close(fig)\n",
    "\n",
    "plot_sample_size_frames(do_dorm=True, width=0.5, height=1.1)\n",
    "plot_sample_size_frames(do_dorm = False, width=1, height=2.5)\n",
    "\n",
    "!convert -delay 5 $(for i in $(seq 5 1 142); do echo ./../images/sample_size_gif/${i}_normed.png; done) -loop 0 ./../images/sample_size_gif/sample_size_normed.gif\n",
    "for f in glob.glob(\"./../images/sample_size_gif/*_normed.png\"):\n",
    "    os.remove(f)\n",
    "\n",
    "!convert -delay 5 $(for i in $(seq 5 1 142); do echo ./../images/sample_size_gif/${i}_real.png; done) -loop 0 ./../images/sample_size_gif/sample_size_real.gif\n",
    "for f in glob.glob(\"./../images/sample_size_gif/*_real.png\"):\n",
    "    os.remove(f)"
   ]
  },
  {
   "cell_type": "code",
   "execution_count": null,
   "metadata": {},
   "outputs": [],
   "source": []
  }
 ],
 "metadata": {
  "kernelspec": {
   "display_name": "Python 3",
   "language": "python",
   "name": "python3"
  },
  "language_info": {
   "codemirror_mode": {
    "name": "ipython",
    "version": 3
   },
   "file_extension": ".py",
   "mimetype": "text/x-python",
   "name": "python",
   "nbconvert_exporter": "python",
   "pygments_lexer": "ipython3",
   "version": "3.6.4"
  }
 },
 "nbformat": 4,
 "nbformat_minor": 2
}
