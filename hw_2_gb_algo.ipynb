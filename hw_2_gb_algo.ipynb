{
 "cells": [
  {
   "cell_type": "code",
   "execution_count": null,
   "metadata": {
    "collapsed": true
   },
   "outputs": [],
   "source": [
    "#coding=utf-8\n",
    "\n",
    "from sklearn.base import BaseEstimator\n",
    "from sklearn.tree import DecisionTreeRegressor\n",
    "import numpy as np\n",
    "\n",
    "\n",
    "# Параметрами с которыми вы хотите обучать деревья\n",
    "TREE_PARAMS_DICT = {'max_depth': 1}\n",
    "# Параметр tau (learning_rate) для вашего GB\n",
    "TAU = 0.05\n",
    "\n",
    "\n",
    "class SimpleGB(BaseEstimator):\n",
    "    def __init__(self, tree_params_dict, iters, tau):\n",
    "        self.tree_params_dict = tree_params_dict\n",
    "        self.iters = iters\n",
    "        self.tau = tau\n",
    "        \n",
    "    def fit(self, X_data, y_data):\n",
    "        self.base_algo = DecisionTreeRegressor(**self.tree_params_dict).fit(X_data, y_data)\n",
    "        self.estimators = []\n",
    "        curr_pred = self.base_algo.predict(X_data)\n",
    "        for iter_num in range(self.iters):\n",
    "            # Нужно посчитать градиент функции потерь\n",
    "            grad = 0. # TODO\n",
    "            # Нужно обучить DecisionTreeRegressor предсказывать антиградиент\n",
    "            # Не забудьте про self.tree_params_dict\n",
    "            algo = DecisionTreeRegressor().fit(X_data, y_data) # TODO\n",
    "\n",
    "            self.estimators.append(algo)\n",
    "            # Обновите предсказания в каждой точке\n",
    "            curr_pred += 0. # TODO\n",
    "        return self\n",
    "    \n",
    "    def predict(self, X_data):\n",
    "        # Предсказание на данных\n",
    "        res = self.base_algo.predict(X_data)\n",
    "        for estimator in self.estimators:\n",
    "            res += self.tau * estimator.predict(X_data)\n",
    "        # Задача классификации, поэтому надо отдавать 0 и 1\n",
    "        return res > 0."
   ]
  }
 ],
 "metadata": {
  "kernelspec": {
   "display_name": "Python 3",
   "language": "python",
   "name": "python3"
  },
  "language_info": {
   "codemirror_mode": {
    "name": "ipython",
    "version": 3
   },
   "file_extension": ".py",
   "mimetype": "text/x-python",
   "name": "python",
   "nbconvert_exporter": "python",
   "pygments_lexer": "ipython3",
   "version": "3.6.4"
  }
 },
 "nbformat": 4,
 "nbformat_minor": 2
}
