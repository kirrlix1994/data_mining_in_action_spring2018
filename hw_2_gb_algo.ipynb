{
 "cells": [
  {
   "cell_type": "code",
   "execution_count": 1,
   "metadata": {},
   "outputs": [
    {
     "ename": "SyntaxError",
     "evalue": "invalid syntax (<ipython-input-1-6f1be6bdbee0>, line 14)",
     "output_type": "error",
     "traceback": [
      "\u001b[1;36m  File \u001b[1;32m\"<ipython-input-1-6f1be6bdbee0>\"\u001b[1;36m, line \u001b[1;32m14\u001b[0m\n\u001b[1;33m    def logloss_der(y,X,theta)\u001b[0m\n\u001b[1;37m                              ^\u001b[0m\n\u001b[1;31mSyntaxError\u001b[0m\u001b[1;31m:\u001b[0m invalid syntax\n"
     ]
    }
   ],
   "source": [
    "#coding=utf-8\n",
    "\n",
    "from sklearn.base import BaseEstimator\n",
    "from sklearn.tree import DecisionTreeRegressor\n",
    "import numpy as np\n",
    "\n",
    "\n",
    "# Параметрами с которыми вы хотите обучать деревья\n",
    "TREE_PARAMS_DICT = {'max_depth': 1}\n",
    "# Параметр tau (learning_rate) для вашего GB\n",
    "TAU = 0.05\n",
    "\n",
    "# binary logloss gradient over theta parametres:\n",
    "def logloss_grad(y,X,theta)\n",
    "    z = np.exp(-np.dot(x,theta))\n",
    "    if y == 1:\n",
    "        return -np.mean([ z/(1+z)*x for x in X])\n",
    "    if y == 0:\n",
    "        return np.mean([ 1/(1+z)*x for x in X])\n",
    "    else:\n",
    "        return -10000\n",
    "        print('Wrong y value: should be 0 or 1')\n",
    "        \n",
    "def xgb_predict(X, algo_list, coeff_list):\n",
    "    return [ np.sum(coeff*algo([x])[0]  for algo, coeff in zip(algo_list, weights_list)) \n",
    "                                        for x in X]\n",
    "\n",
    "class SimpleGB(BaseEstimator):\n",
    "    def __init__(self, tree_params_dict, iters, tau):\n",
    "        self.tree_params_dict = tree_params_dict\n",
    "        self.iters = iters\n",
    "        self.tau = tau\n",
    "        \n",
    "    def fit(self, X_data, y_data):\n",
    "        self.base_algo = DecisionTreeRegressor(**self.tree_params_dict).fit(X_data, y_data)\n",
    "        self.estimators = []\n",
    "        curr_pred = self.base_algo.predict(X_data\n",
    "        for iter_num in range(self.iters):\n",
    "            # Нужно посчитать градиент функции потерь\n",
    "            grad = logloss_grad(y_data, X_data, )\n",
    "            # Нужно обучить DecisionTreeRegressor предсказывать антиградиент\n",
    "            # Не забудьте про self.tree_params_dict\n",
    "            #algo = DecisionTreeRegressor().fit(X_data, y_data) # TODO\n",
    "            algo = DecisionTreeRegressor(**self.tree_params_dict).fit(X_data,-grad)\n",
    "            self.estimators.append(algo)\n",
    "            # Обновите предсказания в каждой точке\n",
    "            curr_pred += DecisionTreeRegressor(**self.tree_params_dict).predict(X_data)\n",
    "        return self\n",
    "    \n",
    "    def predict(self, X_data):\n",
    "        # Предсказание на данных\n",
    "        res = self.base_algo.predict(X_data)\n",
    "        for estimator in self.estimators:\n",
    "            res += self.tau * estimator.predict(X_data)\n",
    "        # Задача классификации, поэтому надо отдавать 0 и 1\n",
    "        return res > 0.5"
   ]
  },
  {
   "cell_type": "code",
   "execution_count": null,
   "metadata": {
    "collapsed": true
   },
   "outputs": [],
   "source": []
  }
 ],
 "metadata": {
  "kernelspec": {
   "display_name": "Python 3",
   "language": "python",
   "name": "python3"
  },
  "language_info": {
   "codemirror_mode": {
    "name": "ipython",
    "version": 3
   },
   "file_extension": ".py",
   "mimetype": "text/x-python",
   "name": "python",
   "nbconvert_exporter": "python",
   "pygments_lexer": "ipython3",
   "version": "3.6.3"
  }
 },
 "nbformat": 4,
 "nbformat_minor": 2
}
